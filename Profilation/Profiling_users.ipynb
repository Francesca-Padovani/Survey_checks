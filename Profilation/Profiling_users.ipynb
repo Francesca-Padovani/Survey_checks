{
 "cells": [
  {
   "cell_type": "code",
   "execution_count": 377,
   "id": "9ff8d3ed",
   "metadata": {},
   "outputs": [],
   "source": [
    "#import libraries \n",
    "import pandas as pd\n",
    "import pyreadstat\n",
    "import numpy as np\n",
    "from sklearn.cluster import KMeans\n",
    "from sklearn.preprocessing import StandardScaler\n",
    "import matplotlib.pyplot as plt\n",
    "import html\n",
    "import plotly as px\n",
    "import plotly.express as px"
   ]
  },
  {
   "cell_type": "code",
   "execution_count": 378,
   "id": "c6c508f7",
   "metadata": {},
   "outputs": [],
   "source": [
    "#open file \n",
    "file = '/Users/utente/Library/CloudStorage/OneDrive-Raccoltecondivise-INTWIGsrl/Archivio - Documenti/Lavori/OMNIBUS/2023/Wave 01/05. Analisi/Profilazione/omnibus_finalefonte_peso con R.sav'\n",
    "df = pd.read_spss(file)"
   ]
  },
  {
   "cell_type": "code",
   "execution_count": 379,
   "id": "ddd19343",
   "metadata": {},
   "outputs": [],
   "source": [
    "#select the columns of your interest \n",
    "columns_of_interest = df.iloc[:, 14:115]\n",
    "ids = df.iloc[:, 0]\n",
    "result = pd.concat([ids, columns_of_interest], axis=1)\n"
   ]
  },
  {
   "cell_type": "code",
   "execution_count": 380,
   "id": "82fc940d",
   "metadata": {},
   "outputs": [],
   "source": [
    "#refactor the aut value\n",
    "result['aut'] = result['aut'].replace([\"Estrema sinistra\", \"Sinistra\", \"Centro sinistra\", \"Centro\", \"Centro destra\", \"Destra\", \"Estrema destra\", \"Non so\"], [1, 2, 3,4, 5,6,7,8])"
   ]
  },
  {
   "cell_type": "code",
   "execution_count": 381,
   "id": "9ca5a37a",
   "metadata": {},
   "outputs": [],
   "source": [
    "#refactor other variable\n",
    "for col in result.columns:\n",
    "    \n",
    "    if 'INDCOL' in col:\n",
    "        variable = 'INDCOL'\n",
    "        result[col] = result[col].replace(['Molto', 'Abbastanza', 'Poco', 'Per niente'], [4, 3, 2,1])\n",
    "        \n",
    "    elif 'CONS' in col:\n",
    "        variable = 'CONS'\n",
    "        result[col] = result[col].replace([\"Molto d'accordo\", \"Abbastanza d'accordo\", \"Non molto d'accordo\", \"Per niente d'accordo\"], [4, 3, 2,1])\n",
    "        \n",
    "    elif 'PERS' in col:\n",
    "        variable = 'PERS'\n",
    "        result[col] = result[col].replace([\"Molto d'accordo\", \"Abbastanza d'accordo\", \"Non molto d'accordo\", \"Per niente d'accordo\"], [4, 3, 2,1])\n",
    "        \n",
    "    elif 'SOC' in col:\n",
    "        variable = 'SOC'\n",
    "        result[col] = result[col].replace([\"Andare a divertirmi nei locali più frequentati.\", \"Uscire con gli amici per bere e mangiare qualcosa insieme.\", \"Rimanere a casa la sera a guardare un film con la mia famiglia, il mio partner o i miei amici.\", \"Andare in posti poco frequentati per godermi di più le persone a cui voglio bene.\", \"Non fare tardi la sera per essere più riposati al mattino.\"], [1, 2, 3,4, 5])\n",
    "        \n",
    "    elif 'spesa1_1' in col or 'spesa1_2'in col:\n",
    "        if col == 'spesa1_1':\n",
    "            variable = 'spesa1_1'\n",
    "            result[variable] = result[variable].replace([\"Supermercato\", 'Negozio di quartiere (es. macellaio, fruttivendolo, ecc.)', 'Online', 'Online con servizio a domicilio', 'Online con opzione di ritiro in loco', 'Online con opzione di ritiro al supermercato', 'Mercato'], [1, 2, 3,3, 4, 4, 5])\n",
    "            result[variable] = result[variable].cat.add_categories([0])\n",
    "            result[variable] = result[variable].fillna(0)\n",
    "            \n",
    "        elif col == 'spesa1_2':\n",
    "            variable = 'spesa1_2'\n",
    "    \n",
    "            result[variable] = result[variable].replace([\"Supermercato\", 'Negozio di quartiere (es. macellaio, fruttivendolo, ecc.)', 'Online', 'Online con servizio a domicilio', 'Online con opzione di ritiro in loco', 'Online con opzione di ritiro al supermercato', 'Mercato'], [1, 2, 3,3, 4, 4, 5])\n",
    "            result[variable] = result[variable].cat.add_categories([0])\n",
    "            result[variable] = result[variable].fillna(0)\n",
    "    \n",
    "    \n",
    "    elif 'T1' in col:\n",
    "        result[col] = result[col].replace([\"Molto d'accordo\", \"Abbastanza d'accordo\", \"Non molto d'accordo\", \"Per niente d'accordo\"], [4, 3, 2,1])\n",
    "        \n",
    "        \n",
    "    elif 'T2' in col:\n",
    "        result[col] = result[col].replace([\"Sì, e l’ho utilizzata\", \"Sì, so cosa è\", \"Ne ho sentito parlare ma non so cosa è\", \"Mai sentito parlare\"], [1,2,3,4])\n",
    "        \n",
    "        \n",
    "        "
   ]
  },
  {
   "cell_type": "code",
   "execution_count": 382,
   "id": "5238669b",
   "metadata": {},
   "outputs": [],
   "source": [
    "#select the final version of the dataset \n",
    "prima = result.iloc[:, :31]\n",
    "rest = pd.concat([result.iloc[:, 49:56], result.iloc[:, 101]], axis = 1)\n",
    "finale = pd.concat([prima, rest], axis=1)\n",
    "finale = finale[finale['aut'] != 8]\n"
   ]
  },
  {
   "cell_type": "code",
   "execution_count": 383,
   "id": "8b15f074",
   "metadata": {},
   "outputs": [
    {
     "data": {
      "text/html": [
       "<div>\n",
       "<style scoped>\n",
       "    .dataframe tbody tr th:only-of-type {\n",
       "        vertical-align: middle;\n",
       "    }\n",
       "\n",
       "    .dataframe tbody tr th {\n",
       "        vertical-align: top;\n",
       "    }\n",
       "\n",
       "    .dataframe thead th {\n",
       "        text-align: right;\n",
       "    }\n",
       "</style>\n",
       "<table border=\"1\" class=\"dataframe\">\n",
       "  <thead>\n",
       "    <tr style=\"text-align: right;\">\n",
       "      <th></th>\n",
       "      <th>id</th>\n",
       "      <th>PERS_1</th>\n",
       "      <th>PERS_2</th>\n",
       "      <th>PERS_3</th>\n",
       "      <th>PERS_4</th>\n",
       "      <th>PERS_5</th>\n",
       "      <th>PERS_6</th>\n",
       "      <th>PERS_7</th>\n",
       "      <th>PERS_8</th>\n",
       "      <th>PERS_9</th>\n",
       "      <th>...</th>\n",
       "      <th>spesa1_1</th>\n",
       "      <th>spesa1_2</th>\n",
       "      <th>T1_1</th>\n",
       "      <th>T1_2</th>\n",
       "      <th>T1_3</th>\n",
       "      <th>T1_4</th>\n",
       "      <th>T1_5</th>\n",
       "      <th>T1_6</th>\n",
       "      <th>T1_7</th>\n",
       "      <th>aut</th>\n",
       "    </tr>\n",
       "  </thead>\n",
       "  <tbody>\n",
       "    <tr>\n",
       "      <th>0</th>\n",
       "      <td>119.0</td>\n",
       "      <td>4</td>\n",
       "      <td>3</td>\n",
       "      <td>3</td>\n",
       "      <td>1</td>\n",
       "      <td>4</td>\n",
       "      <td>2</td>\n",
       "      <td>3</td>\n",
       "      <td>3</td>\n",
       "      <td>3</td>\n",
       "      <td>...</td>\n",
       "      <td>4</td>\n",
       "      <td>1</td>\n",
       "      <td>3</td>\n",
       "      <td>3</td>\n",
       "      <td>2</td>\n",
       "      <td>3</td>\n",
       "      <td>3</td>\n",
       "      <td>2</td>\n",
       "      <td>3</td>\n",
       "      <td>4</td>\n",
       "    </tr>\n",
       "    <tr>\n",
       "      <th>1</th>\n",
       "      <td>58.0</td>\n",
       "      <td>4</td>\n",
       "      <td>1</td>\n",
       "      <td>4</td>\n",
       "      <td>1</td>\n",
       "      <td>4</td>\n",
       "      <td>4</td>\n",
       "      <td>3</td>\n",
       "      <td>3</td>\n",
       "      <td>1</td>\n",
       "      <td>...</td>\n",
       "      <td>1</td>\n",
       "      <td>5</td>\n",
       "      <td>4</td>\n",
       "      <td>4</td>\n",
       "      <td>3</td>\n",
       "      <td>4</td>\n",
       "      <td>3</td>\n",
       "      <td>3</td>\n",
       "      <td>4</td>\n",
       "      <td>4</td>\n",
       "    </tr>\n",
       "    <tr>\n",
       "      <th>2</th>\n",
       "      <td>64.0</td>\n",
       "      <td>4</td>\n",
       "      <td>3</td>\n",
       "      <td>4</td>\n",
       "      <td>2</td>\n",
       "      <td>3</td>\n",
       "      <td>3</td>\n",
       "      <td>2</td>\n",
       "      <td>3</td>\n",
       "      <td>4</td>\n",
       "      <td>...</td>\n",
       "      <td>1</td>\n",
       "      <td>5</td>\n",
       "      <td>3</td>\n",
       "      <td>3</td>\n",
       "      <td>2</td>\n",
       "      <td>3</td>\n",
       "      <td>1</td>\n",
       "      <td>1</td>\n",
       "      <td>4</td>\n",
       "      <td>3</td>\n",
       "    </tr>\n",
       "    <tr>\n",
       "      <th>7</th>\n",
       "      <td>176.0</td>\n",
       "      <td>3</td>\n",
       "      <td>2</td>\n",
       "      <td>3</td>\n",
       "      <td>2</td>\n",
       "      <td>3</td>\n",
       "      <td>2</td>\n",
       "      <td>3</td>\n",
       "      <td>2</td>\n",
       "      <td>3</td>\n",
       "      <td>...</td>\n",
       "      <td>2</td>\n",
       "      <td>5</td>\n",
       "      <td>3</td>\n",
       "      <td>3</td>\n",
       "      <td>2</td>\n",
       "      <td>3</td>\n",
       "      <td>2</td>\n",
       "      <td>1</td>\n",
       "      <td>3</td>\n",
       "      <td>5</td>\n",
       "    </tr>\n",
       "    <tr>\n",
       "      <th>10</th>\n",
       "      <td>248.0</td>\n",
       "      <td>3</td>\n",
       "      <td>2</td>\n",
       "      <td>3</td>\n",
       "      <td>2</td>\n",
       "      <td>4</td>\n",
       "      <td>3</td>\n",
       "      <td>2</td>\n",
       "      <td>3</td>\n",
       "      <td>2</td>\n",
       "      <td>...</td>\n",
       "      <td>1</td>\n",
       "      <td>2</td>\n",
       "      <td>3</td>\n",
       "      <td>3</td>\n",
       "      <td>3</td>\n",
       "      <td>3</td>\n",
       "      <td>1</td>\n",
       "      <td>1</td>\n",
       "      <td>4</td>\n",
       "      <td>5</td>\n",
       "    </tr>\n",
       "    <tr>\n",
       "      <th>...</th>\n",
       "      <td>...</td>\n",
       "      <td>...</td>\n",
       "      <td>...</td>\n",
       "      <td>...</td>\n",
       "      <td>...</td>\n",
       "      <td>...</td>\n",
       "      <td>...</td>\n",
       "      <td>...</td>\n",
       "      <td>...</td>\n",
       "      <td>...</td>\n",
       "      <td>...</td>\n",
       "      <td>...</td>\n",
       "      <td>...</td>\n",
       "      <td>...</td>\n",
       "      <td>...</td>\n",
       "      <td>...</td>\n",
       "      <td>...</td>\n",
       "      <td>...</td>\n",
       "      <td>...</td>\n",
       "      <td>...</td>\n",
       "      <td>...</td>\n",
       "    </tr>\n",
       "    <tr>\n",
       "      <th>581</th>\n",
       "      <td>147.0</td>\n",
       "      <td>3</td>\n",
       "      <td>3</td>\n",
       "      <td>4</td>\n",
       "      <td>1</td>\n",
       "      <td>3</td>\n",
       "      <td>1</td>\n",
       "      <td>1</td>\n",
       "      <td>3</td>\n",
       "      <td>3</td>\n",
       "      <td>...</td>\n",
       "      <td>2</td>\n",
       "      <td>5</td>\n",
       "      <td>2</td>\n",
       "      <td>2</td>\n",
       "      <td>3</td>\n",
       "      <td>4</td>\n",
       "      <td>1</td>\n",
       "      <td>1</td>\n",
       "      <td>3</td>\n",
       "      <td>6</td>\n",
       "    </tr>\n",
       "    <tr>\n",
       "      <th>583</th>\n",
       "      <td>179.0</td>\n",
       "      <td>3</td>\n",
       "      <td>3</td>\n",
       "      <td>1</td>\n",
       "      <td>4</td>\n",
       "      <td>4</td>\n",
       "      <td>3</td>\n",
       "      <td>2</td>\n",
       "      <td>2</td>\n",
       "      <td>4</td>\n",
       "      <td>...</td>\n",
       "      <td>1</td>\n",
       "      <td>5</td>\n",
       "      <td>3</td>\n",
       "      <td>3</td>\n",
       "      <td>3</td>\n",
       "      <td>3</td>\n",
       "      <td>2</td>\n",
       "      <td>3</td>\n",
       "      <td>4</td>\n",
       "      <td>7</td>\n",
       "    </tr>\n",
       "    <tr>\n",
       "      <th>584</th>\n",
       "      <td>188.0</td>\n",
       "      <td>2</td>\n",
       "      <td>3</td>\n",
       "      <td>2</td>\n",
       "      <td>3</td>\n",
       "      <td>4</td>\n",
       "      <td>1</td>\n",
       "      <td>3</td>\n",
       "      <td>2</td>\n",
       "      <td>3</td>\n",
       "      <td>...</td>\n",
       "      <td>1</td>\n",
       "      <td>4</td>\n",
       "      <td>4</td>\n",
       "      <td>2</td>\n",
       "      <td>4</td>\n",
       "      <td>4</td>\n",
       "      <td>3</td>\n",
       "      <td>3</td>\n",
       "      <td>2</td>\n",
       "      <td>4</td>\n",
       "    </tr>\n",
       "    <tr>\n",
       "      <th>585</th>\n",
       "      <td>214.0</td>\n",
       "      <td>3</td>\n",
       "      <td>2</td>\n",
       "      <td>3</td>\n",
       "      <td>1</td>\n",
       "      <td>3</td>\n",
       "      <td>2</td>\n",
       "      <td>1</td>\n",
       "      <td>3</td>\n",
       "      <td>3</td>\n",
       "      <td>...</td>\n",
       "      <td>1</td>\n",
       "      <td>2</td>\n",
       "      <td>4</td>\n",
       "      <td>3</td>\n",
       "      <td>3</td>\n",
       "      <td>3</td>\n",
       "      <td>2</td>\n",
       "      <td>2</td>\n",
       "      <td>3</td>\n",
       "      <td>5</td>\n",
       "    </tr>\n",
       "    <tr>\n",
       "      <th>586</th>\n",
       "      <td>241.0</td>\n",
       "      <td>3</td>\n",
       "      <td>4</td>\n",
       "      <td>3</td>\n",
       "      <td>1</td>\n",
       "      <td>3</td>\n",
       "      <td>4</td>\n",
       "      <td>2</td>\n",
       "      <td>2</td>\n",
       "      <td>4</td>\n",
       "      <td>...</td>\n",
       "      <td>1</td>\n",
       "      <td>3</td>\n",
       "      <td>4</td>\n",
       "      <td>1</td>\n",
       "      <td>2</td>\n",
       "      <td>4</td>\n",
       "      <td>4</td>\n",
       "      <td>1</td>\n",
       "      <td>1</td>\n",
       "      <td>4</td>\n",
       "    </tr>\n",
       "  </tbody>\n",
       "</table>\n",
       "<p>473 rows × 39 columns</p>\n",
       "</div>"
      ],
      "text/plain": [
       "        id PERS_1 PERS_2 PERS_3 PERS_4 PERS_5 PERS_6 PERS_7 PERS_8 PERS_9  \\\n",
       "0    119.0      4      3      3      1      4      2      3      3      3   \n",
       "1     58.0      4      1      4      1      4      4      3      3      1   \n",
       "2     64.0      4      3      4      2      3      3      2      3      4   \n",
       "7    176.0      3      2      3      2      3      2      3      2      3   \n",
       "10   248.0      3      2      3      2      4      3      2      3      2   \n",
       "..     ...    ...    ...    ...    ...    ...    ...    ...    ...    ...   \n",
       "581  147.0      3      3      4      1      3      1      1      3      3   \n",
       "583  179.0      3      3      1      4      4      3      2      2      4   \n",
       "584  188.0      2      3      2      3      4      1      3      2      3   \n",
       "585  214.0      3      2      3      1      3      2      1      3      3   \n",
       "586  241.0      3      4      3      1      3      4      2      2      4   \n",
       "\n",
       "     ... spesa1_1 spesa1_2 T1_1 T1_2 T1_3 T1_4 T1_5 T1_6 T1_7 aut  \n",
       "0    ...        4        1    3    3    2    3    3    2    3   4  \n",
       "1    ...        1        5    4    4    3    4    3    3    4   4  \n",
       "2    ...        1        5    3    3    2    3    1    1    4   3  \n",
       "7    ...        2        5    3    3    2    3    2    1    3   5  \n",
       "10   ...        1        2    3    3    3    3    1    1    4   5  \n",
       "..   ...      ...      ...  ...  ...  ...  ...  ...  ...  ...  ..  \n",
       "581  ...        2        5    2    2    3    4    1    1    3   6  \n",
       "583  ...        1        5    3    3    3    3    2    3    4   7  \n",
       "584  ...        1        4    4    2    4    4    3    3    2   4  \n",
       "585  ...        1        2    4    3    3    3    2    2    3   5  \n",
       "586  ...        1        3    4    1    2    4    4    1    1   4  \n",
       "\n",
       "[473 rows x 39 columns]"
      ]
     },
     "execution_count": 383,
     "metadata": {},
     "output_type": "execute_result"
    }
   ],
   "source": [
    "#mantengo solo le colonne relative alle variabili PERS - INDCOL - SOC - CONS - spesa12 - tecnologia e appartenenza politica\n",
    "finale"
   ]
  },
  {
   "cell_type": "markdown",
   "id": "054771d9",
   "metadata": {},
   "source": [
    "# CLUSTER ANALYSIS - Variables not aggregated"
   ]
  },
  {
   "cell_type": "code",
   "execution_count": 384,
   "id": "890a761f",
   "metadata": {},
   "outputs": [],
   "source": [
    "# Transform data in array numpy\n",
    "scaled_features = StandardScaler().fit_transform(finale)"
   ]
  },
  {
   "cell_type": "code",
   "execution_count": 385,
   "id": "ee4a2280",
   "metadata": {},
   "outputs": [
    {
     "name": "stderr",
     "output_type": "stream",
     "text": [
      "/Users/utente/anaconda3/lib/python3.10/site-packages/sklearn/cluster/_kmeans.py:870: FutureWarning:\n",
      "\n",
      "The default value of `n_init` will change from 10 to 'auto' in 1.4. Set the value of `n_init` explicitly to suppress the warning\n",
      "\n"
     ]
    }
   ],
   "source": [
    "#perform k-means cluster analysis, force 3 clusters\n",
    "kmeans = KMeans(n_clusters=3, random_state=0).fit(scaled_features)\n",
    "labels = kmeans.labels_\n",
    "\n",
    "# Aggiungere la colonna con l'etichetta di appartenenza al cluster di ogni utente\n",
    "finale['cluster_not_ag'] = labels\n"
   ]
  },
  {
   "cell_type": "code",
   "execution_count": 386,
   "id": "5e49e9b5",
   "metadata": {},
   "outputs": [
    {
     "data": {
      "image/png": "[encoded data removed]",
      "text/plain": [
       "<Figure size 640x480 with 1 Axes>"
      ]
     },
     "metadata": {},
     "output_type": "display_data"
    }
   ],
   "source": [
    "# define colors for each cluster\n",
    "colors = ['red', 'green', 'blue']\n",
    "\n",
    "# Dispersion Graph\n",
    "plt.scatter(finale['PERS_1'], finale['aut'], c=finale['cluster_not_ag'].map(lambda x: colors[x]))\n",
    "\n",
    "# Configuration\n",
    "plt.title('Diagramma di dispersione')\n",
    "plt.xlabel('Personalità')\n",
    "plt.ylabel('Affiliazione politica')\n",
    "\n",
    "# Visualization\n",
    "plt.show()\n"
   ]
  },
  {
   "cell_type": "markdown",
   "id": "b6f93373",
   "metadata": {},
   "source": [
    "# CLUSTER ANALYSIS - Variables Aggregated\n",
    "\n",
    "Ho deciso di aggregare alcune variabili per evitare troppa dispersione. \n",
    "Ho unito le variabili del sottogruppo PERS in due gruppi: quelle che identificiano tratti positivi della personalità e quelle che invece sottolineano tratti negativi. \n",
    "\n",
    "**pers_positiva** = PERS1, PERS3, PERS5, PERS6, PERS8, PERS9 \n",
    "\n",
    "**pers_negativa** = PERS2, PERS4, PERS7, PERS10\n",
    "\n",
    "**individualismo - collettivismo** = INDCOL1, INDCOL2, INDCOL3, INDCOL4, INDCOL5, INDCOL6, INDCOL7\n",
    "*(valori medi alti di questa variabile identificano maggiore individualismo, valori bassi invece maggiore solidarietà)* \n",
    "\n",
    "NB: ho dovuto però \"girare\" le variabili 1,3 di questa categoria per far quadrare quanto sopra riportato.\n",
    "\n",
    "**consumo** = CONS1, CONS2, CONS3, CONS5, CONS4 (girata), CONS6 (girata)\n",
    "\n",
    "*(valori medi alti di questa variabile identificano le persone che amano omologarsi alle mode del momento e fanno cose \"pop\", mentre valori bassi identificano gruppi che fanno cose di nicchia e fruiscono di cultura indie)*\n",
    "\n",
    "**tipo di consumo** = Spesa1_1, Spesa1_2\n",
    "\n",
    "*(Primi due metodi di acquisto preferiti, valori bassi della variabile significano una predilezione per l'acquisto in loco fisico, valori alti invece una predilezione per lo shopping online)*\n",
    "\n",
    "**tecnologia** = T1_1, T1_2, T1_3, T1_4, T1_5, T1_6, T1_7\n",
    "\n",
    "*(valori alti di questa vvariabile = grande fiducia, mentre valori bassi = scetticismo)*"
   ]
  },
  {
   "cell_type": "code",
   "execution_count": 387,
   "id": "22291752",
   "metadata": {},
   "outputs": [],
   "source": [
    "#We invert some variables in order to have a correct scale\n",
    "inversioni = []\n",
    "first_var = finale['INDCOL_1']\n",
    "second_var = finale['INDCOL_3']\n",
    "third_var = finale['CONS_4']\n",
    "fourth_var = finale['CONS_6']\n",
    "fifth_var = finale['T1_2']\n",
    "sixth_var = finale['T1_3']\n",
    "seventh_var = finale['T1_7']\n",
    "\n",
    "ensemble = [first_var, second_var, third_var, fourth_var, fifth_var, sixth_var, seventh_var]\n",
    "\n",
    "for var in ensemble:\n",
    "    inversion = []\n",
    "    \n",
    "    for line in var:\n",
    "        if line == 4:\n",
    "            inversion.append(1)\n",
    "\n",
    "        elif line == 3:\n",
    "            inversion.append(2)\n",
    "\n",
    "        elif line == 2:\n",
    "            inversion.append(3)\n",
    "\n",
    "        elif line == 1:\n",
    "            inversion.append(4)\n",
    "        \n",
    "    inversioni.append(inversion)\n",
    "    "
   ]
  },
  {
   "cell_type": "code",
   "execution_count": 388,
   "id": "25fddd92",
   "metadata": {},
   "outputs": [],
   "source": [
    "#we reassign the new values to the correct column\n",
    "finale['INDCOL_1'] = inversioni[0]\n",
    "finale['INDCOL_3'] = inversioni[1]\n",
    "finale['CONS_4'] = inversioni[2]\n",
    "finale['CONS_6'] = inversioni[3]\n",
    "finale['T1_2'] = inversioni[4]\n",
    "finale['T1_3'] = inversioni[5]\n",
    "finale['T1_7'] = inversioni[6]"
   ]
  },
  {
   "cell_type": "code",
   "execution_count": 389,
   "id": "f861ffc1",
   "metadata": {},
   "outputs": [],
   "source": [
    "#Aggregate the grouped variables \n",
    "pers_positiva = pd.concat([finale['PERS_1'], finale['PERS_3'], finale['PERS_5'], finale['PERS_6'], finale['PERS_8'], finale['PERS_9']], axis = 1)\n",
    "pers_negativa = pd.concat([finale['PERS_2'], finale['PERS_4'], finale['PERS_7'], finale['PERS_10']], axis = 1)\n",
    "ind_cols = finale.filter(regex='^INDCOL', axis=1)\n",
    "consumo = finale.filter(regex = '^CONS', axis = 1)\n",
    "spesa_col = finale.filter(regex='^spesa', axis=1)\n",
    "tecnologia = finale.filter(regex='^T1', axis=1)\n",
    "\n",
    "# Calculate the mean for each row in the selected columns\n",
    "finale['PERS_pos'] = [round(ele,2) for ele in pers_positiva.mean(axis=1)]\n",
    "finale['PERS_neg'] = [round(ele,2) for ele in pers_negativa.mean(axis=1)]\n",
    "finale['INDCOL_mean'] = [round(ele,2) for ele in ind_cols.mean(axis=1)]\n",
    "finale['consumo'] = [round(ele,2) for ele in consumo.mean(axis=1)]\n",
    "finale['spesa_mean'] = [round(ele,2) for ele in spesa_col.mean(axis=1)]\n",
    "finale['tecnologia'] = [round(ele,2) for ele in tecnologia.mean(axis=1)]"
   ]
  },
  {
   "cell_type": "code",
   "execution_count": null,
   "id": "aed8437e",
   "metadata": {},
   "outputs": [],
   "source": [
    "#we have a dataset where the political affiliation variable is included and another where is not included\n",
    "political = pd.concat([finale.iloc[:,24:29], finale.iloc[:,38:]], axis = 1)\n",
    "not_political = pd.concat([finale.iloc[:,24:29], finale.iloc[:,39:]], axis = 1)\n",
    "\n",
    "SSE = []\n",
    "for cluster in range(1,11):\n",
    "    kmeans = KMeans(n_clusters = cluster, init='k-means++')\n",
    "    kmeans.fit(scaled_features_p)\n",
    "    SSE.append(kmeans.inertia_)\n",
    "# converting the results into a dataframe and plotting them\n",
    "frame = pd.DataFrame({'Cluster':range(1,11), 'SSE':SSE})\n",
    "plt.figure(figsize=(10, 10))\n",
    "plt.plot(frame['Cluster'], frame['SSE'], marker='o')\n",
    "plt.xlabel('Number of clusters')\n",
    "plt.ylabel('Inertia')"
   ]
  },
  {
   "cell_type": "code",
   "execution_count": 401,
   "id": "fd6a6d28",
   "metadata": {},
   "outputs": [
    {
     "name": "stderr",
     "output_type": "stream",
     "text": [
      "/Users/utente/anaconda3/lib/python3.10/site-packages/sklearn/cluster/_kmeans.py:870: FutureWarning:\n",
      "\n",
      "The default value of `n_init` will change from 10 to 'auto' in 1.4. Set the value of `n_init` explicitly to suppress the warning\n",
      "\n",
      "/Users/utente/anaconda3/lib/python3.10/site-packages/sklearn/cluster/_kmeans.py:870: FutureWarning:\n",
      "\n",
      "The default value of `n_init` will change from 10 to 'auto' in 1.4. Set the value of `n_init` explicitly to suppress the warning\n",
      "\n"
     ]
    }
   ],
   "source": [
    "\n",
    "#scaled_features_p = StandardScaler().fit_transform(political)\n",
    "kmeans_political = KMeans(n_clusters=4)\n",
    "kmeans_political.fit(political)\n",
    "\n",
    "#scaled_features_np = StandardScaler().fit_transform(not_political)\n",
    "kmeans_not_political = KMeans(n_clusters=3)\n",
    "kmeans_not_political.fit(not_political)\n",
    "\n",
    "\n",
    "# Add a column to your original dataframe with the cluster assignments\n",
    "political['cluster_agg'] = kmeans_political.labels_\n",
    "not_political['cluster_agg'] = kmeans_not_political.labels_"
   ]
  },
  {
   "cell_type": "markdown",
   "id": "035ca5eb",
   "metadata": {},
   "source": [
    "# ANALISI senza considerare il credo politico"
   ]
  },
  {
   "cell_type": "code",
   "execution_count": 402,
   "id": "3419d9f4",
   "metadata": {},
   "outputs": [
    {
     "data": {
      "image/png": "[encoded data removed]",
      "text/plain": [
       "<Figure size 640x480 with 1 Axes>"
      ]
     },
     "metadata": {},
     "output_type": "display_data"
    }
   ],
   "source": [
    "#define colors\n",
    "colors = ['red', 'green', 'blue']\n",
    "\n",
    "# Dispersion Graph\n",
    "plt.scatter(not_political['PERS_pos'], not_political['INDCOL_mean'], c=not_political['cluster_agg'].map(lambda x: colors[x]))\n",
    "\n",
    "# Configuration\n",
    "plt.title('Diagramma di dispersione degli utenti')\n",
    "plt.xlabel('Medie personalità positiva')\n",
    "plt.ylabel('Collettivismo - Individualismo')\n",
    "\n",
    "# Visualization\n",
    "plt.show()"
   ]
  },
  {
   "cell_type": "markdown",
   "id": "a8fd4f76",
   "metadata": {},
   "source": [
    "## PERSONALITÀ (POS o NEG) VS CREDO POLITICO"
   ]
  },
  {
   "cell_type": "code",
   "execution_count": 403,
   "id": "8926f673",
   "metadata": {},
   "outputs": [
    {
     "data": {
      "application/vnd.plotly.v1+json": {
       "config": {
        "plotlyServerURL": "https://plot.ly"
       },
       "data": [
        {
         "hovertemplate": "PERS_neg=%{x}<br>Stile di Consumo=%{y}<br>Cluster=%{marker.color}<extra></extra>",
         "legendgroup": "",
         "marker": {
          "color": [
           2,
           0,
           2,
           2,
           0,
           2,
           2,
           1,
           2,
           1,
           0,
           0,
           0,
           0,
           0,
           2,
           2,
           0,
           1,
           0,
           2,
           2,
           0,
           0,
           1,
           0,
           2,
           1,
           0,
           2,
           2,
           1,
           0,
           0,
           1,
           0,
           0,
           1,
           1,
           1,
           1,
           0,
           2,
           1,
           1,
           2,
           2,
           0,
           0,
           1,
           2,
           2,
           1,
           0,
           1,
           2,
           0,
           0,
           2,
           1,
           2,
           2,
           2,
           1,
           0,
           2,
           1,
           0,
           1,
           2,
           1,
           2,
           1,
           0,
           2,
           0,
           0,
           1,
           2,
           0,
           0,
           2,
           1,
           1,
           1,
           2,
           0,
           0,
           0,
           1,
           2,
           0,
           1,
           0,
           1,
           1,
           0,
           2,
           2,
           2,
           2,
           1,
           2,
           0,
           0,
           0,
           2,
           1,
           2,
           0,
           0,
           1,
           1,
           1,
           2,
           1,
           0,
           2,
           0,
           2,
           1,
           2,
           0,
           2,
           2,
           2,
           0,
           0,
           0,
           1,
           1,
           1,
           1,
           0,
           0,
           1,
           1,
           1,
           1,
           1,
           2,
           1,
           2,
           0,
           2,
           1,
           0,
           2,
           1,
           1,
           1,
           1,
           0,
           1,
           0,
           1,
           0,
           1,
           2,
           1,
           1,
           2,
           1,
           2,
           0,
           1,
           2,
           1,
           2,
           1,
           2,
           0,
           0,
           1,
           1,
           0,
           1,
           0,
           1,
           0,
           0,
           1,
           0,
           2,
           2,
           2,
           0,
           1,
           0,
           2,
           2,
           1,
           0,
           0,
           1,
           2,
           2,
           1,
           0,
           0,
           2,
           2,
           1,
           2,
           0,
           1,
           1,
           0,
           0,
           2,
           1,
           0,
           0,
           2,
           0,
           0,
           0,
           1,
           1,
           2,
           2,
           1,
           2,
           2,
           1,
           0,
           0,
           1,
           0,
           1,
           0,
           1,
           2,
           0,
           2,
           0,
           0,
           0,
           2,
           0,
           2,
           2,
           1,
           0,
           2,
           1,
           2,
           0,
           0,
           1,
           0,
           1,
           1,
           0,
           1,
           1,
           0,
           0,
           2,
           2,
           2,
           2,
           1,
           1,
           2,
           1,
           2,
           1,
           2,
           0,
           1,
           0,
           1,
           0,
           0,
           0,
           0,
           1,
           2,
           1,
           2,
           1,
           1,
           0,
           1,
           1,
           2,
           1,
           1,
           1,
           2,
           0,
           2,
           1,
           2,
           0,
           0,
           1,
           2,
           1,
           0,
           2,
           1,
           1,
           0,
           1,
           0,
           1,
           0,
           1,
           1,
           0,
           0,
           1,
           0,
           2,
           1,
           0,
           2,
           0,
           0,
           1,
           1,
           0,
           2,
           2,
           0,
           1,
           1,
           2,
           1,
           1,
           1,
           0,
           1,
           0,
           1,
           0,
           2,
           2,
           1,
           0,
           1,
           0,
           0,
           1,
           1,
           2,
           2,
           1,
           2,
           1,
           1,
           1,
           1,
           1,
           0,
           1,
           1,
           0,
           1,
           0,
           0,
           0,
           1,
           2,
           0,
           2,
           1,
           1,
           0,
           0,
           1,
           1,
           2,
           2,
           0,
           1,
           2,
           2,
           1,
           0,
           0,
           0,
           0,
           0,
           1,
           2,
           0,
           0,
           1,
           2,
           1,
           2,
           0,
           0,
           0,
           1,
           2,
           2,
           1,
           2,
           0,
           2,
           0,
           0,
           1,
           0,
           0,
           0,
           0,
           0,
           1,
           2,
           0,
           1,
           2,
           2,
           1,
           1,
           2,
           1,
           1,
           0,
           0,
           1,
           2,
           2,
           0,
           0,
           1,
           1,
           1,
           1,
           1,
           1,
           2,
           1,
           0,
           0,
           2,
           1,
           1,
           0,
           0,
           2,
           2,
           0,
           2,
           2,
           2,
           1,
           1,
           0,
           2,
           0,
           2,
           1,
           1,
           1,
           2,
           1,
           2,
           0,
           1,
           1,
           0,
           0,
           0,
           1,
           2,
           1,
           2
          ],
          "coloraxis": "coloraxis",
          "symbol": "circle"
         },
         "mode": "markers",
         "name": "",
         "orientation": "v",
         "showlegend": false,
         "type": "scatter",
         "x": [
          2.25,
          2,
          2.5,
          2.25,
          2,
          1,
          2.25,
          2.25,
          2.25,
          2.75,
          2.25,
          2,
          1,
          3.75,
          2.5,
          2.25,
          2,
          1.75,
          1.75,
          1.75,
          2,
          2,
          2,
          2.25,
          3,
          2.25,
          3,
          2,
          2.5,
          2.25,
          2.5,
          2.25,
          2.25,
          2.75,
          2.25,
          1.5,
          2.75,
          2.25,
          2.25,
          1.25,
          2,
          1.25,
          3.25,
          2.75,
          2,
          3,
          3,
          2.25,
          2.25,
          2,
          1.75,
          2.5,
          2.25,
          1.5,
          2.75,
          2.5,
          1.75,
          1.5,
          1.75,
          2,
          2,
          2.25,
          1.75,
          1.75,
          2.25,
          2.25,
          2,
          1.75,
          2.25,
          3.5,
          1.25,
          2.25,
          2,
          2.5,
          1.75,
          1,
          1.75,
          3,
          2.5,
          2,
          2.75,
          1.5,
          1.5,
          2.5,
          1.25,
          1.75,
          1.5,
          2.5,
          1.75,
          2.75,
          2.25,
          2.75,
          2,
          2.5,
          1.75,
          2.25,
          2,
          1.75,
          2.25,
          2.25,
          3.5,
          3,
          3.5,
          1.75,
          2,
          2.5,
          1.75,
          2.25,
          2.5,
          1.5,
          2,
          2.25,
          2.25,
          2,
          2.25,
          1.25,
          1.25,
          2.25,
          2,
          2,
          2.25,
          3,
          2.5,
          1.75,
          3.25,
          2.5,
          2,
          3,
          2,
          1.25,
          1.75,
          2.75,
          2,
          2.25,
          1.5,
          2,
          1.5,
          2.25,
          3.25,
          1.75,
          3,
          2.5,
          1.75,
          1.75,
          2.75,
          1.75,
          2.25,
          2.25,
          2,
          2.25,
          2,
          1.25,
          2,
          2.25,
          2,
          2.25,
          2.75,
          1.25,
          2,
          3,
          1.75,
          1.5,
          3.25,
          3,
          2.75,
          2.25,
          1.5,
          2.5,
          2.5,
          2.25,
          1.5,
          2.25,
          2.5,
          2.75,
          2.5,
          1.75,
          2.5,
          2.25,
          2.5,
          2.25,
          2.25,
          2,
          2,
          3,
          2.75,
          2.5,
          2.25,
          2.25,
          2,
          2.5,
          2.75,
          2.5,
          1.5,
          1.5,
          2,
          2,
          1.75,
          2,
          1.75,
          2.5,
          2.5,
          2.5,
          2.25,
          2.75,
          1.75,
          2.75,
          2.75,
          1.75,
          2.25,
          1.5,
          1.5,
          2,
          1.75,
          2,
          3,
          1.5,
          1.75,
          2,
          1.75,
          1.75,
          1.5,
          2,
          2.25,
          2.5,
          1.75,
          2.25,
          1.5,
          2.5,
          1.75,
          2,
          1.5,
          1.75,
          2,
          2,
          1.75,
          2,
          1.75,
          2,
          2,
          2.75,
          2.5,
          2,
          2.5,
          2,
          2.75,
          2.25,
          2.5,
          2.5,
          1.75,
          3.25,
          1.5,
          2,
          1.75,
          2,
          3,
          2,
          2.25,
          2.75,
          1.25,
          2.25,
          2.75,
          3.75,
          2,
          2.5,
          1.75,
          1.5,
          2.5,
          1.5,
          2.75,
          2.5,
          2,
          2.25,
          1.75,
          1.75,
          1.75,
          2.25,
          2.25,
          1.5,
          2.25,
          2.75,
          1.75,
          1.75,
          1.75,
          2.25,
          2.75,
          1.75,
          2.5,
          3.25,
          1,
          2.25,
          1.75,
          3,
          2.5,
          1.5,
          2,
          1.5,
          1.5,
          2.25,
          1.75,
          1.5,
          2.75,
          2.25,
          2.25,
          2.5,
          3,
          2.25,
          2.25,
          2.5,
          3,
          2.25,
          2.25,
          2.5,
          1.5,
          2,
          2.25,
          2,
          3,
          1.5,
          2.5,
          2.25,
          1.75,
          2.5,
          2.5,
          2,
          2,
          2.5,
          2.25,
          1.75,
          2.5,
          1.75,
          3,
          2,
          1.5,
          2.25,
          1.5,
          2.75,
          1.5,
          2,
          2.5,
          2.5,
          1.25,
          1.5,
          1.5,
          1.75,
          1.25,
          1.75,
          2,
          2,
          2.25,
          2.25,
          1.5,
          1.5,
          2.25,
          1.5,
          2,
          3,
          1.75,
          2,
          2.25,
          2,
          2,
          2,
          1,
          1.75,
          1.25,
          2,
          2,
          1.25,
          2.5,
          2.25,
          2,
          2,
          1.75,
          1.5,
          2.5,
          2.25,
          2.25,
          2.5,
          2,
          1.75,
          2,
          1,
          2,
          3,
          1.75,
          2.25,
          1.5,
          1.5,
          2,
          2,
          2,
          2,
          1.25,
          1.75,
          1.25,
          2,
          1.75,
          1,
          3,
          2.75,
          3,
          1.75,
          2.25,
          1.75,
          2.5,
          2.25,
          3.25,
          2.5,
          1,
          2,
          2.75,
          2.5,
          2,
          2.5,
          2.25,
          1.75,
          2.25,
          2.75,
          1.75,
          2.25,
          1.5,
          3.25,
          1.5,
          2.25,
          1.75,
          3,
          1,
          2.75,
          2,
          2.5,
          1.5,
          3,
          1,
          1.25,
          1.5,
          2.25,
          1,
          1.75,
          2,
          1.75,
          1.5,
          2.5,
          2.25,
          3.5,
          1.5,
          1.75,
          2.75,
          1.75,
          1.5,
          2.75,
          2.5,
          1.75,
          2.25,
          1.5,
          1.75,
          2.5,
          2,
          2,
          1.5,
          1.75,
          1.75,
          3.5,
          1,
          1.75,
          2,
          1,
          2,
          2.5,
          1.75,
          2.75,
          2.75,
          1.25,
          2
         ],
         "xaxis": "x",
         "y": [
          2.83,
          2.67,
          2.17,
          1.5,
          2.33,
          2.17,
          2.17,
          2.33,
          2.83,
          2.5,
          2.5,
          2.17,
          3,
          2.5,
          3,
          2.67,
          2,
          2.17,
          3,
          2.33,
          2.5,
          2.33,
          2,
          2.67,
          2.67,
          2.67,
          1.67,
          2.67,
          2.67,
          1.83,
          2.67,
          3,
          2.83,
          2.33,
          1.83,
          2.17,
          3.17,
          2.67,
          2.83,
          3,
          2.17,
          1.83,
          2.83,
          2.83,
          2.5,
          2.5,
          1.83,
          2.67,
          2.67,
          2.67,
          2.5,
          2.5,
          2,
          2.33,
          2.5,
          2.67,
          4,
          3,
          2,
          2.83,
          1.67,
          2.67,
          2.5,
          3,
          2.33,
          2.67,
          2.67,
          2.17,
          1.67,
          2.33,
          3,
          2.83,
          2.5,
          2.67,
          1.83,
          1.33,
          2.33,
          2.5,
          2.5,
          2.17,
          2.17,
          2.33,
          3.17,
          2.17,
          2.67,
          1.33,
          2.17,
          2.17,
          2.5,
          2.83,
          2.33,
          2.67,
          2.33,
          2.33,
          2.33,
          2.17,
          2.5,
          1.67,
          2,
          2.67,
          2.67,
          3.33,
          2,
          1.67,
          2.5,
          2.17,
          2.83,
          2.33,
          2.67,
          1.83,
          1.83,
          2.67,
          2.83,
          2,
          2.67,
          2.5,
          2.67,
          2.5,
          2.67,
          3,
          2.67,
          2.5,
          2.17,
          2.17,
          3,
          3.17,
          3,
          2.67,
          3,
          2.83,
          2.17,
          2.5,
          3,
          3,
          1.5,
          2.5,
          3,
          2.5,
          2.5,
          3.5,
          2.67,
          2.83,
          2,
          2.83,
          2.67,
          2.83,
          2.67,
          2.33,
          1.83,
          2.17,
          2.33,
          2.83,
          2.17,
          2.33,
          2,
          2.83,
          2.33,
          2.67,
          2.67,
          2.83,
          2.17,
          2.33,
          3,
          2.5,
          2.17,
          2.5,
          2.33,
          2.83,
          2.67,
          2.33,
          3,
          2.5,
          2.5,
          2.17,
          2.5,
          2.5,
          2,
          1.83,
          2.83,
          3,
          1.83,
          2.83,
          2.67,
          2.83,
          1.67,
          2.5,
          2.83,
          2.17,
          2.33,
          2.83,
          2.17,
          2.17,
          2.33,
          1.67,
          2.67,
          3.17,
          2.83,
          2.67,
          2.67,
          2.5,
          3,
          2.33,
          2.17,
          3.17,
          3,
          2.67,
          2.17,
          2.67,
          3,
          2.5,
          3.67,
          2.33,
          2.33,
          2,
          2,
          2.17,
          2.17,
          1.5,
          2,
          2.83,
          2.83,
          2.67,
          2.5,
          1.5,
          2.67,
          2,
          2.67,
          2.5,
          2.5,
          2.83,
          1.33,
          1.83,
          1.67,
          1.33,
          2.67,
          2.83,
          2.67,
          2,
          2.67,
          2.33,
          2.67,
          2.83,
          3.17,
          3,
          2.5,
          3,
          2.33,
          2.5,
          2.17,
          3.17,
          1.83,
          2.83,
          3.17,
          2,
          2.5,
          2.17,
          2.5,
          2.17,
          2,
          1.83,
          2.67,
          2.67,
          2.67,
          2.5,
          2.17,
          2.67,
          2.83,
          2.83,
          2.33,
          2.17,
          2.17,
          2,
          2.5,
          2.17,
          2.67,
          2.17,
          2.67,
          2.33,
          2.83,
          2.17,
          2,
          2.5,
          3.5,
          1.5,
          2.5,
          1.83,
          2.33,
          2.83,
          3,
          2.33,
          2,
          1.67,
          2.17,
          2.5,
          2.5,
          2.5,
          2.17,
          2.33,
          2.33,
          1.83,
          2.67,
          2.17,
          2.83,
          2.83,
          2.67,
          2,
          2.33,
          2.33,
          2,
          2.5,
          2.33,
          3,
          2,
          2.67,
          2.33,
          2.17,
          3,
          2.33,
          2.5,
          2.33,
          2.67,
          2.5,
          3,
          2.83,
          2.5,
          2,
          2.5,
          2.67,
          2.83,
          2.33,
          2.5,
          2.5,
          2.17,
          2.33,
          2.33,
          2.83,
          2,
          2,
          2.83,
          2.67,
          2.33,
          2.5,
          2.17,
          2.83,
          1.33,
          2.83,
          2,
          1.83,
          2.83,
          2.83,
          2.33,
          3,
          2.33,
          2.33,
          1.83,
          2.83,
          2,
          2.5,
          2.83,
          2,
          2.5,
          2.33,
          3.33,
          2,
          1.5,
          2.17,
          2.17,
          2,
          2.5,
          1.67,
          1.83,
          2.33,
          3,
          2.17,
          2.5,
          2.17,
          2.5,
          2.5,
          2.67,
          2.5,
          2,
          2.5,
          1.83,
          2.67,
          2.33,
          2.67,
          3,
          1.83,
          1.67,
          2,
          3,
          2.83,
          3,
          1.5,
          2.33,
          2.5,
          2.33,
          2.17,
          1.33,
          2.33,
          2.33,
          2.83,
          2.17,
          2.67,
          2,
          2.5,
          2.5,
          2.83,
          2.67,
          2.83,
          2.83,
          3,
          2.17,
          2.5,
          2.67,
          2,
          2.33,
          2.33,
          2.5,
          2,
          2.67,
          2.5,
          2.67,
          2.5,
          2.5,
          3,
          3.33,
          2.67,
          2,
          2.67,
          2.5,
          3.17,
          2.67,
          2.67,
          2.83,
          2.83,
          2,
          2.83,
          2.33,
          2.33,
          1.83,
          3,
          2,
          3.5,
          2,
          2.33,
          2.67,
          2.17,
          2.17,
          2.17,
          2,
          2.83,
          2.67,
          2.33,
          1.83,
          2.17,
          2,
          2.67,
          2.83,
          3,
          2.17,
          2.67,
          3.33,
          3,
          2.17,
          3.5,
          2.5,
          2.83,
          2.33,
          2.5,
          2.33,
          2.67,
          2.5
         ],
         "yaxis": "y"
        }
       ],
       "layout": {
        "coloraxis": {
         "colorbar": {
          "title": {
           "text": "Cluster"
          }
         },
         "colorscale": [
          [
           0,
           "rgb(228,26,28)"
          ],
          [
           0.125,
           "rgb(55,126,184)"
          ],
          [
           0.25,
           "rgb(77,175,74)"
          ],
          [
           0.375,
           "rgb(152,78,163)"
          ],
          [
           0.5,
           "rgb(255,127,0)"
          ],
          [
           0.625,
           "rgb(255,255,51)"
          ],
          [
           0.75,
           "rgb(166,86,40)"
          ],
          [
           0.875,
           "rgb(247,129,191)"
          ],
          [
           1,
           "rgb(153,153,153)"
          ]
         ]
        },
        "legend": {
         "tracegroupgap": 0
        },
        "margin": {
         "t": 60
        },
        "template": {
         "data": {
          "bar": [
           {
            "error_x": {
             "color": "#2a3f5f"
            },
            "error_y": {
             "color": "#2a3f5f"
            },
            "marker": {
             "line": {
              "color": "#E5ECF6",
              "width": 0.5
             },
             "pattern": {
              "fillmode": "overlay",
              "size": 10,
              "solidity": 0.2
             }
            },
            "type": "bar"
           }
          ],
          "barpolar": [
           {
            "marker": {
             "line": {
              "color": "#E5ECF6",
              "width": 0.5
             },
             "pattern": {
              "fillmode": "overlay",
              "size": 10,
              "solidity": 0.2
             }
            },
            "type": "barpolar"
           }
          ],
          "carpet": [
           {
            "aaxis": {
             "endlinecolor": "#2a3f5f",
             "gridcolor": "white",
             "linecolor": "white",
             "minorgridcolor": "white",
             "startlinecolor": "#2a3f5f"
            },
            "baxis": {
             "endlinecolor": "#2a3f5f",
             "gridcolor": "white",
             "linecolor": "white",
             "minorgridcolor": "white",
             "startlinecolor": "#2a3f5f"
            },
            "type": "carpet"
           }
          ],
          "choropleth": [
           {
            "colorbar": {
             "outlinewidth": 0,
             "ticks": ""
            },
            "type": "choropleth"
           }
          ],
          "contour": [
           {
            "colorbar": {
             "outlinewidth": 0,
             "ticks": ""
            },
            "colorscale": [
             [
              0,
              "#0d0887"
             ],
             [
              0.1111111111111111,
              "#46039f"
             ],
             [
              0.2222222222222222,
              "#7201a8"
             ],
             [
              0.3333333333333333,
              "#9c179e"
             ],
             [
              0.4444444444444444,
              "#bd3786"
             ],
             [
              0.5555555555555556,
              "#d8576b"
             ],
             [
              0.6666666666666666,
              "#ed7953"
             ],
             [
              0.7777777777777778,
              "#fb9f3a"
             ],
             [
              0.8888888888888888,
              "#fdca26"
             ],
             [
              1,
              "#f0f921"
             ]
            ],
            "type": "contour"
           }
          ],
          "contourcarpet": [
           {
            "colorbar": {
             "outlinewidth": 0,
             "ticks": ""
            },
            "type": "contourcarpet"
           }
          ],
          "heatmap": [
           {
            "colorbar": {
             "outlinewidth": 0,
             "ticks": ""
            },
            "colorscale": [
             [
              0,
              "#0d0887"
             ],
             [
              0.1111111111111111,
              "#46039f"
             ],
             [
              0.2222222222222222,
              "#7201a8"
             ],
             [
              0.3333333333333333,
              "#9c179e"
             ],
             [
              0.4444444444444444,
              "#bd3786"
             ],
             [
              0.5555555555555556,
              "#d8576b"
             ],
             [
              0.6666666666666666,
              "#ed7953"
             ],
             [
              0.7777777777777778,
              "#fb9f3a"
             ],
             [
              0.8888888888888888,
              "#fdca26"
             ],
             [
              1,
              "#f0f921"
             ]
            ],
            "type": "heatmap"
           }
          ],
          "heatmapgl": [
           {
            "colorbar": {
             "outlinewidth": 0,
             "ticks": ""
            },
            "colorscale": [
             [
              0,
              "#0d0887"
             ],
             [
              0.1111111111111111,
              "#46039f"
             ],
             [
              0.2222222222222222,
              "#7201a8"
             ],
             [
              0.3333333333333333,
              "#9c179e"
             ],
             [
              0.4444444444444444,
              "#bd3786"
             ],
             [
              0.5555555555555556,
              "#d8576b"
             ],
             [
              0.6666666666666666,
              "#ed7953"
             ],
             [
              0.7777777777777778,
              "#fb9f3a"
             ],
             [
              0.8888888888888888,
              "#fdca26"
             ],
             [
              1,
              "#f0f921"
             ]
            ],
            "type": "heatmapgl"
           }
          ],
          "histogram": [
           {
            "marker": {
             "pattern": {
              "fillmode": "overlay",
              "size": 10,
              "solidity": 0.2
             }
            },
            "type": "histogram"
           }
          ],
          "histogram2d": [
           {
            "colorbar": {
             "outlinewidth": 0,
             "ticks": ""
            },
            "colorscale": [
             [
              0,
              "#0d0887"
             ],
             [
              0.1111111111111111,
              "#46039f"
             ],
             [
              0.2222222222222222,
              "#7201a8"
             ],
             [
              0.3333333333333333,
              "#9c179e"
             ],
             [
              0.4444444444444444,
              "#bd3786"
             ],
             [
              0.5555555555555556,
              "#d8576b"
             ],
             [
              0.6666666666666666,
              "#ed7953"
             ],
             [
              0.7777777777777778,
              "#fb9f3a"
             ],
             [
              0.8888888888888888,
              "#fdca26"
             ],
             [
              1,
              "#f0f921"
             ]
            ],
            "type": "histogram2d"
           }
          ],
          "histogram2dcontour": [
           {
            "colorbar": {
             "outlinewidth": 0,
             "ticks": ""
            },
            "colorscale": [
             [
              0,
              "#0d0887"
             ],
             [
              0.1111111111111111,
              "#46039f"
             ],
             [
              0.2222222222222222,
              "#7201a8"
             ],
             [
              0.3333333333333333,
              "#9c179e"
             ],
             [
              0.4444444444444444,
              "#bd3786"
             ],
             [
              0.5555555555555556,
              "#d8576b"
             ],
             [
              0.6666666666666666,
              "#ed7953"
             ],
             [
              0.7777777777777778,
              "#fb9f3a"
             ],
             [
              0.8888888888888888,
              "#fdca26"
             ],
             [
              1,
              "#f0f921"
             ]
            ],
            "type": "histogram2dcontour"
           }
          ],
          "mesh3d": [
           {
            "colorbar": {
             "outlinewidth": 0,
             "ticks": ""
            },
            "type": "mesh3d"
           }
          ],
          "parcoords": [
           {
            "line": {
             "colorbar": {
              "outlinewidth": 0,
              "ticks": ""
             }
            },
            "type": "parcoords"
           }
          ],
          "pie": [
           {
            "automargin": true,
            "type": "pie"
           }
          ],
          "scatter": [
           {
            "fillpattern": {
             "fillmode": "overlay",
             "size": 10,
             "solidity": 0.2
            },
            "type": "scatter"
           }
          ],
          "scatter3d": [
           {
            "line": {
             "colorbar": {
              "outlinewidth": 0,
              "ticks": ""
             }
            },
            "marker": {
             "colorbar": {
              "outlinewidth": 0,
              "ticks": ""
             }
            },
            "type": "scatter3d"
           }
          ],
          "scattercarpet": [
           {
            "marker": {
             "colorbar": {
              "outlinewidth": 0,
              "ticks": ""
             }
            },
            "type": "scattercarpet"
           }
          ],
          "scattergeo": [
           {
            "marker": {
             "colorbar": {
              "outlinewidth": 0,
              "ticks": ""
             }
            },
            "type": "scattergeo"
           }
          ],
          "scattergl": [
           {
            "marker": {
             "colorbar": {
              "outlinewidth": 0,
              "ticks": ""
             }
            },
            "type": "scattergl"
           }
          ],
          "scattermapbox": [
           {
            "marker": {
             "colorbar": {
              "outlinewidth": 0,
              "ticks": ""
             }
            },
            "type": "scattermapbox"
           }
          ],
          "scatterpolar": [
           {
            "marker": {
             "colorbar": {
              "outlinewidth": 0,
              "ticks": ""
             }
            },
            "type": "scatterpolar"
           }
          ],
          "scatterpolargl": [
           {
            "marker": {
             "colorbar": {
              "outlinewidth": 0,
              "ticks": ""
             }
            },
            "type": "scatterpolargl"
           }
          ],
          "scatterternary": [
           {
            "marker": {
             "colorbar": {
              "outlinewidth": 0,
              "ticks": ""
             }
            },
            "type": "scatterternary"
           }
          ],
          "surface": [
           {
            "colorbar": {
             "outlinewidth": 0,
             "ticks": ""
            },
            "colorscale": [
             [
              0,
              "#0d0887"
             ],
             [
              0.1111111111111111,
              "#46039f"
             ],
             [
              0.2222222222222222,
              "#7201a8"
             ],
             [
              0.3333333333333333,
              "#9c179e"
             ],
             [
              0.4444444444444444,
              "#bd3786"
             ],
             [
              0.5555555555555556,
              "#d8576b"
             ],
             [
              0.6666666666666666,
              "#ed7953"
             ],
             [
              0.7777777777777778,
              "#fb9f3a"
             ],
             [
              0.8888888888888888,
              "#fdca26"
             ],
             [
              1,
              "#f0f921"
             ]
            ],
            "type": "surface"
           }
          ],
          "table": [
           {
            "cells": {
             "fill": {
              "color": "#EBF0F8"
             },
             "line": {
              "color": "white"
             }
            },
            "header": {
             "fill": {
              "color": "#C8D4E3"
             },
             "line": {
              "color": "white"
             }
            },
            "type": "table"
           }
          ]
         },
         "layout": {
          "annotationdefaults": {
           "arrowcolor": "#2a3f5f",
           "arrowhead": 0,
           "arrowwidth": 1
          },
          "autotypenumbers": "strict",
          "coloraxis": {
           "colorbar": {
            "outlinewidth": 0,
            "ticks": ""
           }
          },
          "colorscale": {
           "diverging": [
            [
             0,
             "#8e0152"
            ],
            [
             0.1,
             "#c51b7d"
            ],
            [
             0.2,
             "#de77ae"
            ],
            [
             0.3,
             "#f1b6da"
            ],
            [
             0.4,
             "#fde0ef"
            ],
            [
             0.5,
             "#f7f7f7"
            ],
            [
             0.6,
             "#e6f5d0"
            ],
            [
             0.7,
             "#b8e186"
            ],
            [
             0.8,
             "#7fbc41"
            ],
            [
             0.9,
             "#4d9221"
            ],
            [
             1,
             "#276419"
            ]
           ],
           "sequential": [
            [
             0,
             "#0d0887"
            ],
            [
             0.1111111111111111,
             "#46039f"
            ],
            [
             0.2222222222222222,
             "#7201a8"
            ],
            [
             0.3333333333333333,
             "#9c179e"
            ],
            [
             0.4444444444444444,
             "#bd3786"
            ],
            [
             0.5555555555555556,
             "#d8576b"
            ],
            [
             0.6666666666666666,
             "#ed7953"
            ],
            [
             0.7777777777777778,
             "#fb9f3a"
            ],
            [
             0.8888888888888888,
             "#fdca26"
            ],
            [
             1,
             "#f0f921"
            ]
           ],
           "sequentialminus": [
            [
             0,
             "#0d0887"
            ],
            [
             0.1111111111111111,
             "#46039f"
            ],
            [
             0.2222222222222222,
             "#7201a8"
            ],
            [
             0.3333333333333333,
             "#9c179e"
            ],
            [
             0.4444444444444444,
             "#bd3786"
            ],
            [
             0.5555555555555556,
             "#d8576b"
            ],
            [
             0.6666666666666666,
             "#ed7953"
            ],
            [
             0.7777777777777778,
             "#fb9f3a"
            ],
            [
             0.8888888888888888,
             "#fdca26"
            ],
            [
             1,
             "#f0f921"
            ]
           ]
          },
          "colorway": [
           "#636efa",
           "#EF553B",
           "#00cc96",
           "#ab63fa",
           "#FFA15A",
           "#19d3f3",
           "#FF6692",
           "#B6E880",
           "#FF97FF",
           "#FECB52"
          ],
          "font": {
           "color": "#2a3f5f"
          },
          "geo": {
           "bgcolor": "white",
           "lakecolor": "white",
           "landcolor": "#E5ECF6",
           "showlakes": true,
           "showland": true,
           "subunitcolor": "white"
          },
          "hoverlabel": {
           "align": "left"
          },
          "hovermode": "closest",
          "mapbox": {
           "style": "light"
          },
          "paper_bgcolor": "white",
          "plot_bgcolor": "#E5ECF6",
          "polar": {
           "angularaxis": {
            "gridcolor": "white",
            "linecolor": "white",
            "ticks": ""
           },
           "bgcolor": "#E5ECF6",
           "radialaxis": {
            "gridcolor": "white",
            "linecolor": "white",
            "ticks": ""
           }
          },
          "scene": {
           "xaxis": {
            "backgroundcolor": "#E5ECF6",
            "gridcolor": "white",
            "gridwidth": 2,
            "linecolor": "white",
            "showbackground": true,
            "ticks": "",
            "zerolinecolor": "white"
           },
           "yaxis": {
            "backgroundcolor": "#E5ECF6",
            "gridcolor": "white",
            "gridwidth": 2,
            "linecolor": "white",
            "showbackground": true,
            "ticks": "",
            "zerolinecolor": "white"
           },
           "zaxis": {
            "backgroundcolor": "#E5ECF6",
            "gridcolor": "white",
            "gridwidth": 2,
            "linecolor": "white",
            "showbackground": true,
            "ticks": "",
            "zerolinecolor": "white"
           }
          },
          "shapedefaults": {
           "line": {
            "color": "#2a3f5f"
           }
          },
          "ternary": {
           "aaxis": {
            "gridcolor": "white",
            "linecolor": "white",
            "ticks": ""
           },
           "baxis": {
            "gridcolor": "white",
            "linecolor": "white",
            "ticks": ""
           },
           "bgcolor": "#E5ECF6",
           "caxis": {
            "gridcolor": "white",
            "linecolor": "white",
            "ticks": ""
           }
          },
          "title": {
           "x": 0.05
          },
          "xaxis": {
           "automargin": true,
           "gridcolor": "white",
           "linecolor": "white",
           "ticks": "",
           "title": {
            "standoff": 15
           },
           "zerolinecolor": "white",
           "zerolinewidth": 2
          },
          "yaxis": {
           "automargin": true,
           "gridcolor": "white",
           "linecolor": "white",
           "ticks": "",
           "title": {
            "standoff": 15
           },
           "zerolinecolor": "white",
           "zerolinewidth": 2
          }
         }
        },
        "title": {
         "text": "Personalità VS Stile di Consumo"
        },
        "xaxis": {
         "anchor": "y",
         "domain": [
          0,
          1
         ],
         "title": {
          "text": "Variabili personali positive"
         }
        },
        "yaxis": {
         "anchor": "x",
         "domain": [
          0,
          1
         ],
         "title": {
          "text": "Stile di consumo"
         }
        }
       }
      },
      "text/html": [
       "<div>                            <div id=\"eb3a3e7e-26bb-4318-8417-38c859815399\" class=\"plotly-graph-div\" style=\"height:525px; width:100%;\"></div>            <script type=\"text/javascript\">                require([\"plotly\"], function(Plotly) {                    window.PLOTLYENV=window.PLOTLYENV || {};                                    if (document.getElementById(\"eb3a3e7e-26bb-4318-8417-38c859815399\")) {                    Plotly.newPlot(                        \"eb3a3e7e-26bb-4318-8417-38c859815399\",                        [{\"hovertemplate\":\"PERS_neg=%{x}<br>Stile di Consumo=%{y}<br>Cluster=%{marker.color}<extra></extra>\",\"legendgroup\":\"\",\"marker\":{\"color\":[2,0,2,2,0,2,2,1,2,1,0,0,0,0,0,2,2,0,1,0,2,2,0,0,1,0,2,1,0,2,2,1,0,0,1,0,0,1,1,1,1,0,2,1,1,2,2,0,0,1,2,2,1,0,1,2,0,0,2,1,2,2,2,1,0,2,1,0,1,2,1,2,1,0,2,0,0,1,2,0,0,2,1,1,1,2,0,0,0,1,2,0,1,0,1,1,0,2,2,2,2,1,2,0,0,0,2,1,2,0,0,1,1,1,2,1,0,2,0,2,1,2,0,2,2,2,0,0,0,1,1,1,1,0,0,1,1,1,1,1,2,1,2,0,2,1,0,2,1,1,1,1,0,1,0,1,0,1,2,1,1,2,1,2,0,1,2,1,2,1,2,0,0,1,1,0,1,0,1,0,0,1,0,2,2,2,0,1,0,2,2,1,0,0,1,2,2,1,0,0,2,2,1,2,0,1,1,0,0,2,1,0,0,2,0,0,0,1,1,2,2,1,2,2,1,0,0,1,0,1,0,1,2,0,2,0,0,0,2,0,2,2,1,0,2,1,2,0,0,1,0,1,1,0,1,1,0,0,2,2,2,2,1,1,2,1,2,1,2,0,1,0,1,0,0,0,0,1,2,1,2,1,1,0,1,1,2,1,1,1,2,0,2,1,2,0,0,1,2,1,0,2,1,1,0,1,0,1,0,1,1,0,0,1,0,2,1,0,2,0,0,1,1,0,2,2,0,1,1,2,1,1,1,0,1,0,1,0,2,2,1,0,1,0,0,1,1,2,2,1,2,1,1,1,1,1,0,1,1,0,1,0,0,0,1,2,0,2,1,1,0,0,1,1,2,2,0,1,2,2,1,0,0,0,0,0,1,2,0,0,1,2,1,2,0,0,0,1,2,2,1,2,0,2,0,0,1,0,0,0,0,0,1,2,0,1,2,2,1,1,2,1,1,0,0,1,2,2,0,0,1,1,1,1,1,1,2,1,0,0,2,1,1,0,0,2,2,0,2,2,2,1,1,0,2,0,2,1,1,1,2,1,2,0,1,1,0,0,0,1,2,1,2],\"coloraxis\":\"coloraxis\",\"symbol\":\"circle\"},\"mode\":\"markers\",\"name\":\"\",\"orientation\":\"v\",\"showlegend\":false,\"x\":[2.25,2.0,2.5,2.25,2.0,1.0,2.25,2.25,2.25,2.75,2.25,2.0,1.0,3.75,2.5,2.25,2.0,1.75,1.75,1.75,2.0,2.0,2.0,2.25,3.0,2.25,3.0,2.0,2.5,2.25,2.5,2.25,2.25,2.75,2.25,1.5,2.75,2.25,2.25,1.25,2.0,1.25,3.25,2.75,2.0,3.0,3.0,2.25,2.25,2.0,1.75,2.5,2.25,1.5,2.75,2.5,1.75,1.5,1.75,2.0,2.0,2.25,1.75,1.75,2.25,2.25,2.0,1.75,2.25,3.5,1.25,2.25,2.0,2.5,1.75,1.0,1.75,3.0,2.5,2.0,2.75,1.5,1.5,2.5,1.25,1.75,1.5,2.5,1.75,2.75,2.25,2.75,2.0,2.5,1.75,2.25,2.0,1.75,2.25,2.25,3.5,3.0,3.5,1.75,2.0,2.5,1.75,2.25,2.5,1.5,2.0,2.25,2.25,2.0,2.25,1.25,1.25,2.25,2.0,2.0,2.25,3.0,2.5,1.75,3.25,2.5,2.0,3.0,2.0,1.25,1.75,2.75,2.0,2.25,1.5,2.0,1.5,2.25,3.25,1.75,3.0,2.5,1.75,1.75,2.75,1.75,2.25,2.25,2.0,2.25,2.0,1.25,2.0,2.25,2.0,2.25,2.75,1.25,2.0,3.0,1.75,1.5,3.25,3.0,2.75,2.25,1.5,2.5,2.5,2.25,1.5,2.25,2.5,2.75,2.5,1.75,2.5,2.25,2.5,2.25,2.25,2.0,2.0,3.0,2.75,2.5,2.25,2.25,2.0,2.5,2.75,2.5,1.5,1.5,2.0,2.0,1.75,2.0,1.75,2.5,2.5,2.5,2.25,2.75,1.75,2.75,2.75,1.75,2.25,1.5,1.5,2.0,1.75,2.0,3.0,1.5,1.75,2.0,1.75,1.75,1.5,2.0,2.25,2.5,1.75,2.25,1.5,2.5,1.75,2.0,1.5,1.75,2.0,2.0,1.75,2.0,1.75,2.0,2.0,2.75,2.5,2.0,2.5,2.0,2.75,2.25,2.5,2.5,1.75,3.25,1.5,2.0,1.75,2.0,3.0,2.0,2.25,2.75,1.25,2.25,2.75,3.75,2.0,2.5,1.75,1.5,2.5,1.5,2.75,2.5,2.0,2.25,1.75,1.75,1.75,2.25,2.25,1.5,2.25,2.75,1.75,1.75,1.75,2.25,2.75,1.75,2.5,3.25,1.0,2.25,1.75,3.0,2.5,1.5,2.0,1.5,1.5,2.25,1.75,1.5,2.75,2.25,2.25,2.5,3.0,2.25,2.25,2.5,3.0,2.25,2.25,2.5,1.5,2.0,2.25,2.0,3.0,1.5,2.5,2.25,1.75,2.5,2.5,2.0,2.0,2.5,2.25,1.75,2.5,1.75,3.0,2.0,1.5,2.25,1.5,2.75,1.5,2.0,2.5,2.5,1.25,1.5,1.5,1.75,1.25,1.75,2.0,2.0,2.25,2.25,1.5,1.5,2.25,1.5,2.0,3.0,1.75,2.0,2.25,2.0,2.0,2.0,1.0,1.75,1.25,2.0,2.0,1.25,2.5,2.25,2.0,2.0,1.75,1.5,2.5,2.25,2.25,2.5,2.0,1.75,2.0,1.0,2.0,3.0,1.75,2.25,1.5,1.5,2.0,2.0,2.0,2.0,1.25,1.75,1.25,2.0,1.75,1.0,3.0,2.75,3.0,1.75,2.25,1.75,2.5,2.25,3.25,2.5,1.0,2.0,2.75,2.5,2.0,2.5,2.25,1.75,2.25,2.75,1.75,2.25,1.5,3.25,1.5,2.25,1.75,3.0,1.0,2.75,2.0,2.5,1.5,3.0,1.0,1.25,1.5,2.25,1.0,1.75,2.0,1.75,1.5,2.5,2.25,3.5,1.5,1.75,2.75,1.75,1.5,2.75,2.5,1.75,2.25,1.5,1.75,2.5,2.0,2.0,1.5,1.75,1.75,3.5,1.0,1.75,2.0,1.0,2.0,2.5,1.75,2.75,2.75,1.25,2.0],\"xaxis\":\"x\",\"y\":[2.83,2.67,2.17,1.5,2.33,2.17,2.17,2.33,2.83,2.5,2.5,2.17,3.0,2.5,3.0,2.67,2.0,2.17,3.0,2.33,2.5,2.33,2.0,2.67,2.67,2.67,1.67,2.67,2.67,1.83,2.67,3.0,2.83,2.33,1.83,2.17,3.17,2.67,2.83,3.0,2.17,1.83,2.83,2.83,2.5,2.5,1.83,2.67,2.67,2.67,2.5,2.5,2.0,2.33,2.5,2.67,4.0,3.0,2.0,2.83,1.67,2.67,2.5,3.0,2.33,2.67,2.67,2.17,1.67,2.33,3.0,2.83,2.5,2.67,1.83,1.33,2.33,2.5,2.5,2.17,2.17,2.33,3.17,2.17,2.67,1.33,2.17,2.17,2.5,2.83,2.33,2.67,2.33,2.33,2.33,2.17,2.5,1.67,2.0,2.67,2.67,3.33,2.0,1.67,2.5,2.17,2.83,2.33,2.67,1.83,1.83,2.67,2.83,2.0,2.67,2.5,2.67,2.5,2.67,3.0,2.67,2.5,2.17,2.17,3.0,3.17,3.0,2.67,3.0,2.83,2.17,2.5,3.0,3.0,1.5,2.5,3.0,2.5,2.5,3.5,2.67,2.83,2.0,2.83,2.67,2.83,2.67,2.33,1.83,2.17,2.33,2.83,2.17,2.33,2.0,2.83,2.33,2.67,2.67,2.83,2.17,2.33,3.0,2.5,2.17,2.5,2.33,2.83,2.67,2.33,3.0,2.5,2.5,2.17,2.5,2.5,2.0,1.83,2.83,3.0,1.83,2.83,2.67,2.83,1.67,2.5,2.83,2.17,2.33,2.83,2.17,2.17,2.33,1.67,2.67,3.17,2.83,2.67,2.67,2.5,3.0,2.33,2.17,3.17,3.0,2.67,2.17,2.67,3.0,2.5,3.67,2.33,2.33,2.0,2.0,2.17,2.17,1.5,2.0,2.83,2.83,2.67,2.5,1.5,2.67,2.0,2.67,2.5,2.5,2.83,1.33,1.83,1.67,1.33,2.67,2.83,2.67,2.0,2.67,2.33,2.67,2.83,3.17,3.0,2.5,3.0,2.33,2.5,2.17,3.17,1.83,2.83,3.17,2.0,2.5,2.17,2.5,2.17,2.0,1.83,2.67,2.67,2.67,2.5,2.17,2.67,2.83,2.83,2.33,2.17,2.17,2.0,2.5,2.17,2.67,2.17,2.67,2.33,2.83,2.17,2.0,2.5,3.5,1.5,2.5,1.83,2.33,2.83,3.0,2.33,2.0,1.67,2.17,2.5,2.5,2.5,2.17,2.33,2.33,1.83,2.67,2.17,2.83,2.83,2.67,2.0,2.33,2.33,2.0,2.5,2.33,3.0,2.0,2.67,2.33,2.17,3.0,2.33,2.5,2.33,2.67,2.5,3.0,2.83,2.5,2.0,2.5,2.67,2.83,2.33,2.5,2.5,2.17,2.33,2.33,2.83,2.0,2.0,2.83,2.67,2.33,2.5,2.17,2.83,1.33,2.83,2.0,1.83,2.83,2.83,2.33,3.0,2.33,2.33,1.83,2.83,2.0,2.5,2.83,2.0,2.5,2.33,3.33,2.0,1.5,2.17,2.17,2.0,2.5,1.67,1.83,2.33,3.0,2.17,2.5,2.17,2.5,2.5,2.67,2.5,2.0,2.5,1.83,2.67,2.33,2.67,3.0,1.83,1.67,2.0,3.0,2.83,3.0,1.5,2.33,2.5,2.33,2.17,1.33,2.33,2.33,2.83,2.17,2.67,2.0,2.5,2.5,2.83,2.67,2.83,2.83,3.0,2.17,2.5,2.67,2.0,2.33,2.33,2.5,2.0,2.67,2.5,2.67,2.5,2.5,3.0,3.33,2.67,2.0,2.67,2.5,3.17,2.67,2.67,2.83,2.83,2.0,2.83,2.33,2.33,1.83,3.0,2.0,3.5,2.0,2.33,2.67,2.17,2.17,2.17,2.0,2.83,2.67,2.33,1.83,2.17,2.0,2.67,2.83,3.0,2.17,2.67,3.33,3.0,2.17,3.5,2.5,2.83,2.33,2.5,2.33,2.67,2.5],\"yaxis\":\"y\",\"type\":\"scatter\"}],                        {\"template\":{\"data\":{\"histogram2dcontour\":[{\"type\":\"histogram2dcontour\",\"colorbar\":{\"outlinewidth\":0,\"ticks\":\"\"},\"colorscale\":[[0.0,\"#0d0887\"],[0.1111111111111111,\"#46039f\"],[0.2222222222222222,\"#7201a8\"],[0.3333333333333333,\"#9c179e\"],[0.4444444444444444,\"#bd3786\"],[0.5555555555555556,\"#d8576b\"],[0.6666666666666666,\"#ed7953\"],[0.7777777777777778,\"#fb9f3a\"],[0.8888888888888888,\"#fdca26\"],[1.0,\"#f0f921\"]]}],\"choropleth\":[{\"type\":\"choropleth\",\"colorbar\":{\"outlinewidth\":0,\"ticks\":\"\"}}],\"histogram2d\":[{\"type\":\"histogram2d\",\"colorbar\":{\"outlinewidth\":0,\"ticks\":\"\"},\"colorscale\":[[0.0,\"#0d0887\"],[0.1111111111111111,\"#46039f\"],[0.2222222222222222,\"#7201a8\"],[0.3333333333333333,\"#9c179e\"],[0.4444444444444444,\"#bd3786\"],[0.5555555555555556,\"#d8576b\"],[0.6666666666666666,\"#ed7953\"],[0.7777777777777778,\"#fb9f3a\"],[0.8888888888888888,\"#fdca26\"],[1.0,\"#f0f921\"]]}],\"heatmap\":[{\"type\":\"heatmap\",\"colorbar\":{\"outlinewidth\":0,\"ticks\":\"\"},\"colorscale\":[[0.0,\"#0d0887\"],[0.1111111111111111,\"#46039f\"],[0.2222222222222222,\"#7201a8\"],[0.3333333333333333,\"#9c179e\"],[0.4444444444444444,\"#bd3786\"],[0.5555555555555556,\"#d8576b\"],[0.6666666666666666,\"#ed7953\"],[0.7777777777777778,\"#fb9f3a\"],[0.8888888888888888,\"#fdca26\"],[1.0,\"#f0f921\"]]}],\"heatmapgl\":[{\"type\":\"heatmapgl\",\"colorbar\":{\"outlinewidth\":0,\"ticks\":\"\"},\"colorscale\":[[0.0,\"#0d0887\"],[0.1111111111111111,\"#46039f\"],[0.2222222222222222,\"#7201a8\"],[0.3333333333333333,\"#9c179e\"],[0.4444444444444444,\"#bd3786\"],[0.5555555555555556,\"#d8576b\"],[0.6666666666666666,\"#ed7953\"],[0.7777777777777778,\"#fb9f3a\"],[0.8888888888888888,\"#fdca26\"],[1.0,\"#f0f921\"]]}],\"contourcarpet\":[{\"type\":\"contourcarpet\",\"colorbar\":{\"outlinewidth\":0,\"ticks\":\"\"}}],\"contour\":[{\"type\":\"contour\",\"colorbar\":{\"outlinewidth\":0,\"ticks\":\"\"},\"colorscale\":[[0.0,\"#0d0887\"],[0.1111111111111111,\"#46039f\"],[0.2222222222222222,\"#7201a8\"],[0.3333333333333333,\"#9c179e\"],[0.4444444444444444,\"#bd3786\"],[0.5555555555555556,\"#d8576b\"],[0.6666666666666666,\"#ed7953\"],[0.7777777777777778,\"#fb9f3a\"],[0.8888888888888888,\"#fdca26\"],[1.0,\"#f0f921\"]]}],\"surface\":[{\"type\":\"surface\",\"colorbar\":{\"outlinewidth\":0,\"ticks\":\"\"},\"colorscale\":[[0.0,\"#0d0887\"],[0.1111111111111111,\"#46039f\"],[0.2222222222222222,\"#7201a8\"],[0.3333333333333333,\"#9c179e\"],[0.4444444444444444,\"#bd3786\"],[0.5555555555555556,\"#d8576b\"],[0.6666666666666666,\"#ed7953\"],[0.7777777777777778,\"#fb9f3a\"],[0.8888888888888888,\"#fdca26\"],[1.0,\"#f0f921\"]]}],\"mesh3d\":[{\"type\":\"mesh3d\",\"colorbar\":{\"outlinewidth\":0,\"ticks\":\"\"}}],\"scatter\":[{\"fillpattern\":{\"fillmode\":\"overlay\",\"size\":10,\"solidity\":0.2},\"type\":\"scatter\"}],\"parcoords\":[{\"type\":\"parcoords\",\"line\":{\"colorbar\":{\"outlinewidth\":0,\"ticks\":\"\"}}}],\"scatterpolargl\":[{\"type\":\"scatterpolargl\",\"marker\":{\"colorbar\":{\"outlinewidth\":0,\"ticks\":\"\"}}}],\"bar\":[{\"error_x\":{\"color\":\"#2a3f5f\"},\"error_y\":{\"color\":\"#2a3f5f\"},\"marker\":{\"line\":{\"color\":\"#E5ECF6\",\"width\":0.5},\"pattern\":{\"fillmode\":\"overlay\",\"size\":10,\"solidity\":0.2}},\"type\":\"bar\"}],\"scattergeo\":[{\"type\":\"scattergeo\",\"marker\":{\"colorbar\":{\"outlinewidth\":0,\"ticks\":\"\"}}}],\"scatterpolar\":[{\"type\":\"scatterpolar\",\"marker\":{\"colorbar\":{\"outlinewidth\":0,\"ticks\":\"\"}}}],\"histogram\":[{\"marker\":{\"pattern\":{\"fillmode\":\"overlay\",\"size\":10,\"solidity\":0.2}},\"type\":\"histogram\"}],\"scattergl\":[{\"type\":\"scattergl\",\"marker\":{\"colorbar\":{\"outlinewidth\":0,\"ticks\":\"\"}}}],\"scatter3d\":[{\"type\":\"scatter3d\",\"line\":{\"colorbar\":{\"outlinewidth\":0,\"ticks\":\"\"}},\"marker\":{\"colorbar\":{\"outlinewidth\":0,\"ticks\":\"\"}}}],\"scattermapbox\":[{\"type\":\"scattermapbox\",\"marker\":{\"colorbar\":{\"outlinewidth\":0,\"ticks\":\"\"}}}],\"scatterternary\":[{\"type\":\"scatterternary\",\"marker\":{\"colorbar\":{\"outlinewidth\":0,\"ticks\":\"\"}}}],\"scattercarpet\":[{\"type\":\"scattercarpet\",\"marker\":{\"colorbar\":{\"outlinewidth\":0,\"ticks\":\"\"}}}],\"carpet\":[{\"aaxis\":{\"endlinecolor\":\"#2a3f5f\",\"gridcolor\":\"white\",\"linecolor\":\"white\",\"minorgridcolor\":\"white\",\"startlinecolor\":\"#2a3f5f\"},\"baxis\":{\"endlinecolor\":\"#2a3f5f\",\"gridcolor\":\"white\",\"linecolor\":\"white\",\"minorgridcolor\":\"white\",\"startlinecolor\":\"#2a3f5f\"},\"type\":\"carpet\"}],\"table\":[{\"cells\":{\"fill\":{\"color\":\"#EBF0F8\"},\"line\":{\"color\":\"white\"}},\"header\":{\"fill\":{\"color\":\"#C8D4E3\"},\"line\":{\"color\":\"white\"}},\"type\":\"table\"}],\"barpolar\":[{\"marker\":{\"line\":{\"color\":\"#E5ECF6\",\"width\":0.5},\"pattern\":{\"fillmode\":\"overlay\",\"size\":10,\"solidity\":0.2}},\"type\":\"barpolar\"}],\"pie\":[{\"automargin\":true,\"type\":\"pie\"}]},\"layout\":{\"autotypenumbers\":\"strict\",\"colorway\":[\"#636efa\",\"#EF553B\",\"#00cc96\",\"#ab63fa\",\"#FFA15A\",\"#19d3f3\",\"#FF6692\",\"#B6E880\",\"#FF97FF\",\"#FECB52\"],\"font\":{\"color\":\"#2a3f5f\"},\"hovermode\":\"closest\",\"hoverlabel\":{\"align\":\"left\"},\"paper_bgcolor\":\"white\",\"plot_bgcolor\":\"#E5ECF6\",\"polar\":{\"bgcolor\":\"#E5ECF6\",\"angularaxis\":{\"gridcolor\":\"white\",\"linecolor\":\"white\",\"ticks\":\"\"},\"radialaxis\":{\"gridcolor\":\"white\",\"linecolor\":\"white\",\"ticks\":\"\"}},\"ternary\":{\"bgcolor\":\"#E5ECF6\",\"aaxis\":{\"gridcolor\":\"white\",\"linecolor\":\"white\",\"ticks\":\"\"},\"baxis\":{\"gridcolor\":\"white\",\"linecolor\":\"white\",\"ticks\":\"\"},\"caxis\":{\"gridcolor\":\"white\",\"linecolor\":\"white\",\"ticks\":\"\"}},\"coloraxis\":{\"colorbar\":{\"outlinewidth\":0,\"ticks\":\"\"}},\"colorscale\":{\"sequential\":[[0.0,\"#0d0887\"],[0.1111111111111111,\"#46039f\"],[0.2222222222222222,\"#7201a8\"],[0.3333333333333333,\"#9c179e\"],[0.4444444444444444,\"#bd3786\"],[0.5555555555555556,\"#d8576b\"],[0.6666666666666666,\"#ed7953\"],[0.7777777777777778,\"#fb9f3a\"],[0.8888888888888888,\"#fdca26\"],[1.0,\"#f0f921\"]],\"sequentialminus\":[[0.0,\"#0d0887\"],[0.1111111111111111,\"#46039f\"],[0.2222222222222222,\"#7201a8\"],[0.3333333333333333,\"#9c179e\"],[0.4444444444444444,\"#bd3786\"],[0.5555555555555556,\"#d8576b\"],[0.6666666666666666,\"#ed7953\"],[0.7777777777777778,\"#fb9f3a\"],[0.8888888888888888,\"#fdca26\"],[1.0,\"#f0f921\"]],\"diverging\":[[0,\"#8e0152\"],[0.1,\"#c51b7d\"],[0.2,\"#de77ae\"],[0.3,\"#f1b6da\"],[0.4,\"#fde0ef\"],[0.5,\"#f7f7f7\"],[0.6,\"#e6f5d0\"],[0.7,\"#b8e186\"],[0.8,\"#7fbc41\"],[0.9,\"#4d9221\"],[1,\"#276419\"]]},\"xaxis\":{\"gridcolor\":\"white\",\"linecolor\":\"white\",\"ticks\":\"\",\"title\":{\"standoff\":15},\"zerolinecolor\":\"white\",\"automargin\":true,\"zerolinewidth\":2},\"yaxis\":{\"gridcolor\":\"white\",\"linecolor\":\"white\",\"ticks\":\"\",\"title\":{\"standoff\":15},\"zerolinecolor\":\"white\",\"automargin\":true,\"zerolinewidth\":2},\"scene\":{\"xaxis\":{\"backgroundcolor\":\"#E5ECF6\",\"gridcolor\":\"white\",\"linecolor\":\"white\",\"showbackground\":true,\"ticks\":\"\",\"zerolinecolor\":\"white\",\"gridwidth\":2},\"yaxis\":{\"backgroundcolor\":\"#E5ECF6\",\"gridcolor\":\"white\",\"linecolor\":\"white\",\"showbackground\":true,\"ticks\":\"\",\"zerolinecolor\":\"white\",\"gridwidth\":2},\"zaxis\":{\"backgroundcolor\":\"#E5ECF6\",\"gridcolor\":\"white\",\"linecolor\":\"white\",\"showbackground\":true,\"ticks\":\"\",\"zerolinecolor\":\"white\",\"gridwidth\":2}},\"shapedefaults\":{\"line\":{\"color\":\"#2a3f5f\"}},\"annotationdefaults\":{\"arrowcolor\":\"#2a3f5f\",\"arrowhead\":0,\"arrowwidth\":1},\"geo\":{\"bgcolor\":\"white\",\"landcolor\":\"#E5ECF6\",\"subunitcolor\":\"white\",\"showland\":true,\"showlakes\":true,\"lakecolor\":\"white\"},\"title\":{\"x\":0.05},\"mapbox\":{\"style\":\"light\"}}},\"xaxis\":{\"anchor\":\"y\",\"domain\":[0.0,1.0],\"title\":{\"text\":\"Variabili personali positive\"}},\"yaxis\":{\"anchor\":\"x\",\"domain\":[0.0,1.0],\"title\":{\"text\":\"Stile di consumo\"}},\"coloraxis\":{\"colorbar\":{\"title\":{\"text\":\"Cluster\"}},\"colorscale\":[[0.0,\"rgb(228,26,28)\"],[0.125,\"rgb(55,126,184)\"],[0.25,\"rgb(77,175,74)\"],[0.375,\"rgb(152,78,163)\"],[0.5,\"rgb(255,127,0)\"],[0.625,\"rgb(255,255,51)\"],[0.75,\"rgb(166,86,40)\"],[0.875,\"rgb(247,129,191)\"],[1.0,\"rgb(153,153,153)\"]]},\"legend\":{\"tracegroupgap\":0},\"margin\":{\"t\":60},\"title\":{\"text\":\"Personalit\\u00e0 VS Stile di Consumo\"}},                        {\"responsive\": true}                    ).then(function(){\n",
       "                            \n",
       "var gd = document.getElementById('eb3a3e7e-26bb-4318-8417-38c859815399');\n",
       "var x = new MutationObserver(function (mutations, observer) {{\n",
       "        var display = window.getComputedStyle(gd).display;\n",
       "        if (!display || display === 'none') {{\n",
       "            console.log([gd, 'removed!']);\n",
       "            Plotly.purge(gd);\n",
       "            observer.disconnect();\n",
       "        }}\n",
       "}});\n",
       "\n",
       "// Listen for the removal of the full notebook cells\n",
       "var notebookContainer = gd.closest('#notebook-container');\n",
       "if (notebookContainer) {{\n",
       "    x.observe(notebookContainer, {childList: true});\n",
       "}}\n",
       "\n",
       "// Listen for the clearing of the current output cell\n",
       "var outputEl = gd.closest('.output');\n",
       "if (outputEl) {{\n",
       "    x.observe(outputEl, {childList: true});\n",
       "}}\n",
       "\n",
       "                        })                };                });            </script>        </div>"
      ]
     },
     "metadata": {},
     "output_type": "display_data"
    }
   ],
   "source": [
    "#color pattern\n",
    "px.defaults.color_continuous_scale =px.colors.qualitative.Set1\n",
    "\n",
    "#set up the figure details\n",
    "fig = px.scatter(not_political, x='PERS_neg', y='consumo', color='cluster_agg',  labels={'PERS_mean': 'Tratti', 'consumo': 'Stile di Consumo',\n",
    "                         'cluster_agg': 'Cluster'})\n",
    "\n",
    "\n",
    "\n",
    "#provide the layout\n",
    "fig.update_layout(\n",
    "    title='Personalità VS Stile di Consumo',\n",
    "    xaxis_title='Variabili personali positive',\n",
    "    yaxis_title='Stile di consumo'\n",
    ")\n",
    "\n",
    "\n",
    "\n",
    "# Show the plot\n",
    "fig.show()"
   ]
  },
  {
   "cell_type": "markdown",
   "id": "f4f77f54",
   "metadata": {},
   "source": [
    "## Stile di consumo (Omologato o Alternativo) VS INDCOL (individualismo - collettivismo)"
   ]
  },
  {
   "cell_type": "code",
   "execution_count": 404,
   "id": "dc755670",
   "metadata": {},
   "outputs": [
    {
     "data": {
      "application/vnd.plotly.v1+json": {
       "config": {
        "plotlyServerURL": "https://plot.ly"
       },
       "data": [
        {
         "hovertemplate": "Stile di Consumo=%{x}<br>Individualismo=%{y}<br>Cluster=%{marker.color}<extra></extra>",
         "legendgroup": "",
         "marker": {
          "color": [
           2,
           0,
           2,
           2,
           0,
           2,
           2,
           1,
           2,
           1,
           0,
           0,
           0,
           0,
           0,
           2,
           2,
           0,
           1,
           0,
           2,
           2,
           0,
           0,
           1,
           0,
           2,
           1,
           0,
           2,
           2,
           1,
           0,
           0,
           1,
           0,
           0,
           1,
           1,
           1,
           1,
           0,
           2,
           1,
           1,
           2,
           2,
           0,
           0,
           1,
           2,
           2,
           1,
           0,
           1,
           2,
           0,
           0,
           2,
           1,
           2,
           2,
           2,
           1,
           0,
           2,
           1,
           0,
           1,
           2,
           1,
           2,
           1,
           0,
           2,
           0,
           0,
           1,
           2,
           0,
           0,
           2,
           1,
           1,
           1,
           2,
           0,
           0,
           0,
           1,
           2,
           0,
           1,
           0,
           1,
           1,
           0,
           2,
           2,
           2,
           2,
           1,
           2,
           0,
           0,
           0,
           2,
           1,
           2,
           0,
           0,
           1,
           1,
           1,
           2,
           1,
           0,
           2,
           0,
           2,
           1,
           2,
           0,
           2,
           2,
           2,
           0,
           0,
           0,
           1,
           1,
           1,
           1,
           0,
           0,
           1,
           1,
           1,
           1,
           1,
           2,
           1,
           2,
           0,
           2,
           1,
           0,
           2,
           1,
           1,
           1,
           1,
           0,
           1,
           0,
           1,
           0,
           1,
           2,
           1,
           1,
           2,
           1,
           2,
           0,
           1,
           2,
           1,
           2,
           1,
           2,
           0,
           0,
           1,
           1,
           0,
           1,
           0,
           1,
           0,
           0,
           1,
           0,
           2,
           2,
           2,
           0,
           1,
           0,
           2,
           2,
           1,
           0,
           0,
           1,
           2,
           2,
           1,
           0,
           0,
           2,
           2,
           1,
           2,
           0,
           1,
           1,
           0,
           0,
           2,
           1,
           0,
           0,
           2,
           0,
           0,
           0,
           1,
           1,
           2,
           2,
           1,
           2,
           2,
           1,
           0,
           0,
           1,
           0,
           1,
           0,
           1,
           2,
           0,
           2,
           0,
           0,
           0,
           2,
           0,
           2,
           2,
           1,
           0,
           2,
           1,
           2,
           0,
           0,
           1,
           0,
           1,
           1,
           0,
           1,
           1,
           0,
           0,
           2,
           2,
           2,
           2,
           1,
           1,
           2,
           1,
           2,
           1,
           2,
           0,
           1,
           0,
           1,
           0,
           0,
           0,
           0,
           1,
           2,
           1,
           2,
           1,
           1,
           0,
           1,
           1,
           2,
           1,
           1,
           1,
           2,
           0,
           2,
           1,
           2,
           0,
           0,
           1,
           2,
           1,
           0,
           2,
           1,
           1,
           0,
           1,
           0,
           1,
           0,
           1,
           1,
           0,
           0,
           1,
           0,
           2,
           1,
           0,
           2,
           0,
           0,
           1,
           1,
           0,
           2,
           2,
           0,
           1,
           1,
           2,
           1,
           1,
           1,
           0,
           1,
           0,
           1,
           0,
           2,
           2,
           1,
           0,
           1,
           0,
           0,
           1,
           1,
           2,
           2,
           1,
           2,
           1,
           1,
           1,
           1,
           1,
           0,
           1,
           1,
           0,
           1,
           0,
           0,
           0,
           1,
           2,
           0,
           2,
           1,
           1,
           0,
           0,
           1,
           1,
           2,
           2,
           0,
           1,
           2,
           2,
           1,
           0,
           0,
           0,
           0,
           0,
           1,
           2,
           0,
           0,
           1,
           2,
           1,
           2,
           0,
           0,
           0,
           1,
           2,
           2,
           1,
           2,
           0,
           2,
           0,
           0,
           1,
           0,
           0,
           0,
           0,
           0,
           1,
           2,
           0,
           1,
           2,
           2,
           1,
           1,
           2,
           1,
           1,
           0,
           0,
           1,
           2,
           2,
           0,
           0,
           1,
           1,
           1,
           1,
           1,
           1,
           2,
           1,
           0,
           0,
           2,
           1,
           1,
           0,
           0,
           2,
           2,
           0,
           2,
           2,
           2,
           1,
           1,
           0,
           2,
           0,
           2,
           1,
           1,
           1,
           2,
           1,
           2,
           0,
           1,
           1,
           0,
           0,
           0,
           1,
           2,
           1,
           2
          ],
          "coloraxis": "coloraxis",
          "symbol": "circle"
         },
         "mode": "markers",
         "name": "",
         "orientation": "v",
         "showlegend": false,
         "type": "scatter",
         "x": [
          2.83,
          2.67,
          2.17,
          1.5,
          2.33,
          2.17,
          2.17,
          2.33,
          2.83,
          2.5,
          2.5,
          2.17,
          3,
          2.5,
          3,
          2.67,
          2,
          2.17,
          3,
          2.33,
          2.5,
          2.33,
          2,
          2.67,
          2.67,
          2.67,
          1.67,
          2.67,
          2.67,
          1.83,
          2.67,
          3,
          2.83,
          2.33,
          1.83,
          2.17,
          3.17,
          2.67,
          2.83,
          3,
          2.17,
          1.83,
          2.83,
          2.83,
          2.5,
          2.5,
          1.83,
          2.67,
          2.67,
          2.67,
          2.5,
          2.5,
          2,
          2.33,
          2.5,
          2.67,
          4,
          3,
          2,
          2.83,
          1.67,
          2.67,
          2.5,
          3,
          2.33,
          2.67,
          2.67,
          2.17,
          1.67,
          2.33,
          3,
          2.83,
          2.5,
          2.67,
          1.83,
          1.33,
          2.33,
          2.5,
          2.5,
          2.17,
          2.17,
          2.33,
          3.17,
          2.17,
          2.67,
          1.33,
          2.17,
          2.17,
          2.5,
          2.83,
          2.33,
          2.67,
          2.33,
          2.33,
          2.33,
          2.17,
          2.5,
          1.67,
          2,
          2.67,
          2.67,
          3.33,
          2,
          1.67,
          2.5,
          2.17,
          2.83,
          2.33,
          2.67,
          1.83,
          1.83,
          2.67,
          2.83,
          2,
          2.67,
          2.5,
          2.67,
          2.5,
          2.67,
          3,
          2.67,
          2.5,
          2.17,
          2.17,
          3,
          3.17,
          3,
          2.67,
          3,
          2.83,
          2.17,
          2.5,
          3,
          3,
          1.5,
          2.5,
          3,
          2.5,
          2.5,
          3.5,
          2.67,
          2.83,
          2,
          2.83,
          2.67,
          2.83,
          2.67,
          2.33,
          1.83,
          2.17,
          2.33,
          2.83,
          2.17,
          2.33,
          2,
          2.83,
          2.33,
          2.67,
          2.67,
          2.83,
          2.17,
          2.33,
          3,
          2.5,
          2.17,
          2.5,
          2.33,
          2.83,
          2.67,
          2.33,
          3,
          2.5,
          2.5,
          2.17,
          2.5,
          2.5,
          2,
          1.83,
          2.83,
          3,
          1.83,
          2.83,
          2.67,
          2.83,
          1.67,
          2.5,
          2.83,
          2.17,
          2.33,
          2.83,
          2.17,
          2.17,
          2.33,
          1.67,
          2.67,
          3.17,
          2.83,
          2.67,
          2.67,
          2.5,
          3,
          2.33,
          2.17,
          3.17,
          3,
          2.67,
          2.17,
          2.67,
          3,
          2.5,
          3.67,
          2.33,
          2.33,
          2,
          2,
          2.17,
          2.17,
          1.5,
          2,
          2.83,
          2.83,
          2.67,
          2.5,
          1.5,
          2.67,
          2,
          2.67,
          2.5,
          2.5,
          2.83,
          1.33,
          1.83,
          1.67,
          1.33,
          2.67,
          2.83,
          2.67,
          2,
          2.67,
          2.33,
          2.67,
          2.83,
          3.17,
          3,
          2.5,
          3,
          2.33,
          2.5,
          2.17,
          3.17,
          1.83,
          2.83,
          3.17,
          2,
          2.5,
          2.17,
          2.5,
          2.17,
          2,
          1.83,
          2.67,
          2.67,
          2.67,
          2.5,
          2.17,
          2.67,
          2.83,
          2.83,
          2.33,
          2.17,
          2.17,
          2,
          2.5,
          2.17,
          2.67,
          2.17,
          2.67,
          2.33,
          2.83,
          2.17,
          2,
          2.5,
          3.5,
          1.5,
          2.5,
          1.83,
          2.33,
          2.83,
          3,
          2.33,
          2,
          1.67,
          2.17,
          2.5,
          2.5,
          2.5,
          2.17,
          2.33,
          2.33,
          1.83,
          2.67,
          2.17,
          2.83,
          2.83,
          2.67,
          2,
          2.33,
          2.33,
          2,
          2.5,
          2.33,
          3,
          2,
          2.67,
          2.33,
          2.17,
          3,
          2.33,
          2.5,
          2.33,
          2.67,
          2.5,
          3,
          2.83,
          2.5,
          2,
          2.5,
          2.67,
          2.83,
          2.33,
          2.5,
          2.5,
          2.17,
          2.33,
          2.33,
          2.83,
          2,
          2,
          2.83,
          2.67,
          2.33,
          2.5,
          2.17,
          2.83,
          1.33,
          2.83,
          2,
          1.83,
          2.83,
          2.83,
          2.33,
          3,
          2.33,
          2.33,
          1.83,
          2.83,
          2,
          2.5,
          2.83,
          2,
          2.5,
          2.33,
          3.33,
          2,
          1.5,
          2.17,
          2.17,
          2,
          2.5,
          1.67,
          1.83,
          2.33,
          3,
          2.17,
          2.5,
          2.17,
          2.5,
          2.5,
          2.67,
          2.5,
          2,
          2.5,
          1.83,
          2.67,
          2.33,
          2.67,
          3,
          1.83,
          1.67,
          2,
          3,
          2.83,
          3,
          1.5,
          2.33,
          2.5,
          2.33,
          2.17,
          1.33,
          2.33,
          2.33,
          2.83,
          2.17,
          2.67,
          2,
          2.5,
          2.5,
          2.83,
          2.67,
          2.83,
          2.83,
          3,
          2.17,
          2.5,
          2.67,
          2,
          2.33,
          2.33,
          2.5,
          2,
          2.67,
          2.5,
          2.67,
          2.5,
          2.5,
          3,
          3.33,
          2.67,
          2,
          2.67,
          2.5,
          3.17,
          2.67,
          2.67,
          2.83,
          2.83,
          2,
          2.83,
          2.33,
          2.33,
          1.83,
          3,
          2,
          3.5,
          2,
          2.33,
          2.67,
          2.17,
          2.17,
          2.17,
          2,
          2.83,
          2.67,
          2.33,
          1.83,
          2.17,
          2,
          2.67,
          2.83,
          3,
          2.17,
          2.67,
          3.33,
          3,
          2.17,
          3.5,
          2.5,
          2.83,
          2.33,
          2.5,
          2.33,
          2.67,
          2.5
         ],
         "xaxis": "x",
         "y": [
          2.29,
          2.43,
          2,
          2.57,
          2.14,
          3,
          3,
          2.29,
          2.14,
          2.14,
          2.14,
          2.43,
          3.43,
          2.43,
          2.57,
          2.43,
          2.71,
          2,
          1.86,
          2,
          2,
          2.43,
          2.14,
          2.57,
          2.71,
          2.86,
          2.14,
          2.71,
          1.57,
          2.57,
          2.43,
          2.14,
          2.86,
          2.43,
          2.43,
          2.14,
          2.57,
          2.71,
          2.57,
          2.86,
          3,
          2.14,
          2,
          2.14,
          2.14,
          2.29,
          3.29,
          2,
          2.43,
          2.57,
          2.43,
          2.86,
          2.29,
          2.71,
          3,
          2,
          3.29,
          1.29,
          2.29,
          2.43,
          1.71,
          2.43,
          1.86,
          2,
          2.57,
          2.57,
          2.86,
          2,
          2.71,
          3,
          1.86,
          2.43,
          2.57,
          2.57,
          2.29,
          2.43,
          2.71,
          2.57,
          2.29,
          2.86,
          3,
          2.29,
          2.86,
          2.71,
          2.71,
          2.29,
          2.29,
          3,
          1.43,
          3.14,
          2.57,
          1.86,
          2.43,
          2.71,
          2.57,
          2.57,
          2.57,
          2.29,
          2.14,
          2.86,
          2.57,
          2.57,
          3,
          2.57,
          2.29,
          2.86,
          2.71,
          2.29,
          2.57,
          1.86,
          3,
          2.71,
          2.29,
          2.57,
          3.14,
          2.57,
          2.57,
          2.71,
          2.43,
          2.71,
          2.14,
          2.71,
          2.57,
          2.14,
          2.14,
          2.14,
          2.43,
          2.71,
          2.29,
          2.14,
          2.14,
          2.29,
          2.86,
          2.14,
          2,
          2.57,
          2.57,
          2.71,
          2.57,
          2.86,
          2.43,
          2.86,
          2.43,
          1.86,
          2.57,
          2.29,
          3,
          2.86,
          2.29,
          2.29,
          2.57,
          1.57,
          2.43,
          2.57,
          2.57,
          2.43,
          2.29,
          2.29,
          2.29,
          2.86,
          2.29,
          2.14,
          3,
          2.86,
          2.43,
          2.29,
          2,
          2.71,
          2.43,
          2.86,
          2,
          2.71,
          2.29,
          3.43,
          3.14,
          2.29,
          3,
          2.29,
          2.29,
          2.29,
          2.71,
          2.29,
          2.57,
          2.86,
          3,
          2.29,
          2.71,
          2.43,
          3.43,
          2.57,
          2.14,
          2.14,
          2.71,
          2.14,
          1.86,
          2.71,
          2.43,
          2.43,
          2.14,
          2.57,
          3.86,
          2.71,
          2.43,
          2.57,
          2,
          3.14,
          2.29,
          2,
          2.14,
          2.57,
          1.43,
          2.86,
          2.43,
          2,
          2.14,
          2.43,
          2.29,
          2.57,
          2.86,
          2.14,
          2.14,
          2.86,
          2.29,
          2.57,
          2.43,
          2.43,
          2.57,
          2.14,
          2.29,
          2.71,
          2.14,
          3.14,
          1.71,
          2.14,
          2.29,
          2.29,
          2.14,
          2,
          2.43,
          2.86,
          2.14,
          2.57,
          2.71,
          2.14,
          2.29,
          2.86,
          2.43,
          2.43,
          2.14,
          3,
          2.43,
          2.43,
          3.29,
          2.86,
          2.71,
          2.57,
          2.43,
          2.29,
          2.14,
          2.43,
          2.29,
          2.57,
          2.29,
          1.71,
          2.71,
          2.57,
          2.57,
          2.43,
          2.71,
          2,
          2.57,
          2.43,
          2.57,
          2.57,
          1.71,
          2.57,
          2.57,
          2,
          1.71,
          2.43,
          2.71,
          2.43,
          2.29,
          2.71,
          2.71,
          2.29,
          2.14,
          2.57,
          1.14,
          2.43,
          2.29,
          2.14,
          3,
          2.29,
          2.71,
          2.71,
          2.43,
          2.43,
          2,
          2.43,
          2.57,
          2.57,
          2.29,
          2.14,
          2.86,
          3.14,
          2.29,
          2.43,
          3,
          2.29,
          2.57,
          1.86,
          2.71,
          2.57,
          2.29,
          1.86,
          2.71,
          1.57,
          2.71,
          2.57,
          2.43,
          2.71,
          3,
          2.29,
          2.29,
          2.43,
          2.86,
          2.43,
          2.29,
          2.57,
          2,
          2.71,
          2.57,
          2.71,
          3.14,
          2.14,
          2.86,
          2,
          2.86,
          2.43,
          1.71,
          2.57,
          2.14,
          2.29,
          1.71,
          2,
          1.57,
          2.14,
          2.43,
          2.29,
          2.43,
          1.57,
          2.86,
          2.86,
          1.86,
          2.86,
          2.57,
          2,
          2.14,
          2.71,
          1.86,
          2.86,
          2.29,
          3.43,
          2.57,
          2.43,
          2.71,
          2.29,
          2.86,
          2.57,
          2.43,
          1.86,
          2.43,
          2.14,
          2.43,
          2.43,
          2.43,
          2.71,
          2.43,
          2.86,
          2.29,
          1.86,
          2.14,
          2.71,
          2.43,
          2.14,
          1.86,
          1.86,
          2.57,
          2.14,
          2.86,
          2.43,
          2.71,
          2.29,
          2.14,
          2.57,
          2.43,
          2.14,
          3.14,
          2.86,
          2.43,
          2.14,
          1.86,
          2.14,
          2,
          2.57,
          2.43,
          2.29,
          2,
          2.43,
          2.43,
          1.71,
          2.43,
          2.71,
          2.29,
          2.71,
          2.43,
          2.43,
          2.29,
          2.71,
          2.57,
          3.14,
          3.14,
          2.57,
          2.14,
          2.71,
          2.43,
          2.71,
          2.57,
          2.57,
          3,
          2.71,
          2.71,
          2.43,
          2.86,
          2.14,
          1.86,
          2.57,
          2.43,
          2,
          1.57,
          2.43,
          2.86,
          3.14,
          2.57,
          1.71,
          2.57,
          2.29,
          2.29,
          2.57,
          2.29,
          2.86,
          2.71,
          2.43,
          2.71,
          2.57,
          3.14,
          2.29,
          2.71,
          3.29,
          3.14,
          2.86,
          2.14,
          2.57,
          2.71,
          3,
          2.57,
          2.71,
          2.14,
          2.57,
          3.14,
          2.71,
          1.57
         ],
         "yaxis": "y"
        }
       ],
       "layout": {
        "coloraxis": {
         "colorbar": {
          "title": {
           "text": "Cluster"
          }
         },
         "colorscale": [
          [
           0,
           "rgb(228,26,28)"
          ],
          [
           0.125,
           "rgb(55,126,184)"
          ],
          [
           0.25,
           "rgb(77,175,74)"
          ],
          [
           0.375,
           "rgb(152,78,163)"
          ],
          [
           0.5,
           "rgb(255,127,0)"
          ],
          [
           0.625,
           "rgb(255,255,51)"
          ],
          [
           0.75,
           "rgb(166,86,40)"
          ],
          [
           0.875,
           "rgb(247,129,191)"
          ],
          [
           1,
           "rgb(153,153,153)"
          ]
         ]
        },
        "legend": {
         "tracegroupgap": 0
        },
        "margin": {
         "t": 60
        },
        "template": {
         "data": {
          "bar": [
           {
            "error_x": {
             "color": "#2a3f5f"
            },
            "error_y": {
             "color": "#2a3f5f"
            },
            "marker": {
             "line": {
              "color": "#E5ECF6",
              "width": 0.5
             },
             "pattern": {
              "fillmode": "overlay",
              "size": 10,
              "solidity": 0.2
             }
            },
            "type": "bar"
           }
          ],
          "barpolar": [
           {
            "marker": {
             "line": {
              "color": "#E5ECF6",
              "width": 0.5
             },
             "pattern": {
              "fillmode": "overlay",
              "size": 10,
              "solidity": 0.2
             }
            },
            "type": "barpolar"
           }
          ],
          "carpet": [
           {
            "aaxis": {
             "endlinecolor": "#2a3f5f",
             "gridcolor": "white",
             "linecolor": "white",
             "minorgridcolor": "white",
             "startlinecolor": "#2a3f5f"
            },
            "baxis": {
             "endlinecolor": "#2a3f5f",
             "gridcolor": "white",
             "linecolor": "white",
             "minorgridcolor": "white",
             "startlinecolor": "#2a3f5f"
            },
            "type": "carpet"
           }
          ],
          "choropleth": [
           {
            "colorbar": {
             "outlinewidth": 0,
             "ticks": ""
            },
            "type": "choropleth"
           }
          ],
          "contour": [
           {
            "colorbar": {
             "outlinewidth": 0,
             "ticks": ""
            },
            "colorscale": [
             [
              0,
              "#0d0887"
             ],
             [
              0.1111111111111111,
              "#46039f"
             ],
             [
              0.2222222222222222,
              "#7201a8"
             ],
             [
              0.3333333333333333,
              "#9c179e"
             ],
             [
              0.4444444444444444,
              "#bd3786"
             ],
             [
              0.5555555555555556,
              "#d8576b"
             ],
             [
              0.6666666666666666,
              "#ed7953"
             ],
             [
              0.7777777777777778,
              "#fb9f3a"
             ],
             [
              0.8888888888888888,
              "#fdca26"
             ],
             [
              1,
              "#f0f921"
             ]
            ],
            "type": "contour"
           }
          ],
          "contourcarpet": [
           {
            "colorbar": {
             "outlinewidth": 0,
             "ticks": ""
            },
            "type": "contourcarpet"
           }
          ],
          "heatmap": [
           {
            "colorbar": {
             "outlinewidth": 0,
             "ticks": ""
            },
            "colorscale": [
             [
              0,
              "#0d0887"
             ],
             [
              0.1111111111111111,
              "#46039f"
             ],
             [
              0.2222222222222222,
              "#7201a8"
             ],
             [
              0.3333333333333333,
              "#9c179e"
             ],
             [
              0.4444444444444444,
              "#bd3786"
             ],
             [
              0.5555555555555556,
              "#d8576b"
             ],
             [
              0.6666666666666666,
              "#ed7953"
             ],
             [
              0.7777777777777778,
              "#fb9f3a"
             ],
             [
              0.8888888888888888,
              "#fdca26"
             ],
             [
              1,
              "#f0f921"
             ]
            ],
            "type": "heatmap"
           }
          ],
          "heatmapgl": [
           {
            "colorbar": {
             "outlinewidth": 0,
             "ticks": ""
            },
            "colorscale": [
             [
              0,
              "#0d0887"
             ],
             [
              0.1111111111111111,
              "#46039f"
             ],
             [
              0.2222222222222222,
              "#7201a8"
             ],
             [
              0.3333333333333333,
              "#9c179e"
             ],
             [
              0.4444444444444444,
              "#bd3786"
             ],
             [
              0.5555555555555556,
              "#d8576b"
             ],
             [
              0.6666666666666666,
              "#ed7953"
             ],
             [
              0.7777777777777778,
              "#fb9f3a"
             ],
             [
              0.8888888888888888,
              "#fdca26"
             ],
             [
              1,
              "#f0f921"
             ]
            ],
            "type": "heatmapgl"
           }
          ],
          "histogram": [
           {
            "marker": {
             "pattern": {
              "fillmode": "overlay",
              "size": 10,
              "solidity": 0.2
             }
            },
            "type": "histogram"
           }
          ],
          "histogram2d": [
           {
            "colorbar": {
             "outlinewidth": 0,
             "ticks": ""
            },
            "colorscale": [
             [
              0,
              "#0d0887"
             ],
             [
              0.1111111111111111,
              "#46039f"
             ],
             [
              0.2222222222222222,
              "#7201a8"
             ],
             [
              0.3333333333333333,
              "#9c179e"
             ],
             [
              0.4444444444444444,
              "#bd3786"
             ],
             [
              0.5555555555555556,
              "#d8576b"
             ],
             [
              0.6666666666666666,
              "#ed7953"
             ],
             [
              0.7777777777777778,
              "#fb9f3a"
             ],
             [
              0.8888888888888888,
              "#fdca26"
             ],
             [
              1,
              "#f0f921"
             ]
            ],
            "type": "histogram2d"
           }
          ],
          "histogram2dcontour": [
           {
            "colorbar": {
             "outlinewidth": 0,
             "ticks": ""
            },
            "colorscale": [
             [
              0,
              "#0d0887"
             ],
             [
              0.1111111111111111,
              "#46039f"
             ],
             [
              0.2222222222222222,
              "#7201a8"
             ],
             [
              0.3333333333333333,
              "#9c179e"
             ],
             [
              0.4444444444444444,
              "#bd3786"
             ],
             [
              0.5555555555555556,
              "#d8576b"
             ],
             [
              0.6666666666666666,
              "#ed7953"
             ],
             [
              0.7777777777777778,
              "#fb9f3a"
             ],
             [
              0.8888888888888888,
              "#fdca26"
             ],
             [
              1,
              "#f0f921"
             ]
            ],
            "type": "histogram2dcontour"
           }
          ],
          "mesh3d": [
           {
            "colorbar": {
             "outlinewidth": 0,
             "ticks": ""
            },
            "type": "mesh3d"
           }
          ],
          "parcoords": [
           {
            "line": {
             "colorbar": {
              "outlinewidth": 0,
              "ticks": ""
             }
            },
            "type": "parcoords"
           }
          ],
          "pie": [
           {
            "automargin": true,
            "type": "pie"
           }
          ],
          "scatter": [
           {
            "fillpattern": {
             "fillmode": "overlay",
             "size": 10,
             "solidity": 0.2
            },
            "type": "scatter"
           }
          ],
          "scatter3d": [
           {
            "line": {
             "colorbar": {
              "outlinewidth": 0,
              "ticks": ""
             }
            },
            "marker": {
             "colorbar": {
              "outlinewidth": 0,
              "ticks": ""
             }
            },
            "type": "scatter3d"
           }
          ],
          "scattercarpet": [
           {
            "marker": {
             "colorbar": {
              "outlinewidth": 0,
              "ticks": ""
             }
            },
            "type": "scattercarpet"
           }
          ],
          "scattergeo": [
           {
            "marker": {
             "colorbar": {
              "outlinewidth": 0,
              "ticks": ""
             }
            },
            "type": "scattergeo"
           }
          ],
          "scattergl": [
           {
            "marker": {
             "colorbar": {
              "outlinewidth": 0,
              "ticks": ""
             }
            },
            "type": "scattergl"
           }
          ],
          "scattermapbox": [
           {
            "marker": {
             "colorbar": {
              "outlinewidth": 0,
              "ticks": ""
             }
            },
            "type": "scattermapbox"
           }
          ],
          "scatterpolar": [
           {
            "marker": {
             "colorbar": {
              "outlinewidth": 0,
              "ticks": ""
             }
            },
            "type": "scatterpolar"
           }
          ],
          "scatterpolargl": [
           {
            "marker": {
             "colorbar": {
              "outlinewidth": 0,
              "ticks": ""
             }
            },
            "type": "scatterpolargl"
           }
          ],
          "scatterternary": [
           {
            "marker": {
             "colorbar": {
              "outlinewidth": 0,
              "ticks": ""
             }
            },
            "type": "scatterternary"
           }
          ],
          "surface": [
           {
            "colorbar": {
             "outlinewidth": 0,
             "ticks": ""
            },
            "colorscale": [
             [
              0,
              "#0d0887"
             ],
             [
              0.1111111111111111,
              "#46039f"
             ],
             [
              0.2222222222222222,
              "#7201a8"
             ],
             [
              0.3333333333333333,
              "#9c179e"
             ],
             [
              0.4444444444444444,
              "#bd3786"
             ],
             [
              0.5555555555555556,
              "#d8576b"
             ],
             [
              0.6666666666666666,
              "#ed7953"
             ],
             [
              0.7777777777777778,
              "#fb9f3a"
             ],
             [
              0.8888888888888888,
              "#fdca26"
             ],
             [
              1,
              "#f0f921"
             ]
            ],
            "type": "surface"
           }
          ],
          "table": [
           {
            "cells": {
             "fill": {
              "color": "#EBF0F8"
             },
             "line": {
              "color": "white"
             }
            },
            "header": {
             "fill": {
              "color": "#C8D4E3"
             },
             "line": {
              "color": "white"
             }
            },
            "type": "table"
           }
          ]
         },
         "layout": {
          "annotationdefaults": {
           "arrowcolor": "#2a3f5f",
           "arrowhead": 0,
           "arrowwidth": 1
          },
          "autotypenumbers": "strict",
          "coloraxis": {
           "colorbar": {
            "outlinewidth": 0,
            "ticks": ""
           }
          },
          "colorscale": {
           "diverging": [
            [
             0,
             "#8e0152"
            ],
            [
             0.1,
             "#c51b7d"
            ],
            [
             0.2,
             "#de77ae"
            ],
            [
             0.3,
             "#f1b6da"
            ],
            [
             0.4,
             "#fde0ef"
            ],
            [
             0.5,
             "#f7f7f7"
            ],
            [
             0.6,
             "#e6f5d0"
            ],
            [
             0.7,
             "#b8e186"
            ],
            [
             0.8,
             "#7fbc41"
            ],
            [
             0.9,
             "#4d9221"
            ],
            [
             1,
             "#276419"
            ]
           ],
           "sequential": [
            [
             0,
             "#0d0887"
            ],
            [
             0.1111111111111111,
             "#46039f"
            ],
            [
             0.2222222222222222,
             "#7201a8"
            ],
            [
             0.3333333333333333,
             "#9c179e"
            ],
            [
             0.4444444444444444,
             "#bd3786"
            ],
            [
             0.5555555555555556,
             "#d8576b"
            ],
            [
             0.6666666666666666,
             "#ed7953"
            ],
            [
             0.7777777777777778,
             "#fb9f3a"
            ],
            [
             0.8888888888888888,
             "#fdca26"
            ],
            [
             1,
             "#f0f921"
            ]
           ],
           "sequentialminus": [
            [
             0,
             "#0d0887"
            ],
            [
             0.1111111111111111,
             "#46039f"
            ],
            [
             0.2222222222222222,
             "#7201a8"
            ],
            [
             0.3333333333333333,
             "#9c179e"
            ],
            [
             0.4444444444444444,
             "#bd3786"
            ],
            [
             0.5555555555555556,
             "#d8576b"
            ],
            [
             0.6666666666666666,
             "#ed7953"
            ],
            [
             0.7777777777777778,
             "#fb9f3a"
            ],
            [
             0.8888888888888888,
             "#fdca26"
            ],
            [
             1,
             "#f0f921"
            ]
           ]
          },
          "colorway": [
           "#636efa",
           "#EF553B",
           "#00cc96",
           "#ab63fa",
           "#FFA15A",
           "#19d3f3",
           "#FF6692",
           "#B6E880",
           "#FF97FF",
           "#FECB52"
          ],
          "font": {
           "color": "#2a3f5f"
          },
          "geo": {
           "bgcolor": "white",
           "lakecolor": "white",
           "landcolor": "#E5ECF6",
           "showlakes": true,
           "showland": true,
           "subunitcolor": "white"
          },
          "hoverlabel": {
           "align": "left"
          },
          "hovermode": "closest",
          "mapbox": {
           "style": "light"
          },
          "paper_bgcolor": "white",
          "plot_bgcolor": "#E5ECF6",
          "polar": {
           "angularaxis": {
            "gridcolor": "white",
            "linecolor": "white",
            "ticks": ""
           },
           "bgcolor": "#E5ECF6",
           "radialaxis": {
            "gridcolor": "white",
            "linecolor": "white",
            "ticks": ""
           }
          },
          "scene": {
           "xaxis": {
            "backgroundcolor": "#E5ECF6",
            "gridcolor": "white",
            "gridwidth": 2,
            "linecolor": "white",
            "showbackground": true,
            "ticks": "",
            "zerolinecolor": "white"
           },
           "yaxis": {
            "backgroundcolor": "#E5ECF6",
            "gridcolor": "white",
            "gridwidth": 2,
            "linecolor": "white",
            "showbackground": true,
            "ticks": "",
            "zerolinecolor": "white"
           },
           "zaxis": {
            "backgroundcolor": "#E5ECF6",
            "gridcolor": "white",
            "gridwidth": 2,
            "linecolor": "white",
            "showbackground": true,
            "ticks": "",
            "zerolinecolor": "white"
           }
          },
          "shapedefaults": {
           "line": {
            "color": "#2a3f5f"
           }
          },
          "ternary": {
           "aaxis": {
            "gridcolor": "white",
            "linecolor": "white",
            "ticks": ""
           },
           "baxis": {
            "gridcolor": "white",
            "linecolor": "white",
            "ticks": ""
           },
           "bgcolor": "#E5ECF6",
           "caxis": {
            "gridcolor": "white",
            "linecolor": "white",
            "ticks": ""
           }
          },
          "title": {
           "x": 0.05
          },
          "xaxis": {
           "automargin": true,
           "gridcolor": "white",
           "linecolor": "white",
           "ticks": "",
           "title": {
            "standoff": 15
           },
           "zerolinecolor": "white",
           "zerolinewidth": 2
          },
          "yaxis": {
           "automargin": true,
           "gridcolor": "white",
           "linecolor": "white",
           "ticks": "",
           "title": {
            "standoff": 15
           },
           "zerolinecolor": "white",
           "zerolinewidth": 2
          }
         }
        },
        "title": {
         "text": "Personalità VS Individualismo-Collettivismo"
        },
        "xaxis": {
         "anchor": "y",
         "domain": [
          0,
          1
         ],
         "title": {
          "text": "Stile di Consumo"
         }
        },
        "yaxis": {
         "anchor": "x",
         "domain": [
          0,
          1
         ],
         "title": {
          "text": "Individualismo"
         }
        }
       }
      },
      "text/html": [
       "<div>                            <div id=\"6ce50380-9d55-439b-b172-44da330d1638\" class=\"plotly-graph-div\" style=\"height:525px; width:100%;\"></div>            <script type=\"text/javascript\">                require([\"plotly\"], function(Plotly) {                    window.PLOTLYENV=window.PLOTLYENV || {};                                    if (document.getElementById(\"6ce50380-9d55-439b-b172-44da330d1638\")) {                    Plotly.newPlot(                        \"6ce50380-9d55-439b-b172-44da330d1638\",                        [{\"hovertemplate\":\"Stile di Consumo=%{x}<br>Individualismo=%{y}<br>Cluster=%{marker.color}<extra></extra>\",\"legendgroup\":\"\",\"marker\":{\"color\":[2,0,2,2,0,2,2,1,2,1,0,0,0,0,0,2,2,0,1,0,2,2,0,0,1,0,2,1,0,2,2,1,0,0,1,0,0,1,1,1,1,0,2,1,1,2,2,0,0,1,2,2,1,0,1,2,0,0,2,1,2,2,2,1,0,2,1,0,1,2,1,2,1,0,2,0,0,1,2,0,0,2,1,1,1,2,0,0,0,1,2,0,1,0,1,1,0,2,2,2,2,1,2,0,0,0,2,1,2,0,0,1,1,1,2,1,0,2,0,2,1,2,0,2,2,2,0,0,0,1,1,1,1,0,0,1,1,1,1,1,2,1,2,0,2,1,0,2,1,1,1,1,0,1,0,1,0,1,2,1,1,2,1,2,0,1,2,1,2,1,2,0,0,1,1,0,1,0,1,0,0,1,0,2,2,2,0,1,0,2,2,1,0,0,1,2,2,1,0,0,2,2,1,2,0,1,1,0,0,2,1,0,0,2,0,0,0,1,1,2,2,1,2,2,1,0,0,1,0,1,0,1,2,0,2,0,0,0,2,0,2,2,1,0,2,1,2,0,0,1,0,1,1,0,1,1,0,0,2,2,2,2,1,1,2,1,2,1,2,0,1,0,1,0,0,0,0,1,2,1,2,1,1,0,1,1,2,1,1,1,2,0,2,1,2,0,0,1,2,1,0,2,1,1,0,1,0,1,0,1,1,0,0,1,0,2,1,0,2,0,0,1,1,0,2,2,0,1,1,2,1,1,1,0,1,0,1,0,2,2,1,0,1,0,0,1,1,2,2,1,2,1,1,1,1,1,0,1,1,0,1,0,0,0,1,2,0,2,1,1,0,0,1,1,2,2,0,1,2,2,1,0,0,0,0,0,1,2,0,0,1,2,1,2,0,0,0,1,2,2,1,2,0,2,0,0,1,0,0,0,0,0,1,2,0,1,2,2,1,1,2,1,1,0,0,1,2,2,0,0,1,1,1,1,1,1,2,1,0,0,2,1,1,0,0,2,2,0,2,2,2,1,1,0,2,0,2,1,1,1,2,1,2,0,1,1,0,0,0,1,2,1,2],\"coloraxis\":\"coloraxis\",\"symbol\":\"circle\"},\"mode\":\"markers\",\"name\":\"\",\"orientation\":\"v\",\"showlegend\":false,\"x\":[2.83,2.67,2.17,1.5,2.33,2.17,2.17,2.33,2.83,2.5,2.5,2.17,3.0,2.5,3.0,2.67,2.0,2.17,3.0,2.33,2.5,2.33,2.0,2.67,2.67,2.67,1.67,2.67,2.67,1.83,2.67,3.0,2.83,2.33,1.83,2.17,3.17,2.67,2.83,3.0,2.17,1.83,2.83,2.83,2.5,2.5,1.83,2.67,2.67,2.67,2.5,2.5,2.0,2.33,2.5,2.67,4.0,3.0,2.0,2.83,1.67,2.67,2.5,3.0,2.33,2.67,2.67,2.17,1.67,2.33,3.0,2.83,2.5,2.67,1.83,1.33,2.33,2.5,2.5,2.17,2.17,2.33,3.17,2.17,2.67,1.33,2.17,2.17,2.5,2.83,2.33,2.67,2.33,2.33,2.33,2.17,2.5,1.67,2.0,2.67,2.67,3.33,2.0,1.67,2.5,2.17,2.83,2.33,2.67,1.83,1.83,2.67,2.83,2.0,2.67,2.5,2.67,2.5,2.67,3.0,2.67,2.5,2.17,2.17,3.0,3.17,3.0,2.67,3.0,2.83,2.17,2.5,3.0,3.0,1.5,2.5,3.0,2.5,2.5,3.5,2.67,2.83,2.0,2.83,2.67,2.83,2.67,2.33,1.83,2.17,2.33,2.83,2.17,2.33,2.0,2.83,2.33,2.67,2.67,2.83,2.17,2.33,3.0,2.5,2.17,2.5,2.33,2.83,2.67,2.33,3.0,2.5,2.5,2.17,2.5,2.5,2.0,1.83,2.83,3.0,1.83,2.83,2.67,2.83,1.67,2.5,2.83,2.17,2.33,2.83,2.17,2.17,2.33,1.67,2.67,3.17,2.83,2.67,2.67,2.5,3.0,2.33,2.17,3.17,3.0,2.67,2.17,2.67,3.0,2.5,3.67,2.33,2.33,2.0,2.0,2.17,2.17,1.5,2.0,2.83,2.83,2.67,2.5,1.5,2.67,2.0,2.67,2.5,2.5,2.83,1.33,1.83,1.67,1.33,2.67,2.83,2.67,2.0,2.67,2.33,2.67,2.83,3.17,3.0,2.5,3.0,2.33,2.5,2.17,3.17,1.83,2.83,3.17,2.0,2.5,2.17,2.5,2.17,2.0,1.83,2.67,2.67,2.67,2.5,2.17,2.67,2.83,2.83,2.33,2.17,2.17,2.0,2.5,2.17,2.67,2.17,2.67,2.33,2.83,2.17,2.0,2.5,3.5,1.5,2.5,1.83,2.33,2.83,3.0,2.33,2.0,1.67,2.17,2.5,2.5,2.5,2.17,2.33,2.33,1.83,2.67,2.17,2.83,2.83,2.67,2.0,2.33,2.33,2.0,2.5,2.33,3.0,2.0,2.67,2.33,2.17,3.0,2.33,2.5,2.33,2.67,2.5,3.0,2.83,2.5,2.0,2.5,2.67,2.83,2.33,2.5,2.5,2.17,2.33,2.33,2.83,2.0,2.0,2.83,2.67,2.33,2.5,2.17,2.83,1.33,2.83,2.0,1.83,2.83,2.83,2.33,3.0,2.33,2.33,1.83,2.83,2.0,2.5,2.83,2.0,2.5,2.33,3.33,2.0,1.5,2.17,2.17,2.0,2.5,1.67,1.83,2.33,3.0,2.17,2.5,2.17,2.5,2.5,2.67,2.5,2.0,2.5,1.83,2.67,2.33,2.67,3.0,1.83,1.67,2.0,3.0,2.83,3.0,1.5,2.33,2.5,2.33,2.17,1.33,2.33,2.33,2.83,2.17,2.67,2.0,2.5,2.5,2.83,2.67,2.83,2.83,3.0,2.17,2.5,2.67,2.0,2.33,2.33,2.5,2.0,2.67,2.5,2.67,2.5,2.5,3.0,3.33,2.67,2.0,2.67,2.5,3.17,2.67,2.67,2.83,2.83,2.0,2.83,2.33,2.33,1.83,3.0,2.0,3.5,2.0,2.33,2.67,2.17,2.17,2.17,2.0,2.83,2.67,2.33,1.83,2.17,2.0,2.67,2.83,3.0,2.17,2.67,3.33,3.0,2.17,3.5,2.5,2.83,2.33,2.5,2.33,2.67,2.5],\"xaxis\":\"x\",\"y\":[2.29,2.43,2.0,2.57,2.14,3.0,3.0,2.29,2.14,2.14,2.14,2.43,3.43,2.43,2.57,2.43,2.71,2.0,1.86,2.0,2.0,2.43,2.14,2.57,2.71,2.86,2.14,2.71,1.57,2.57,2.43,2.14,2.86,2.43,2.43,2.14,2.57,2.71,2.57,2.86,3.0,2.14,2.0,2.14,2.14,2.29,3.29,2.0,2.43,2.57,2.43,2.86,2.29,2.71,3.0,2.0,3.29,1.29,2.29,2.43,1.71,2.43,1.86,2.0,2.57,2.57,2.86,2.0,2.71,3.0,1.86,2.43,2.57,2.57,2.29,2.43,2.71,2.57,2.29,2.86,3.0,2.29,2.86,2.71,2.71,2.29,2.29,3.0,1.43,3.14,2.57,1.86,2.43,2.71,2.57,2.57,2.57,2.29,2.14,2.86,2.57,2.57,3.0,2.57,2.29,2.86,2.71,2.29,2.57,1.86,3.0,2.71,2.29,2.57,3.14,2.57,2.57,2.71,2.43,2.71,2.14,2.71,2.57,2.14,2.14,2.14,2.43,2.71,2.29,2.14,2.14,2.29,2.86,2.14,2.0,2.57,2.57,2.71,2.57,2.86,2.43,2.86,2.43,1.86,2.57,2.29,3.0,2.86,2.29,2.29,2.57,1.57,2.43,2.57,2.57,2.43,2.29,2.29,2.29,2.86,2.29,2.14,3.0,2.86,2.43,2.29,2.0,2.71,2.43,2.86,2.0,2.71,2.29,3.43,3.14,2.29,3.0,2.29,2.29,2.29,2.71,2.29,2.57,2.86,3.0,2.29,2.71,2.43,3.43,2.57,2.14,2.14,2.71,2.14,1.86,2.71,2.43,2.43,2.14,2.57,3.86,2.71,2.43,2.57,2.0,3.14,2.29,2.0,2.14,2.57,1.43,2.86,2.43,2.0,2.14,2.43,2.29,2.57,2.86,2.14,2.14,2.86,2.29,2.57,2.43,2.43,2.57,2.14,2.29,2.71,2.14,3.14,1.71,2.14,2.29,2.29,2.14,2.0,2.43,2.86,2.14,2.57,2.71,2.14,2.29,2.86,2.43,2.43,2.14,3.0,2.43,2.43,3.29,2.86,2.71,2.57,2.43,2.29,2.14,2.43,2.29,2.57,2.29,1.71,2.71,2.57,2.57,2.43,2.71,2.0,2.57,2.43,2.57,2.57,1.71,2.57,2.57,2.0,1.71,2.43,2.71,2.43,2.29,2.71,2.71,2.29,2.14,2.57,1.14,2.43,2.29,2.14,3.0,2.29,2.71,2.71,2.43,2.43,2.0,2.43,2.57,2.57,2.29,2.14,2.86,3.14,2.29,2.43,3.0,2.29,2.57,1.86,2.71,2.57,2.29,1.86,2.71,1.57,2.71,2.57,2.43,2.71,3.0,2.29,2.29,2.43,2.86,2.43,2.29,2.57,2.0,2.71,2.57,2.71,3.14,2.14,2.86,2.0,2.86,2.43,1.71,2.57,2.14,2.29,1.71,2.0,1.57,2.14,2.43,2.29,2.43,1.57,2.86,2.86,1.86,2.86,2.57,2.0,2.14,2.71,1.86,2.86,2.29,3.43,2.57,2.43,2.71,2.29,2.86,2.57,2.43,1.86,2.43,2.14,2.43,2.43,2.43,2.71,2.43,2.86,2.29,1.86,2.14,2.71,2.43,2.14,1.86,1.86,2.57,2.14,2.86,2.43,2.71,2.29,2.14,2.57,2.43,2.14,3.14,2.86,2.43,2.14,1.86,2.14,2.0,2.57,2.43,2.29,2.0,2.43,2.43,1.71,2.43,2.71,2.29,2.71,2.43,2.43,2.29,2.71,2.57,3.14,3.14,2.57,2.14,2.71,2.43,2.71,2.57,2.57,3.0,2.71,2.71,2.43,2.86,2.14,1.86,2.57,2.43,2.0,1.57,2.43,2.86,3.14,2.57,1.71,2.57,2.29,2.29,2.57,2.29,2.86,2.71,2.43,2.71,2.57,3.14,2.29,2.71,3.29,3.14,2.86,2.14,2.57,2.71,3.0,2.57,2.71,2.14,2.57,3.14,2.71,1.57],\"yaxis\":\"y\",\"type\":\"scatter\"}],                        {\"template\":{\"data\":{\"histogram2dcontour\":[{\"type\":\"histogram2dcontour\",\"colorbar\":{\"outlinewidth\":0,\"ticks\":\"\"},\"colorscale\":[[0.0,\"#0d0887\"],[0.1111111111111111,\"#46039f\"],[0.2222222222222222,\"#7201a8\"],[0.3333333333333333,\"#9c179e\"],[0.4444444444444444,\"#bd3786\"],[0.5555555555555556,\"#d8576b\"],[0.6666666666666666,\"#ed7953\"],[0.7777777777777778,\"#fb9f3a\"],[0.8888888888888888,\"#fdca26\"],[1.0,\"#f0f921\"]]}],\"choropleth\":[{\"type\":\"choropleth\",\"colorbar\":{\"outlinewidth\":0,\"ticks\":\"\"}}],\"histogram2d\":[{\"type\":\"histogram2d\",\"colorbar\":{\"outlinewidth\":0,\"ticks\":\"\"},\"colorscale\":[[0.0,\"#0d0887\"],[0.1111111111111111,\"#46039f\"],[0.2222222222222222,\"#7201a8\"],[0.3333333333333333,\"#9c179e\"],[0.4444444444444444,\"#bd3786\"],[0.5555555555555556,\"#d8576b\"],[0.6666666666666666,\"#ed7953\"],[0.7777777777777778,\"#fb9f3a\"],[0.8888888888888888,\"#fdca26\"],[1.0,\"#f0f921\"]]}],\"heatmap\":[{\"type\":\"heatmap\",\"colorbar\":{\"outlinewidth\":0,\"ticks\":\"\"},\"colorscale\":[[0.0,\"#0d0887\"],[0.1111111111111111,\"#46039f\"],[0.2222222222222222,\"#7201a8\"],[0.3333333333333333,\"#9c179e\"],[0.4444444444444444,\"#bd3786\"],[0.5555555555555556,\"#d8576b\"],[0.6666666666666666,\"#ed7953\"],[0.7777777777777778,\"#fb9f3a\"],[0.8888888888888888,\"#fdca26\"],[1.0,\"#f0f921\"]]}],\"heatmapgl\":[{\"type\":\"heatmapgl\",\"colorbar\":{\"outlinewidth\":0,\"ticks\":\"\"},\"colorscale\":[[0.0,\"#0d0887\"],[0.1111111111111111,\"#46039f\"],[0.2222222222222222,\"#7201a8\"],[0.3333333333333333,\"#9c179e\"],[0.4444444444444444,\"#bd3786\"],[0.5555555555555556,\"#d8576b\"],[0.6666666666666666,\"#ed7953\"],[0.7777777777777778,\"#fb9f3a\"],[0.8888888888888888,\"#fdca26\"],[1.0,\"#f0f921\"]]}],\"contourcarpet\":[{\"type\":\"contourcarpet\",\"colorbar\":{\"outlinewidth\":0,\"ticks\":\"\"}}],\"contour\":[{\"type\":\"contour\",\"colorbar\":{\"outlinewidth\":0,\"ticks\":\"\"},\"colorscale\":[[0.0,\"#0d0887\"],[0.1111111111111111,\"#46039f\"],[0.2222222222222222,\"#7201a8\"],[0.3333333333333333,\"#9c179e\"],[0.4444444444444444,\"#bd3786\"],[0.5555555555555556,\"#d8576b\"],[0.6666666666666666,\"#ed7953\"],[0.7777777777777778,\"#fb9f3a\"],[0.8888888888888888,\"#fdca26\"],[1.0,\"#f0f921\"]]}],\"surface\":[{\"type\":\"surface\",\"colorbar\":{\"outlinewidth\":0,\"ticks\":\"\"},\"colorscale\":[[0.0,\"#0d0887\"],[0.1111111111111111,\"#46039f\"],[0.2222222222222222,\"#7201a8\"],[0.3333333333333333,\"#9c179e\"],[0.4444444444444444,\"#bd3786\"],[0.5555555555555556,\"#d8576b\"],[0.6666666666666666,\"#ed7953\"],[0.7777777777777778,\"#fb9f3a\"],[0.8888888888888888,\"#fdca26\"],[1.0,\"#f0f921\"]]}],\"mesh3d\":[{\"type\":\"mesh3d\",\"colorbar\":{\"outlinewidth\":0,\"ticks\":\"\"}}],\"scatter\":[{\"fillpattern\":{\"fillmode\":\"overlay\",\"size\":10,\"solidity\":0.2},\"type\":\"scatter\"}],\"parcoords\":[{\"type\":\"parcoords\",\"line\":{\"colorbar\":{\"outlinewidth\":0,\"ticks\":\"\"}}}],\"scatterpolargl\":[{\"type\":\"scatterpolargl\",\"marker\":{\"colorbar\":{\"outlinewidth\":0,\"ticks\":\"\"}}}],\"bar\":[{\"error_x\":{\"color\":\"#2a3f5f\"},\"error_y\":{\"color\":\"#2a3f5f\"},\"marker\":{\"line\":{\"color\":\"#E5ECF6\",\"width\":0.5},\"pattern\":{\"fillmode\":\"overlay\",\"size\":10,\"solidity\":0.2}},\"type\":\"bar\"}],\"scattergeo\":[{\"type\":\"scattergeo\",\"marker\":{\"colorbar\":{\"outlinewidth\":0,\"ticks\":\"\"}}}],\"scatterpolar\":[{\"type\":\"scatterpolar\",\"marker\":{\"colorbar\":{\"outlinewidth\":0,\"ticks\":\"\"}}}],\"histogram\":[{\"marker\":{\"pattern\":{\"fillmode\":\"overlay\",\"size\":10,\"solidity\":0.2}},\"type\":\"histogram\"}],\"scattergl\":[{\"type\":\"scattergl\",\"marker\":{\"colorbar\":{\"outlinewidth\":0,\"ticks\":\"\"}}}],\"scatter3d\":[{\"type\":\"scatter3d\",\"line\":{\"colorbar\":{\"outlinewidth\":0,\"ticks\":\"\"}},\"marker\":{\"colorbar\":{\"outlinewidth\":0,\"ticks\":\"\"}}}],\"scattermapbox\":[{\"type\":\"scattermapbox\",\"marker\":{\"colorbar\":{\"outlinewidth\":0,\"ticks\":\"\"}}}],\"scatterternary\":[{\"type\":\"scatterternary\",\"marker\":{\"colorbar\":{\"outlinewidth\":0,\"ticks\":\"\"}}}],\"scattercarpet\":[{\"type\":\"scattercarpet\",\"marker\":{\"colorbar\":{\"outlinewidth\":0,\"ticks\":\"\"}}}],\"carpet\":[{\"aaxis\":{\"endlinecolor\":\"#2a3f5f\",\"gridcolor\":\"white\",\"linecolor\":\"white\",\"minorgridcolor\":\"white\",\"startlinecolor\":\"#2a3f5f\"},\"baxis\":{\"endlinecolor\":\"#2a3f5f\",\"gridcolor\":\"white\",\"linecolor\":\"white\",\"minorgridcolor\":\"white\",\"startlinecolor\":\"#2a3f5f\"},\"type\":\"carpet\"}],\"table\":[{\"cells\":{\"fill\":{\"color\":\"#EBF0F8\"},\"line\":{\"color\":\"white\"}},\"header\":{\"fill\":{\"color\":\"#C8D4E3\"},\"line\":{\"color\":\"white\"}},\"type\":\"table\"}],\"barpolar\":[{\"marker\":{\"line\":{\"color\":\"#E5ECF6\",\"width\":0.5},\"pattern\":{\"fillmode\":\"overlay\",\"size\":10,\"solidity\":0.2}},\"type\":\"barpolar\"}],\"pie\":[{\"automargin\":true,\"type\":\"pie\"}]},\"layout\":{\"autotypenumbers\":\"strict\",\"colorway\":[\"#636efa\",\"#EF553B\",\"#00cc96\",\"#ab63fa\",\"#FFA15A\",\"#19d3f3\",\"#FF6692\",\"#B6E880\",\"#FF97FF\",\"#FECB52\"],\"font\":{\"color\":\"#2a3f5f\"},\"hovermode\":\"closest\",\"hoverlabel\":{\"align\":\"left\"},\"paper_bgcolor\":\"white\",\"plot_bgcolor\":\"#E5ECF6\",\"polar\":{\"bgcolor\":\"#E5ECF6\",\"angularaxis\":{\"gridcolor\":\"white\",\"linecolor\":\"white\",\"ticks\":\"\"},\"radialaxis\":{\"gridcolor\":\"white\",\"linecolor\":\"white\",\"ticks\":\"\"}},\"ternary\":{\"bgcolor\":\"#E5ECF6\",\"aaxis\":{\"gridcolor\":\"white\",\"linecolor\":\"white\",\"ticks\":\"\"},\"baxis\":{\"gridcolor\":\"white\",\"linecolor\":\"white\",\"ticks\":\"\"},\"caxis\":{\"gridcolor\":\"white\",\"linecolor\":\"white\",\"ticks\":\"\"}},\"coloraxis\":{\"colorbar\":{\"outlinewidth\":0,\"ticks\":\"\"}},\"colorscale\":{\"sequential\":[[0.0,\"#0d0887\"],[0.1111111111111111,\"#46039f\"],[0.2222222222222222,\"#7201a8\"],[0.3333333333333333,\"#9c179e\"],[0.4444444444444444,\"#bd3786\"],[0.5555555555555556,\"#d8576b\"],[0.6666666666666666,\"#ed7953\"],[0.7777777777777778,\"#fb9f3a\"],[0.8888888888888888,\"#fdca26\"],[1.0,\"#f0f921\"]],\"sequentialminus\":[[0.0,\"#0d0887\"],[0.1111111111111111,\"#46039f\"],[0.2222222222222222,\"#7201a8\"],[0.3333333333333333,\"#9c179e\"],[0.4444444444444444,\"#bd3786\"],[0.5555555555555556,\"#d8576b\"],[0.6666666666666666,\"#ed7953\"],[0.7777777777777778,\"#fb9f3a\"],[0.8888888888888888,\"#fdca26\"],[1.0,\"#f0f921\"]],\"diverging\":[[0,\"#8e0152\"],[0.1,\"#c51b7d\"],[0.2,\"#de77ae\"],[0.3,\"#f1b6da\"],[0.4,\"#fde0ef\"],[0.5,\"#f7f7f7\"],[0.6,\"#e6f5d0\"],[0.7,\"#b8e186\"],[0.8,\"#7fbc41\"],[0.9,\"#4d9221\"],[1,\"#276419\"]]},\"xaxis\":{\"gridcolor\":\"white\",\"linecolor\":\"white\",\"ticks\":\"\",\"title\":{\"standoff\":15},\"zerolinecolor\":\"white\",\"automargin\":true,\"zerolinewidth\":2},\"yaxis\":{\"gridcolor\":\"white\",\"linecolor\":\"white\",\"ticks\":\"\",\"title\":{\"standoff\":15},\"zerolinecolor\":\"white\",\"automargin\":true,\"zerolinewidth\":2},\"scene\":{\"xaxis\":{\"backgroundcolor\":\"#E5ECF6\",\"gridcolor\":\"white\",\"linecolor\":\"white\",\"showbackground\":true,\"ticks\":\"\",\"zerolinecolor\":\"white\",\"gridwidth\":2},\"yaxis\":{\"backgroundcolor\":\"#E5ECF6\",\"gridcolor\":\"white\",\"linecolor\":\"white\",\"showbackground\":true,\"ticks\":\"\",\"zerolinecolor\":\"white\",\"gridwidth\":2},\"zaxis\":{\"backgroundcolor\":\"#E5ECF6\",\"gridcolor\":\"white\",\"linecolor\":\"white\",\"showbackground\":true,\"ticks\":\"\",\"zerolinecolor\":\"white\",\"gridwidth\":2}},\"shapedefaults\":{\"line\":{\"color\":\"#2a3f5f\"}},\"annotationdefaults\":{\"arrowcolor\":\"#2a3f5f\",\"arrowhead\":0,\"arrowwidth\":1},\"geo\":{\"bgcolor\":\"white\",\"landcolor\":\"#E5ECF6\",\"subunitcolor\":\"white\",\"showland\":true,\"showlakes\":true,\"lakecolor\":\"white\"},\"title\":{\"x\":0.05},\"mapbox\":{\"style\":\"light\"}}},\"xaxis\":{\"anchor\":\"y\",\"domain\":[0.0,1.0],\"title\":{\"text\":\"Stile di Consumo\"}},\"yaxis\":{\"anchor\":\"x\",\"domain\":[0.0,1.0],\"title\":{\"text\":\"Individualismo\"}},\"coloraxis\":{\"colorbar\":{\"title\":{\"text\":\"Cluster\"}},\"colorscale\":[[0.0,\"rgb(228,26,28)\"],[0.125,\"rgb(55,126,184)\"],[0.25,\"rgb(77,175,74)\"],[0.375,\"rgb(152,78,163)\"],[0.5,\"rgb(255,127,0)\"],[0.625,\"rgb(255,255,51)\"],[0.75,\"rgb(166,86,40)\"],[0.875,\"rgb(247,129,191)\"],[1.0,\"rgb(153,153,153)\"]]},\"legend\":{\"tracegroupgap\":0},\"margin\":{\"t\":60},\"title\":{\"text\":\"Personalit\\u00e0 VS Individualismo-Collettivismo\"}},                        {\"responsive\": true}                    ).then(function(){\n",
       "                            \n",
       "var gd = document.getElementById('6ce50380-9d55-439b-b172-44da330d1638');\n",
       "var x = new MutationObserver(function (mutations, observer) {{\n",
       "        var display = window.getComputedStyle(gd).display;\n",
       "        if (!display || display === 'none') {{\n",
       "            console.log([gd, 'removed!']);\n",
       "            Plotly.purge(gd);\n",
       "            observer.disconnect();\n",
       "        }}\n",
       "}});\n",
       "\n",
       "// Listen for the removal of the full notebook cells\n",
       "var notebookContainer = gd.closest('#notebook-container');\n",
       "if (notebookContainer) {{\n",
       "    x.observe(notebookContainer, {childList: true});\n",
       "}}\n",
       "\n",
       "// Listen for the clearing of the current output cell\n",
       "var outputEl = gd.closest('.output');\n",
       "if (outputEl) {{\n",
       "    x.observe(outputEl, {childList: true});\n",
       "}}\n",
       "\n",
       "                        })                };                });            </script>        </div>"
      ]
     },
     "metadata": {},
     "output_type": "display_data"
    }
   ],
   "source": [
    "#set up figure\n",
    "fig = px.scatter(not_political, x='consumo', y='INDCOL_mean', color='cluster_agg',  labels={'consumo': 'Stile di Consumo', 'INDCOL_mean': 'Individualismo',\n",
    "                         'cluster_agg': 'Cluster'})\n",
    "\n",
    "\n",
    "\n",
    "#provide layout\n",
    "fig.update_layout(\n",
    "    title='Personalità VS Individualismo-Collettivismo',\n",
    "    xaxis_title='Stile di Consumo',\n",
    "    yaxis_title='Individualismo'\n",
    ")\n",
    "\n",
    "\n",
    "\n",
    "# Show the plot\n",
    "fig.show()"
   ]
  },
  {
   "cell_type": "markdown",
   "id": "e720f861",
   "metadata": {},
   "source": [
    "## ABITUDINI DI CONSUMO vs AFFILIAZIONE POLITICA"
   ]
  },
  {
   "cell_type": "code",
   "execution_count": 405,
   "id": "ba494dd3",
   "metadata": {},
   "outputs": [
    {
     "data": {
      "application/vnd.plotly.v1+json": {
       "config": {
        "plotlyServerURL": "https://plot.ly"
       },
       "data": [
        {
         "hovertemplate": "Tipo di acquisti=%{x}<br>Credo politico=%{y}<br>cluster_agg=%{marker.color}<extra></extra>",
         "legendgroup": "",
         "marker": {
          "color": [
           2,
           1,
           0,
           0,
           1,
           0,
           0,
           2,
           0,
           3,
           1,
           1,
           1,
           1,
           1,
           0,
           0,
           1,
           3,
           1,
           0,
           0,
           1,
           1,
           1,
           1,
           0,
           2,
           1,
           0,
           0,
           2,
           3,
           1,
           3,
           1,
           3,
           2,
           2,
           3,
           3,
           1,
           0,
           2,
           3,
           0,
           0,
           1,
           1,
           3,
           0,
           0,
           2,
           1,
           3,
           0,
           1,
           1,
           0,
           2,
           0,
           0,
           0,
           2,
           1,
           0,
           2,
           1,
           3,
           0,
           3,
           0,
           3,
           1,
           0,
           1,
           1,
           3,
           0,
           1,
           1,
           0,
           2,
           3,
           3,
           0,
           1,
           1,
           1,
           3,
           0,
           1,
           2,
           3,
           3,
           2,
           3,
           0,
           0,
           0,
           0,
           2,
           0,
           1,
           1,
           1,
           0,
           2,
           0,
           1,
           1,
           2,
           2,
           2,
           0,
           2,
           1,
           0,
           1,
           0,
           2,
           0,
           1,
           0,
           0,
           0,
           1,
           3,
           1,
           2,
           2,
           3,
           2,
           1,
           1,
           2,
           3,
           3,
           2,
           3,
           0,
           2,
           0,
           1,
           0,
           2,
           1,
           0,
           2,
           3,
           3,
           2,
           1,
           2,
           1,
           2,
           1,
           3,
           0,
           3,
           3,
           0,
           3,
           0,
           1,
           2,
           0,
           2,
           0,
           2,
           0,
           1,
           1,
           3,
           3,
           1,
           3,
           1,
           3,
           3,
           1,
           3,
           1,
           0,
           0,
           0,
           1,
           2,
           1,
           0,
           0,
           2,
           1,
           1,
           3,
           2,
           0,
           3,
           1,
           1,
           0,
           0,
           2,
           0,
           1,
           3,
           2,
           1,
           1,
           0,
           2,
           3,
           1,
           0,
           1,
           1,
           1,
           3,
           2,
           2,
           0,
           3,
           0,
           0,
           2,
           1,
           1,
           2,
           1,
           2,
           1,
           2,
           0,
           1,
           0,
           0,
           1,
           1,
           0,
           1,
           0,
           0,
           2,
           1,
           0,
           2,
           0,
           1,
           1,
           2,
           1,
           2,
           3,
           1,
           3,
           3,
           1,
           1,
           2,
           0,
           0,
           0,
           3,
           3,
           0,
           3,
           0,
           2,
           0,
           1,
           2,
           1,
           2,
           1,
           1,
           3,
           1,
           2,
           0,
           2,
           0,
           2,
           3,
           1,
           2,
           2,
           0,
           3,
           2,
           2,
           0,
           1,
           0,
           2,
           0,
           1,
           1,
           3,
           0,
           2,
           1,
           0,
           2,
           3,
           3,
           2,
           1,
           3,
           1,
           3,
           3,
           1,
           1,
           3,
           1,
           0,
           2,
           1,
           0,
           1,
           1,
           3,
           3,
           1,
           0,
           0,
           1,
           2,
           2,
           0,
           2,
           2,
           2,
           1,
           2,
           1,
           2,
           1,
           0,
           2,
           3,
           3,
           3,
           1,
           1,
           3,
           2,
           0,
           0,
           3,
           0,
           2,
           3,
           2,
           2,
           3,
           1,
           2,
           3,
           1,
           2,
           1,
           1,
           1,
           2,
           0,
           1,
           0,
           3,
           3,
           1,
           1,
           3,
           2,
           0,
           0,
           3,
           3,
           0,
           0,
           2,
           1,
           1,
           1,
           1,
           1,
           3,
           0,
           1,
           1,
           3,
           2,
           3,
           0,
           1,
           1,
           1,
           3,
           0,
           0,
           3,
           0,
           1,
           0,
           1,
           1,
           2,
           3,
           1,
           1,
           1,
           1,
           3,
           0,
           1,
           2,
           0,
           0,
           3,
           3,
           0,
           3,
           3,
           1,
           3,
           3,
           0,
           0,
           1,
           3,
           3,
           2,
           2,
           3,
           3,
           3,
           0,
           3,
           1,
           1,
           0,
           2,
           2,
           1,
           1,
           0,
           2,
           1,
           0,
           0,
           0,
           3,
           2,
           1,
           0,
           3,
           0,
           3,
           3,
           3,
           0,
           2,
           0,
           1,
           2,
           3,
           1,
           1,
           1,
           2,
           0,
           3,
           0
          ],
          "coloraxis": "coloraxis",
          "symbol": "circle"
         },
         "mode": "markers",
         "name": "",
         "orientation": "v",
         "showlegend": false,
         "type": "scatter",
         "x": [
          2.5,
          3,
          3,
          3.5,
          1.5,
          1.5,
          2,
          1.5,
          3,
          4.5,
          0.5,
          1.5,
          2,
          1.5,
          2.5,
          1.5,
          1.5,
          0.5,
          1.5,
          2.5,
          1.5,
          3,
          3,
          2,
          0.5,
          1.5,
          1.5,
          1.5,
          1.5,
          2,
          1.5,
          1.5,
          3,
          2,
          1.5,
          1.5,
          1.5,
          1.5,
          1.5,
          2,
          3,
          1.5,
          0.5,
          1.5,
          2.5,
          1.5,
          0.5,
          1.5,
          3,
          3,
          0.5,
          0.5,
          3.5,
          3.5,
          1.5,
          1.5,
          2,
          1.5,
          1.5,
          3,
          0.5,
          1.5,
          1.5,
          0.5,
          1.5,
          3,
          1.5,
          2,
          2.5,
          1.5,
          1.5,
          3,
          2,
          3,
          1.5,
          3.5,
          3,
          4,
          1.5,
          1.5,
          3,
          1.5,
          2,
          1.5,
          4.5,
          1.5,
          2.5,
          1.5,
          2,
          0.5,
          1.5,
          3,
          4,
          1,
          2,
          2.5,
          3,
          1.5,
          3,
          1.5,
          0.5,
          1.5,
          0.5,
          1.5,
          4,
          3,
          3,
          3,
          1.5,
          1.5,
          1.5,
          2,
          1.5,
          3,
          1.5,
          1.5,
          2,
          4,
          1.5,
          1.5,
          2.5,
          1.5,
          1.5,
          3,
          0.5,
          2.5,
          1.5,
          2.5,
          2,
          1.5,
          1.5,
          2.5,
          1.5,
          1.5,
          2,
          0.5,
          1.5,
          3,
          0.5,
          2,
          3,
          3,
          1.5,
          1.5,
          3,
          1.5,
          3,
          2,
          1.5,
          1.5,
          3.5,
          2,
          3,
          0.5,
          1.5,
          0.5,
          4,
          1.5,
          4.5,
          3,
          3,
          1.5,
          1.5,
          4.5,
          1.5,
          3,
          3.5,
          1.5,
          0.5,
          4,
          3,
          1.5,
          3,
          2.5,
          3,
          2,
          2,
          3,
          1.5,
          1.5,
          1.5,
          1.5,
          1.5,
          1.5,
          3,
          0.5,
          3.5,
          0.5,
          3,
          1.5,
          0.5,
          3,
          1.5,
          1.5,
          1.5,
          4.5,
          2,
          3,
          3.5,
          1.5,
          1.5,
          1.5,
          0.5,
          3.5,
          1.5,
          1.5,
          2,
          3,
          2.5,
          3,
          1.5,
          2,
          1.5,
          3,
          0.5,
          0.5,
          2,
          2,
          2,
          2,
          3,
          3.5,
          1.5,
          1.5,
          0.5,
          3,
          1.5,
          1.5,
          0.5,
          1.5,
          1.5,
          0.5,
          1.5,
          3.5,
          2.5,
          1.5,
          1.5,
          3,
          1.5,
          1.5,
          3,
          1.5,
          1.5,
          1.5,
          1.5,
          1.5,
          2,
          1.5,
          1.5,
          3,
          1.5,
          1.5,
          3,
          2,
          3.5,
          2.5,
          1.5,
          0.5,
          2,
          0.5,
          2.5,
          2.5,
          2,
          4.5,
          0.5,
          4.5,
          3,
          3,
          0.5,
          1.5,
          1.5,
          3,
          1.5,
          3,
          1.5,
          1.5,
          0.5,
          3,
          3,
          3.5,
          3,
          1.5,
          1.5,
          1.5,
          2,
          3,
          2,
          3,
          2.5,
          1.5,
          0.5,
          3.5,
          0.5,
          2.5,
          2,
          0.5,
          1.5,
          1.5,
          1.5,
          1.5,
          1.5,
          2,
          1.5,
          2.5,
          3,
          1.5,
          1.5,
          2,
          3,
          0.5,
          2,
          1.5,
          1.5,
          1.5,
          3,
          0.5,
          1.5,
          1.5,
          1.5,
          2,
          1.5,
          2,
          3,
          1.5,
          0.5,
          0.5,
          1.5,
          0.5,
          1.5,
          3,
          1.5,
          0.5,
          0.5,
          1.5,
          0.5,
          1.5,
          2,
          0.5,
          3.5,
          2,
          1.5,
          2,
          2,
          1.5,
          1.5,
          3,
          3,
          3,
          1.5,
          1.5,
          2.5,
          1.5,
          1.5,
          2,
          2,
          3,
          0.5,
          3,
          3,
          1.5,
          1.5,
          1.5,
          2.5,
          2,
          1.5,
          3,
          2.5,
          3,
          3,
          3,
          1.5,
          1.5,
          2,
          1.5,
          1.5,
          0.5,
          3,
          2,
          3,
          1.5,
          4,
          2,
          2.5,
          1.5,
          2,
          1.5,
          3,
          1.5,
          0.5,
          1.5,
          1.5,
          0.5,
          2,
          1.5,
          3.5,
          0.5,
          3,
          4,
          3,
          1.5,
          4.5,
          1.5,
          1.5,
          3,
          1.5,
          2,
          3,
          1.5,
          1.5,
          1.5,
          3,
          1.5,
          3.5,
          4.5,
          3,
          1.5,
          1.5,
          2,
          3,
          1.5,
          3.5,
          2,
          3,
          1.5,
          3,
          2.5,
          2,
          0.5,
          0.5,
          1.5,
          3,
          2,
          1.5,
          4,
          2.5,
          1.5,
          1.5,
          2,
          3,
          3.5,
          1.5,
          2.5,
          1.5,
          0.5,
          1.5,
          3.5,
          3.5,
          2,
          3,
          1.5,
          3,
          3,
          3,
          1.5,
          3,
          2,
          3.5,
          1.5,
          4.5,
          2.5,
          1.5,
          2,
          2,
          3,
          3,
          3,
          1.5,
          3,
          3.5,
          3,
          2.5,
          1.5,
          2
         ],
         "xaxis": "x",
         "y": [
          4,
          4,
          3,
          5,
          5,
          6,
          6,
          6,
          5,
          3,
          6,
          4,
          5,
          7,
          3,
          5,
          3,
          5,
          5,
          2,
          3,
          2,
          2,
          3,
          4,
          3,
          6,
          5,
          6,
          3,
          6,
          4,
          3,
          7,
          6,
          4,
          4,
          5,
          6,
          5,
          6,
          6,
          3,
          6,
          5,
          6,
          6,
          4,
          6,
          5,
          6,
          7,
          3,
          6,
          3,
          6,
          3,
          2,
          4,
          3,
          4,
          3,
          6,
          5,
          5,
          5,
          4,
          6,
          5,
          5,
          5,
          5,
          7,
          5,
          2,
          1,
          2,
          3,
          4,
          3,
          3,
          3,
          4,
          6,
          4,
          6,
          3,
          3,
          5,
          6,
          5,
          5,
          2,
          6,
          3,
          6,
          4,
          5,
          2,
          7,
          3,
          4,
          5,
          2,
          5,
          2,
          3,
          2,
          5,
          3,
          2,
          2,
          2,
          2,
          6,
          2,
          4,
          3,
          5,
          2,
          3,
          4,
          4,
          2,
          2,
          3,
          3,
          5,
          6,
          3,
          4,
          6,
          6,
          6,
          1,
          5,
          3,
          3,
          3,
          6,
          4,
          5,
          2,
          5,
          5,
          2,
          5,
          4,
          5,
          4,
          5,
          3,
          5,
          6,
          1,
          6,
          6,
          6,
          3,
          4,
          5,
          2,
          4,
          5,
          3,
          5,
          4,
          4,
          3,
          4,
          4,
          4,
          2,
          4,
          5,
          2,
          2,
          3,
          4,
          3,
          5,
          5,
          7,
          4,
          2,
          5,
          4,
          3,
          6,
          5,
          4,
          4,
          3,
          6,
          6,
          3,
          2,
          5,
          5,
          3,
          7,
          4,
          6,
          4,
          6,
          5,
          5,
          3,
          3,
          2,
          3,
          5,
          1,
          2,
          6,
          2,
          5,
          6,
          4,
          3,
          5,
          3,
          3,
          2,
          3,
          5,
          3,
          6,
          3,
          2,
          2,
          6,
          1,
          4,
          6,
          6,
          2,
          3,
          5,
          3,
          5,
          3,
          5,
          4,
          3,
          3,
          4,
          5,
          4,
          2,
          3,
          3,
          5,
          3,
          4,
          5,
          5,
          2,
          3,
          5,
          6,
          5,
          5,
          3,
          4,
          4,
          7,
          7,
          6,
          1,
          4,
          2,
          5,
          5,
          5,
          4,
          6,
          5,
          6,
          5,
          6,
          2,
          4,
          2,
          2,
          1,
          5,
          2,
          2,
          2,
          6,
          2,
          6,
          3,
          3,
          7,
          5,
          4,
          3,
          2,
          5,
          5,
          5,
          6,
          2,
          3,
          5,
          2,
          3,
          6,
          6,
          3,
          7,
          5,
          5,
          5,
          6,
          2,
          3,
          4,
          4,
          5,
          4,
          2,
          4,
          7,
          4,
          2,
          3,
          5,
          2,
          2,
          4,
          5,
          2,
          3,
          5,
          1,
          3,
          3,
          5,
          3,
          5,
          4,
          1,
          4,
          5,
          4,
          3,
          4,
          4,
          3,
          5,
          3,
          2,
          4,
          2,
          3,
          3,
          2,
          2,
          5,
          6,
          5,
          3,
          5,
          5,
          2,
          5,
          6,
          2,
          3,
          3,
          3,
          3,
          5,
          5,
          6,
          2,
          5,
          2,
          4,
          2,
          5,
          3,
          5,
          6,
          6,
          2,
          2,
          5,
          2,
          2,
          1,
          4,
          5,
          3,
          4,
          2,
          2,
          3,
          4,
          6,
          5,
          2,
          6,
          4,
          1,
          5,
          4,
          5,
          2,
          2,
          4,
          4,
          2,
          3,
          3,
          4,
          2,
          5,
          4,
          3,
          3,
          4,
          1,
          4,
          4,
          3,
          3,
          2,
          4,
          3,
          5,
          5,
          3,
          5,
          5,
          4,
          3,
          1,
          2,
          3,
          2,
          5,
          3,
          1,
          3,
          3,
          4,
          2,
          7,
          3,
          3,
          6,
          6,
          3,
          5,
          4,
          3,
          6,
          3,
          4,
          5,
          2,
          5,
          5,
          3,
          6,
          7,
          4,
          5,
          4
         ],
         "yaxis": "y"
        }
       ],
       "layout": {
        "coloraxis": {
         "colorbar": {
          "title": {
           "text": "cluster_agg"
          }
         },
         "colorscale": [
          [
           0,
           "rgb(228,26,28)"
          ],
          [
           0.125,
           "rgb(55,126,184)"
          ],
          [
           0.25,
           "rgb(77,175,74)"
          ],
          [
           0.375,
           "rgb(152,78,163)"
          ],
          [
           0.5,
           "rgb(255,127,0)"
          ],
          [
           0.625,
           "rgb(255,255,51)"
          ],
          [
           0.75,
           "rgb(166,86,40)"
          ],
          [
           0.875,
           "rgb(247,129,191)"
          ],
          [
           1,
           "rgb(153,153,153)"
          ]
         ]
        },
        "legend": {
         "tracegroupgap": 0
        },
        "margin": {
         "t": 60
        },
        "template": {
         "data": {
          "bar": [
           {
            "error_x": {
             "color": "#2a3f5f"
            },
            "error_y": {
             "color": "#2a3f5f"
            },
            "marker": {
             "line": {
              "color": "#E5ECF6",
              "width": 0.5
             },
             "pattern": {
              "fillmode": "overlay",
              "size": 10,
              "solidity": 0.2
             }
            },
            "type": "bar"
           }
          ],
          "barpolar": [
           {
            "marker": {
             "line": {
              "color": "#E5ECF6",
              "width": 0.5
             },
             "pattern": {
              "fillmode": "overlay",
              "size": 10,
              "solidity": 0.2
             }
            },
            "type": "barpolar"
           }
          ],
          "carpet": [
           {
            "aaxis": {
             "endlinecolor": "#2a3f5f",
             "gridcolor": "white",
             "linecolor": "white",
             "minorgridcolor": "white",
             "startlinecolor": "#2a3f5f"
            },
            "baxis": {
             "endlinecolor": "#2a3f5f",
             "gridcolor": "white",
             "linecolor": "white",
             "minorgridcolor": "white",
             "startlinecolor": "#2a3f5f"
            },
            "type": "carpet"
           }
          ],
          "choropleth": [
           {
            "colorbar": {
             "outlinewidth": 0,
             "ticks": ""
            },
            "type": "choropleth"
           }
          ],
          "contour": [
           {
            "colorbar": {
             "outlinewidth": 0,
             "ticks": ""
            },
            "colorscale": [
             [
              0,
              "#0d0887"
             ],
             [
              0.1111111111111111,
              "#46039f"
             ],
             [
              0.2222222222222222,
              "#7201a8"
             ],
             [
              0.3333333333333333,
              "#9c179e"
             ],
             [
              0.4444444444444444,
              "#bd3786"
             ],
             [
              0.5555555555555556,
              "#d8576b"
             ],
             [
              0.6666666666666666,
              "#ed7953"
             ],
             [
              0.7777777777777778,
              "#fb9f3a"
             ],
             [
              0.8888888888888888,
              "#fdca26"
             ],
             [
              1,
              "#f0f921"
             ]
            ],
            "type": "contour"
           }
          ],
          "contourcarpet": [
           {
            "colorbar": {
             "outlinewidth": 0,
             "ticks": ""
            },
            "type": "contourcarpet"
           }
          ],
          "heatmap": [
           {
            "colorbar": {
             "outlinewidth": 0,
             "ticks": ""
            },
            "colorscale": [
             [
              0,
              "#0d0887"
             ],
             [
              0.1111111111111111,
              "#46039f"
             ],
             [
              0.2222222222222222,
              "#7201a8"
             ],
             [
              0.3333333333333333,
              "#9c179e"
             ],
             [
              0.4444444444444444,
              "#bd3786"
             ],
             [
              0.5555555555555556,
              "#d8576b"
             ],
             [
              0.6666666666666666,
              "#ed7953"
             ],
             [
              0.7777777777777778,
              "#fb9f3a"
             ],
             [
              0.8888888888888888,
              "#fdca26"
             ],
             [
              1,
              "#f0f921"
             ]
            ],
            "type": "heatmap"
           }
          ],
          "heatmapgl": [
           {
            "colorbar": {
             "outlinewidth": 0,
             "ticks": ""
            },
            "colorscale": [
             [
              0,
              "#0d0887"
             ],
             [
              0.1111111111111111,
              "#46039f"
             ],
             [
              0.2222222222222222,
              "#7201a8"
             ],
             [
              0.3333333333333333,
              "#9c179e"
             ],
             [
              0.4444444444444444,
              "#bd3786"
             ],
             [
              0.5555555555555556,
              "#d8576b"
             ],
             [
              0.6666666666666666,
              "#ed7953"
             ],
             [
              0.7777777777777778,
              "#fb9f3a"
             ],
             [
              0.8888888888888888,
              "#fdca26"
             ],
             [
              1,
              "#f0f921"
             ]
            ],
            "type": "heatmapgl"
           }
          ],
          "histogram": [
           {
            "marker": {
             "pattern": {
              "fillmode": "overlay",
              "size": 10,
              "solidity": 0.2
             }
            },
            "type": "histogram"
           }
          ],
          "histogram2d": [
           {
            "colorbar": {
             "outlinewidth": 0,
             "ticks": ""
            },
            "colorscale": [
             [
              0,
              "#0d0887"
             ],
             [
              0.1111111111111111,
              "#46039f"
             ],
             [
              0.2222222222222222,
              "#7201a8"
             ],
             [
              0.3333333333333333,
              "#9c179e"
             ],
             [
              0.4444444444444444,
              "#bd3786"
             ],
             [
              0.5555555555555556,
              "#d8576b"
             ],
             [
              0.6666666666666666,
              "#ed7953"
             ],
             [
              0.7777777777777778,
              "#fb9f3a"
             ],
             [
              0.8888888888888888,
              "#fdca26"
             ],
             [
              1,
              "#f0f921"
             ]
            ],
            "type": "histogram2d"
           }
          ],
          "histogram2dcontour": [
           {
            "colorbar": {
             "outlinewidth": 0,
             "ticks": ""
            },
            "colorscale": [
             [
              0,
              "#0d0887"
             ],
             [
              0.1111111111111111,
              "#46039f"
             ],
             [
              0.2222222222222222,
              "#7201a8"
             ],
             [
              0.3333333333333333,
              "#9c179e"
             ],
             [
              0.4444444444444444,
              "#bd3786"
             ],
             [
              0.5555555555555556,
              "#d8576b"
             ],
             [
              0.6666666666666666,
              "#ed7953"
             ],
             [
              0.7777777777777778,
              "#fb9f3a"
             ],
             [
              0.8888888888888888,
              "#fdca26"
             ],
             [
              1,
              "#f0f921"
             ]
            ],
            "type": "histogram2dcontour"
           }
          ],
          "mesh3d": [
           {
            "colorbar": {
             "outlinewidth": 0,
             "ticks": ""
            },
            "type": "mesh3d"
           }
          ],
          "parcoords": [
           {
            "line": {
             "colorbar": {
              "outlinewidth": 0,
              "ticks": ""
             }
            },
            "type": "parcoords"
           }
          ],
          "pie": [
           {
            "automargin": true,
            "type": "pie"
           }
          ],
          "scatter": [
           {
            "fillpattern": {
             "fillmode": "overlay",
             "size": 10,
             "solidity": 0.2
            },
            "type": "scatter"
           }
          ],
          "scatter3d": [
           {
            "line": {
             "colorbar": {
              "outlinewidth": 0,
              "ticks": ""
             }
            },
            "marker": {
             "colorbar": {
              "outlinewidth": 0,
              "ticks": ""
             }
            },
            "type": "scatter3d"
           }
          ],
          "scattercarpet": [
           {
            "marker": {
             "colorbar": {
              "outlinewidth": 0,
              "ticks": ""
             }
            },
            "type": "scattercarpet"
           }
          ],
          "scattergeo": [
           {
            "marker": {
             "colorbar": {
              "outlinewidth": 0,
              "ticks": ""
             }
            },
            "type": "scattergeo"
           }
          ],
          "scattergl": [
           {
            "marker": {
             "colorbar": {
              "outlinewidth": 0,
              "ticks": ""
             }
            },
            "type": "scattergl"
           }
          ],
          "scattermapbox": [
           {
            "marker": {
             "colorbar": {
              "outlinewidth": 0,
              "ticks": ""
             }
            },
            "type": "scattermapbox"
           }
          ],
          "scatterpolar": [
           {
            "marker": {
             "colorbar": {
              "outlinewidth": 0,
              "ticks": ""
             }
            },
            "type": "scatterpolar"
           }
          ],
          "scatterpolargl": [
           {
            "marker": {
             "colorbar": {
              "outlinewidth": 0,
              "ticks": ""
             }
            },
            "type": "scatterpolargl"
           }
          ],
          "scatterternary": [
           {
            "marker": {
             "colorbar": {
              "outlinewidth": 0,
              "ticks": ""
             }
            },
            "type": "scatterternary"
           }
          ],
          "surface": [
           {
            "colorbar": {
             "outlinewidth": 0,
             "ticks": ""
            },
            "colorscale": [
             [
              0,
              "#0d0887"
             ],
             [
              0.1111111111111111,
              "#46039f"
             ],
             [
              0.2222222222222222,
              "#7201a8"
             ],
             [
              0.3333333333333333,
              "#9c179e"
             ],
             [
              0.4444444444444444,
              "#bd3786"
             ],
             [
              0.5555555555555556,
              "#d8576b"
             ],
             [
              0.6666666666666666,
              "#ed7953"
             ],
             [
              0.7777777777777778,
              "#fb9f3a"
             ],
             [
              0.8888888888888888,
              "#fdca26"
             ],
             [
              1,
              "#f0f921"
             ]
            ],
            "type": "surface"
           }
          ],
          "table": [
           {
            "cells": {
             "fill": {
              "color": "#EBF0F8"
             },
             "line": {
              "color": "white"
             }
            },
            "header": {
             "fill": {
              "color": "#C8D4E3"
             },
             "line": {
              "color": "white"
             }
            },
            "type": "table"
           }
          ]
         },
         "layout": {
          "annotationdefaults": {
           "arrowcolor": "#2a3f5f",
           "arrowhead": 0,
           "arrowwidth": 1
          },
          "autotypenumbers": "strict",
          "coloraxis": {
           "colorbar": {
            "outlinewidth": 0,
            "ticks": ""
           }
          },
          "colorscale": {
           "diverging": [
            [
             0,
             "#8e0152"
            ],
            [
             0.1,
             "#c51b7d"
            ],
            [
             0.2,
             "#de77ae"
            ],
            [
             0.3,
             "#f1b6da"
            ],
            [
             0.4,
             "#fde0ef"
            ],
            [
             0.5,
             "#f7f7f7"
            ],
            [
             0.6,
             "#e6f5d0"
            ],
            [
             0.7,
             "#b8e186"
            ],
            [
             0.8,
             "#7fbc41"
            ],
            [
             0.9,
             "#4d9221"
            ],
            [
             1,
             "#276419"
            ]
           ],
           "sequential": [
            [
             0,
             "#0d0887"
            ],
            [
             0.1111111111111111,
             "#46039f"
            ],
            [
             0.2222222222222222,
             "#7201a8"
            ],
            [
             0.3333333333333333,
             "#9c179e"
            ],
            [
             0.4444444444444444,
             "#bd3786"
            ],
            [
             0.5555555555555556,
             "#d8576b"
            ],
            [
             0.6666666666666666,
             "#ed7953"
            ],
            [
             0.7777777777777778,
             "#fb9f3a"
            ],
            [
             0.8888888888888888,
             "#fdca26"
            ],
            [
             1,
             "#f0f921"
            ]
           ],
           "sequentialminus": [
            [
             0,
             "#0d0887"
            ],
            [
             0.1111111111111111,
             "#46039f"
            ],
            [
             0.2222222222222222,
             "#7201a8"
            ],
            [
             0.3333333333333333,
             "#9c179e"
            ],
            [
             0.4444444444444444,
             "#bd3786"
            ],
            [
             0.5555555555555556,
             "#d8576b"
            ],
            [
             0.6666666666666666,
             "#ed7953"
            ],
            [
             0.7777777777777778,
             "#fb9f3a"
            ],
            [
             0.8888888888888888,
             "#fdca26"
            ],
            [
             1,
             "#f0f921"
            ]
           ]
          },
          "colorway": [
           "#636efa",
           "#EF553B",
           "#00cc96",
           "#ab63fa",
           "#FFA15A",
           "#19d3f3",
           "#FF6692",
           "#B6E880",
           "#FF97FF",
           "#FECB52"
          ],
          "font": {
           "color": "#2a3f5f"
          },
          "geo": {
           "bgcolor": "white",
           "lakecolor": "white",
           "landcolor": "#E5ECF6",
           "showlakes": true,
           "showland": true,
           "subunitcolor": "white"
          },
          "hoverlabel": {
           "align": "left"
          },
          "hovermode": "closest",
          "mapbox": {
           "style": "light"
          },
          "paper_bgcolor": "white",
          "plot_bgcolor": "#E5ECF6",
          "polar": {
           "angularaxis": {
            "gridcolor": "white",
            "linecolor": "white",
            "ticks": ""
           },
           "bgcolor": "#E5ECF6",
           "radialaxis": {
            "gridcolor": "white",
            "linecolor": "white",
            "ticks": ""
           }
          },
          "scene": {
           "xaxis": {
            "backgroundcolor": "#E5ECF6",
            "gridcolor": "white",
            "gridwidth": 2,
            "linecolor": "white",
            "showbackground": true,
            "ticks": "",
            "zerolinecolor": "white"
           },
           "yaxis": {
            "backgroundcolor": "#E5ECF6",
            "gridcolor": "white",
            "gridwidth": 2,
            "linecolor": "white",
            "showbackground": true,
            "ticks": "",
            "zerolinecolor": "white"
           },
           "zaxis": {
            "backgroundcolor": "#E5ECF6",
            "gridcolor": "white",
            "gridwidth": 2,
            "linecolor": "white",
            "showbackground": true,
            "ticks": "",
            "zerolinecolor": "white"
           }
          },
          "shapedefaults": {
           "line": {
            "color": "#2a3f5f"
           }
          },
          "ternary": {
           "aaxis": {
            "gridcolor": "white",
            "linecolor": "white",
            "ticks": ""
           },
           "baxis": {
            "gridcolor": "white",
            "linecolor": "white",
            "ticks": ""
           },
           "bgcolor": "#E5ECF6",
           "caxis": {
            "gridcolor": "white",
            "linecolor": "white",
            "ticks": ""
           }
          },
          "title": {
           "x": 0.05
          },
          "xaxis": {
           "automargin": true,
           "gridcolor": "white",
           "linecolor": "white",
           "ticks": "",
           "title": {
            "standoff": 15
           },
           "zerolinecolor": "white",
           "zerolinewidth": 2
          },
          "yaxis": {
           "automargin": true,
           "gridcolor": "white",
           "linecolor": "white",
           "ticks": "",
           "title": {
            "standoff": 15
           },
           "zerolinecolor": "white",
           "zerolinewidth": 2
          }
         }
        },
        "title": {
         "text": "Abitudini di consumo vs affiliazione politica"
        },
        "xaxis": {
         "anchor": "y",
         "domain": [
          0,
          1
         ],
         "title": {
          "text": "Spesa Media"
         }
        },
        "yaxis": {
         "anchor": "x",
         "domain": [
          0,
          1
         ],
         "title": {
          "text": "Credo politico"
         }
        }
       }
      },
      "text/html": [
       "<div>                            <div id=\"e52d6c4a-b88a-4b07-9c74-15c71d5d338f\" class=\"plotly-graph-div\" style=\"height:525px; width:100%;\"></div>            <script type=\"text/javascript\">                require([\"plotly\"], function(Plotly) {                    window.PLOTLYENV=window.PLOTLYENV || {};                                    if (document.getElementById(\"e52d6c4a-b88a-4b07-9c74-15c71d5d338f\")) {                    Plotly.newPlot(                        \"e52d6c4a-b88a-4b07-9c74-15c71d5d338f\",                        [{\"hovertemplate\":\"Tipo di acquisti=%{x}<br>Credo politico=%{y}<br>cluster_agg=%{marker.color}<extra></extra>\",\"legendgroup\":\"\",\"marker\":{\"color\":[2,1,0,0,1,0,0,2,0,3,1,1,1,1,1,0,0,1,3,1,0,0,1,1,1,1,0,2,1,0,0,2,3,1,3,1,3,2,2,3,3,1,0,2,3,0,0,1,1,3,0,0,2,1,3,0,1,1,0,2,0,0,0,2,1,0,2,1,3,0,3,0,3,1,0,1,1,3,0,1,1,0,2,3,3,0,1,1,1,3,0,1,2,3,3,2,3,0,0,0,0,2,0,1,1,1,0,2,0,1,1,2,2,2,0,2,1,0,1,0,2,0,1,0,0,0,1,3,1,2,2,3,2,1,1,2,3,3,2,3,0,2,0,1,0,2,1,0,2,3,3,2,1,2,1,2,1,3,0,3,3,0,3,0,1,2,0,2,0,2,0,1,1,3,3,1,3,1,3,3,1,3,1,0,0,0,1,2,1,0,0,2,1,1,3,2,0,3,1,1,0,0,2,0,1,3,2,1,1,0,2,3,1,0,1,1,1,3,2,2,0,3,0,0,2,1,1,2,1,2,1,2,0,1,0,0,1,1,0,1,0,0,2,1,0,2,0,1,1,2,1,2,3,1,3,3,1,1,2,0,0,0,3,3,0,3,0,2,0,1,2,1,2,1,1,3,1,2,0,2,0,2,3,1,2,2,0,3,2,2,0,1,0,2,0,1,1,3,0,2,1,0,2,3,3,2,1,3,1,3,3,1,1,3,1,0,2,1,0,1,1,3,3,1,0,0,1,2,2,0,2,2,2,1,2,1,2,1,0,2,3,3,3,1,1,3,2,0,0,3,0,2,3,2,2,3,1,2,3,1,2,1,1,1,2,0,1,0,3,3,1,1,3,2,0,0,3,3,0,0,2,1,1,1,1,1,3,0,1,1,3,2,3,0,1,1,1,3,0,0,3,0,1,0,1,1,2,3,1,1,1,1,3,0,1,2,0,0,3,3,0,3,3,1,3,3,0,0,1,3,3,2,2,3,3,3,0,3,1,1,0,2,2,1,1,0,2,1,0,0,0,3,2,1,0,3,0,3,3,3,0,2,0,1,2,3,1,1,1,2,0,3,0],\"coloraxis\":\"coloraxis\",\"symbol\":\"circle\"},\"mode\":\"markers\",\"name\":\"\",\"orientation\":\"v\",\"showlegend\":false,\"x\":[2.5,3.0,3.0,3.5,1.5,1.5,2.0,1.5,3.0,4.5,0.5,1.5,2.0,1.5,2.5,1.5,1.5,0.5,1.5,2.5,1.5,3.0,3.0,2.0,0.5,1.5,1.5,1.5,1.5,2.0,1.5,1.5,3.0,2.0,1.5,1.5,1.5,1.5,1.5,2.0,3.0,1.5,0.5,1.5,2.5,1.5,0.5,1.5,3.0,3.0,0.5,0.5,3.5,3.5,1.5,1.5,2.0,1.5,1.5,3.0,0.5,1.5,1.5,0.5,1.5,3.0,1.5,2.0,2.5,1.5,1.5,3.0,2.0,3.0,1.5,3.5,3.0,4.0,1.5,1.5,3.0,1.5,2.0,1.5,4.5,1.5,2.5,1.5,2.0,0.5,1.5,3.0,4.0,1.0,2.0,2.5,3.0,1.5,3.0,1.5,0.5,1.5,0.5,1.5,4.0,3.0,3.0,3.0,1.5,1.5,1.5,2.0,1.5,3.0,1.5,1.5,2.0,4.0,1.5,1.5,2.5,1.5,1.5,3.0,0.5,2.5,1.5,2.5,2.0,1.5,1.5,2.5,1.5,1.5,2.0,0.5,1.5,3.0,0.5,2.0,3.0,3.0,1.5,1.5,3.0,1.5,3.0,2.0,1.5,1.5,3.5,2.0,3.0,0.5,1.5,0.5,4.0,1.5,4.5,3.0,3.0,1.5,1.5,4.5,1.5,3.0,3.5,1.5,0.5,4.0,3.0,1.5,3.0,2.5,3.0,2.0,2.0,3.0,1.5,1.5,1.5,1.5,1.5,1.5,3.0,0.5,3.5,0.5,3.0,1.5,0.5,3.0,1.5,1.5,1.5,4.5,2.0,3.0,3.5,1.5,1.5,1.5,0.5,3.5,1.5,1.5,2.0,3.0,2.5,3.0,1.5,2.0,1.5,3.0,0.5,0.5,2.0,2.0,2.0,2.0,3.0,3.5,1.5,1.5,0.5,3.0,1.5,1.5,0.5,1.5,1.5,0.5,1.5,3.5,2.5,1.5,1.5,3.0,1.5,1.5,3.0,1.5,1.5,1.5,1.5,1.5,2.0,1.5,1.5,3.0,1.5,1.5,3.0,2.0,3.5,2.5,1.5,0.5,2.0,0.5,2.5,2.5,2.0,4.5,0.5,4.5,3.0,3.0,0.5,1.5,1.5,3.0,1.5,3.0,1.5,1.5,0.5,3.0,3.0,3.5,3.0,1.5,1.5,1.5,2.0,3.0,2.0,3.0,2.5,1.5,0.5,3.5,0.5,2.5,2.0,0.5,1.5,1.5,1.5,1.5,1.5,2.0,1.5,2.5,3.0,1.5,1.5,2.0,3.0,0.5,2.0,1.5,1.5,1.5,3.0,0.5,1.5,1.5,1.5,2.0,1.5,2.0,3.0,1.5,0.5,0.5,1.5,0.5,1.5,3.0,1.5,0.5,0.5,1.5,0.5,1.5,2.0,0.5,3.5,2.0,1.5,2.0,2.0,1.5,1.5,3.0,3.0,3.0,1.5,1.5,2.5,1.5,1.5,2.0,2.0,3.0,0.5,3.0,3.0,1.5,1.5,1.5,2.5,2.0,1.5,3.0,2.5,3.0,3.0,3.0,1.5,1.5,2.0,1.5,1.5,0.5,3.0,2.0,3.0,1.5,4.0,2.0,2.5,1.5,2.0,1.5,3.0,1.5,0.5,1.5,1.5,0.5,2.0,1.5,3.5,0.5,3.0,4.0,3.0,1.5,4.5,1.5,1.5,3.0,1.5,2.0,3.0,1.5,1.5,1.5,3.0,1.5,3.5,4.5,3.0,1.5,1.5,2.0,3.0,1.5,3.5,2.0,3.0,1.5,3.0,2.5,2.0,0.5,0.5,1.5,3.0,2.0,1.5,4.0,2.5,1.5,1.5,2.0,3.0,3.5,1.5,2.5,1.5,0.5,1.5,3.5,3.5,2.0,3.0,1.5,3.0,3.0,3.0,1.5,3.0,2.0,3.5,1.5,4.5,2.5,1.5,2.0,2.0,3.0,3.0,3.0,1.5,3.0,3.5,3.0,2.5,1.5,2.0],\"xaxis\":\"x\",\"y\":[4.0,4.0,3.0,5.0,5.0,6.0,6.0,6.0,5.0,3.0,6.0,4.0,5.0,7.0,3.0,5.0,3.0,5.0,5.0,2.0,3.0,2.0,2.0,3.0,4.0,3.0,6.0,5.0,6.0,3.0,6.0,4.0,3.0,7.0,6.0,4.0,4.0,5.0,6.0,5.0,6.0,6.0,3.0,6.0,5.0,6.0,6.0,4.0,6.0,5.0,6.0,7.0,3.0,6.0,3.0,6.0,3.0,2.0,4.0,3.0,4.0,3.0,6.0,5.0,5.0,5.0,4.0,6.0,5.0,5.0,5.0,5.0,7.0,5.0,2.0,1.0,2.0,3.0,4.0,3.0,3.0,3.0,4.0,6.0,4.0,6.0,3.0,3.0,5.0,6.0,5.0,5.0,2.0,6.0,3.0,6.0,4.0,5.0,2.0,7.0,3.0,4.0,5.0,2.0,5.0,2.0,3.0,2.0,5.0,3.0,2.0,2.0,2.0,2.0,6.0,2.0,4.0,3.0,5.0,2.0,3.0,4.0,4.0,2.0,2.0,3.0,3.0,5.0,6.0,3.0,4.0,6.0,6.0,6.0,1.0,5.0,3.0,3.0,3.0,6.0,4.0,5.0,2.0,5.0,5.0,2.0,5.0,4.0,5.0,4.0,5.0,3.0,5.0,6.0,1.0,6.0,6.0,6.0,3.0,4.0,5.0,2.0,4.0,5.0,3.0,5.0,4.0,4.0,3.0,4.0,4.0,4.0,2.0,4.0,5.0,2.0,2.0,3.0,4.0,3.0,5.0,5.0,7.0,4.0,2.0,5.0,4.0,3.0,6.0,5.0,4.0,4.0,3.0,6.0,6.0,3.0,2.0,5.0,5.0,3.0,7.0,4.0,6.0,4.0,6.0,5.0,5.0,3.0,3.0,2.0,3.0,5.0,1.0,2.0,6.0,2.0,5.0,6.0,4.0,3.0,5.0,3.0,3.0,2.0,3.0,5.0,3.0,6.0,3.0,2.0,2.0,6.0,1.0,4.0,6.0,6.0,2.0,3.0,5.0,3.0,5.0,3.0,5.0,4.0,3.0,3.0,4.0,5.0,4.0,2.0,3.0,3.0,5.0,3.0,4.0,5.0,5.0,2.0,3.0,5.0,6.0,5.0,5.0,3.0,4.0,4.0,7.0,7.0,6.0,1.0,4.0,2.0,5.0,5.0,5.0,4.0,6.0,5.0,6.0,5.0,6.0,2.0,4.0,2.0,2.0,1.0,5.0,2.0,2.0,2.0,6.0,2.0,6.0,3.0,3.0,7.0,5.0,4.0,3.0,2.0,5.0,5.0,5.0,6.0,2.0,3.0,5.0,2.0,3.0,6.0,6.0,3.0,7.0,5.0,5.0,5.0,6.0,2.0,3.0,4.0,4.0,5.0,4.0,2.0,4.0,7.0,4.0,2.0,3.0,5.0,2.0,2.0,4.0,5.0,2.0,3.0,5.0,1.0,3.0,3.0,5.0,3.0,5.0,4.0,1.0,4.0,5.0,4.0,3.0,4.0,4.0,3.0,5.0,3.0,2.0,4.0,2.0,3.0,3.0,2.0,2.0,5.0,6.0,5.0,3.0,5.0,5.0,2.0,5.0,6.0,2.0,3.0,3.0,3.0,3.0,5.0,5.0,6.0,2.0,5.0,2.0,4.0,2.0,5.0,3.0,5.0,6.0,6.0,2.0,2.0,5.0,2.0,2.0,1.0,4.0,5.0,3.0,4.0,2.0,2.0,3.0,4.0,6.0,5.0,2.0,6.0,4.0,1.0,5.0,4.0,5.0,2.0,2.0,4.0,4.0,2.0,3.0,3.0,4.0,2.0,5.0,4.0,3.0,3.0,4.0,1.0,4.0,4.0,3.0,3.0,2.0,4.0,3.0,5.0,5.0,3.0,5.0,5.0,4.0,3.0,1.0,2.0,3.0,2.0,5.0,3.0,1.0,3.0,3.0,4.0,2.0,7.0,3.0,3.0,6.0,6.0,3.0,5.0,4.0,3.0,6.0,3.0,4.0,5.0,2.0,5.0,5.0,3.0,6.0,7.0,4.0,5.0,4.0],\"yaxis\":\"y\",\"type\":\"scatter\"}],                        {\"template\":{\"data\":{\"histogram2dcontour\":[{\"type\":\"histogram2dcontour\",\"colorbar\":{\"outlinewidth\":0,\"ticks\":\"\"},\"colorscale\":[[0.0,\"#0d0887\"],[0.1111111111111111,\"#46039f\"],[0.2222222222222222,\"#7201a8\"],[0.3333333333333333,\"#9c179e\"],[0.4444444444444444,\"#bd3786\"],[0.5555555555555556,\"#d8576b\"],[0.6666666666666666,\"#ed7953\"],[0.7777777777777778,\"#fb9f3a\"],[0.8888888888888888,\"#fdca26\"],[1.0,\"#f0f921\"]]}],\"choropleth\":[{\"type\":\"choropleth\",\"colorbar\":{\"outlinewidth\":0,\"ticks\":\"\"}}],\"histogram2d\":[{\"type\":\"histogram2d\",\"colorbar\":{\"outlinewidth\":0,\"ticks\":\"\"},\"colorscale\":[[0.0,\"#0d0887\"],[0.1111111111111111,\"#46039f\"],[0.2222222222222222,\"#7201a8\"],[0.3333333333333333,\"#9c179e\"],[0.4444444444444444,\"#bd3786\"],[0.5555555555555556,\"#d8576b\"],[0.6666666666666666,\"#ed7953\"],[0.7777777777777778,\"#fb9f3a\"],[0.8888888888888888,\"#fdca26\"],[1.0,\"#f0f921\"]]}],\"heatmap\":[{\"type\":\"heatmap\",\"colorbar\":{\"outlinewidth\":0,\"ticks\":\"\"},\"colorscale\":[[0.0,\"#0d0887\"],[0.1111111111111111,\"#46039f\"],[0.2222222222222222,\"#7201a8\"],[0.3333333333333333,\"#9c179e\"],[0.4444444444444444,\"#bd3786\"],[0.5555555555555556,\"#d8576b\"],[0.6666666666666666,\"#ed7953\"],[0.7777777777777778,\"#fb9f3a\"],[0.8888888888888888,\"#fdca26\"],[1.0,\"#f0f921\"]]}],\"heatmapgl\":[{\"type\":\"heatmapgl\",\"colorbar\":{\"outlinewidth\":0,\"ticks\":\"\"},\"colorscale\":[[0.0,\"#0d0887\"],[0.1111111111111111,\"#46039f\"],[0.2222222222222222,\"#7201a8\"],[0.3333333333333333,\"#9c179e\"],[0.4444444444444444,\"#bd3786\"],[0.5555555555555556,\"#d8576b\"],[0.6666666666666666,\"#ed7953\"],[0.7777777777777778,\"#fb9f3a\"],[0.8888888888888888,\"#fdca26\"],[1.0,\"#f0f921\"]]}],\"contourcarpet\":[{\"type\":\"contourcarpet\",\"colorbar\":{\"outlinewidth\":0,\"ticks\":\"\"}}],\"contour\":[{\"type\":\"contour\",\"colorbar\":{\"outlinewidth\":0,\"ticks\":\"\"},\"colorscale\":[[0.0,\"#0d0887\"],[0.1111111111111111,\"#46039f\"],[0.2222222222222222,\"#7201a8\"],[0.3333333333333333,\"#9c179e\"],[0.4444444444444444,\"#bd3786\"],[0.5555555555555556,\"#d8576b\"],[0.6666666666666666,\"#ed7953\"],[0.7777777777777778,\"#fb9f3a\"],[0.8888888888888888,\"#fdca26\"],[1.0,\"#f0f921\"]]}],\"surface\":[{\"type\":\"surface\",\"colorbar\":{\"outlinewidth\":0,\"ticks\":\"\"},\"colorscale\":[[0.0,\"#0d0887\"],[0.1111111111111111,\"#46039f\"],[0.2222222222222222,\"#7201a8\"],[0.3333333333333333,\"#9c179e\"],[0.4444444444444444,\"#bd3786\"],[0.5555555555555556,\"#d8576b\"],[0.6666666666666666,\"#ed7953\"],[0.7777777777777778,\"#fb9f3a\"],[0.8888888888888888,\"#fdca26\"],[1.0,\"#f0f921\"]]}],\"mesh3d\":[{\"type\":\"mesh3d\",\"colorbar\":{\"outlinewidth\":0,\"ticks\":\"\"}}],\"scatter\":[{\"fillpattern\":{\"fillmode\":\"overlay\",\"size\":10,\"solidity\":0.2},\"type\":\"scatter\"}],\"parcoords\":[{\"type\":\"parcoords\",\"line\":{\"colorbar\":{\"outlinewidth\":0,\"ticks\":\"\"}}}],\"scatterpolargl\":[{\"type\":\"scatterpolargl\",\"marker\":{\"colorbar\":{\"outlinewidth\":0,\"ticks\":\"\"}}}],\"bar\":[{\"error_x\":{\"color\":\"#2a3f5f\"},\"error_y\":{\"color\":\"#2a3f5f\"},\"marker\":{\"line\":{\"color\":\"#E5ECF6\",\"width\":0.5},\"pattern\":{\"fillmode\":\"overlay\",\"size\":10,\"solidity\":0.2}},\"type\":\"bar\"}],\"scattergeo\":[{\"type\":\"scattergeo\",\"marker\":{\"colorbar\":{\"outlinewidth\":0,\"ticks\":\"\"}}}],\"scatterpolar\":[{\"type\":\"scatterpolar\",\"marker\":{\"colorbar\":{\"outlinewidth\":0,\"ticks\":\"\"}}}],\"histogram\":[{\"marker\":{\"pattern\":{\"fillmode\":\"overlay\",\"size\":10,\"solidity\":0.2}},\"type\":\"histogram\"}],\"scattergl\":[{\"type\":\"scattergl\",\"marker\":{\"colorbar\":{\"outlinewidth\":0,\"ticks\":\"\"}}}],\"scatter3d\":[{\"type\":\"scatter3d\",\"line\":{\"colorbar\":{\"outlinewidth\":0,\"ticks\":\"\"}},\"marker\":{\"colorbar\":{\"outlinewidth\":0,\"ticks\":\"\"}}}],\"scattermapbox\":[{\"type\":\"scattermapbox\",\"marker\":{\"colorbar\":{\"outlinewidth\":0,\"ticks\":\"\"}}}],\"scatterternary\":[{\"type\":\"scatterternary\",\"marker\":{\"colorbar\":{\"outlinewidth\":0,\"ticks\":\"\"}}}],\"scattercarpet\":[{\"type\":\"scattercarpet\",\"marker\":{\"colorbar\":{\"outlinewidth\":0,\"ticks\":\"\"}}}],\"carpet\":[{\"aaxis\":{\"endlinecolor\":\"#2a3f5f\",\"gridcolor\":\"white\",\"linecolor\":\"white\",\"minorgridcolor\":\"white\",\"startlinecolor\":\"#2a3f5f\"},\"baxis\":{\"endlinecolor\":\"#2a3f5f\",\"gridcolor\":\"white\",\"linecolor\":\"white\",\"minorgridcolor\":\"white\",\"startlinecolor\":\"#2a3f5f\"},\"type\":\"carpet\"}],\"table\":[{\"cells\":{\"fill\":{\"color\":\"#EBF0F8\"},\"line\":{\"color\":\"white\"}},\"header\":{\"fill\":{\"color\":\"#C8D4E3\"},\"line\":{\"color\":\"white\"}},\"type\":\"table\"}],\"barpolar\":[{\"marker\":{\"line\":{\"color\":\"#E5ECF6\",\"width\":0.5},\"pattern\":{\"fillmode\":\"overlay\",\"size\":10,\"solidity\":0.2}},\"type\":\"barpolar\"}],\"pie\":[{\"automargin\":true,\"type\":\"pie\"}]},\"layout\":{\"autotypenumbers\":\"strict\",\"colorway\":[\"#636efa\",\"#EF553B\",\"#00cc96\",\"#ab63fa\",\"#FFA15A\",\"#19d3f3\",\"#FF6692\",\"#B6E880\",\"#FF97FF\",\"#FECB52\"],\"font\":{\"color\":\"#2a3f5f\"},\"hovermode\":\"closest\",\"hoverlabel\":{\"align\":\"left\"},\"paper_bgcolor\":\"white\",\"plot_bgcolor\":\"#E5ECF6\",\"polar\":{\"bgcolor\":\"#E5ECF6\",\"angularaxis\":{\"gridcolor\":\"white\",\"linecolor\":\"white\",\"ticks\":\"\"},\"radialaxis\":{\"gridcolor\":\"white\",\"linecolor\":\"white\",\"ticks\":\"\"}},\"ternary\":{\"bgcolor\":\"#E5ECF6\",\"aaxis\":{\"gridcolor\":\"white\",\"linecolor\":\"white\",\"ticks\":\"\"},\"baxis\":{\"gridcolor\":\"white\",\"linecolor\":\"white\",\"ticks\":\"\"},\"caxis\":{\"gridcolor\":\"white\",\"linecolor\":\"white\",\"ticks\":\"\"}},\"coloraxis\":{\"colorbar\":{\"outlinewidth\":0,\"ticks\":\"\"}},\"colorscale\":{\"sequential\":[[0.0,\"#0d0887\"],[0.1111111111111111,\"#46039f\"],[0.2222222222222222,\"#7201a8\"],[0.3333333333333333,\"#9c179e\"],[0.4444444444444444,\"#bd3786\"],[0.5555555555555556,\"#d8576b\"],[0.6666666666666666,\"#ed7953\"],[0.7777777777777778,\"#fb9f3a\"],[0.8888888888888888,\"#fdca26\"],[1.0,\"#f0f921\"]],\"sequentialminus\":[[0.0,\"#0d0887\"],[0.1111111111111111,\"#46039f\"],[0.2222222222222222,\"#7201a8\"],[0.3333333333333333,\"#9c179e\"],[0.4444444444444444,\"#bd3786\"],[0.5555555555555556,\"#d8576b\"],[0.6666666666666666,\"#ed7953\"],[0.7777777777777778,\"#fb9f3a\"],[0.8888888888888888,\"#fdca26\"],[1.0,\"#f0f921\"]],\"diverging\":[[0,\"#8e0152\"],[0.1,\"#c51b7d\"],[0.2,\"#de77ae\"],[0.3,\"#f1b6da\"],[0.4,\"#fde0ef\"],[0.5,\"#f7f7f7\"],[0.6,\"#e6f5d0\"],[0.7,\"#b8e186\"],[0.8,\"#7fbc41\"],[0.9,\"#4d9221\"],[1,\"#276419\"]]},\"xaxis\":{\"gridcolor\":\"white\",\"linecolor\":\"white\",\"ticks\":\"\",\"title\":{\"standoff\":15},\"zerolinecolor\":\"white\",\"automargin\":true,\"zerolinewidth\":2},\"yaxis\":{\"gridcolor\":\"white\",\"linecolor\":\"white\",\"ticks\":\"\",\"title\":{\"standoff\":15},\"zerolinecolor\":\"white\",\"automargin\":true,\"zerolinewidth\":2},\"scene\":{\"xaxis\":{\"backgroundcolor\":\"#E5ECF6\",\"gridcolor\":\"white\",\"linecolor\":\"white\",\"showbackground\":true,\"ticks\":\"\",\"zerolinecolor\":\"white\",\"gridwidth\":2},\"yaxis\":{\"backgroundcolor\":\"#E5ECF6\",\"gridcolor\":\"white\",\"linecolor\":\"white\",\"showbackground\":true,\"ticks\":\"\",\"zerolinecolor\":\"white\",\"gridwidth\":2},\"zaxis\":{\"backgroundcolor\":\"#E5ECF6\",\"gridcolor\":\"white\",\"linecolor\":\"white\",\"showbackground\":true,\"ticks\":\"\",\"zerolinecolor\":\"white\",\"gridwidth\":2}},\"shapedefaults\":{\"line\":{\"color\":\"#2a3f5f\"}},\"annotationdefaults\":{\"arrowcolor\":\"#2a3f5f\",\"arrowhead\":0,\"arrowwidth\":1},\"geo\":{\"bgcolor\":\"white\",\"landcolor\":\"#E5ECF6\",\"subunitcolor\":\"white\",\"showland\":true,\"showlakes\":true,\"lakecolor\":\"white\"},\"title\":{\"x\":0.05},\"mapbox\":{\"style\":\"light\"}}},\"xaxis\":{\"anchor\":\"y\",\"domain\":[0.0,1.0],\"title\":{\"text\":\"Spesa Media\"}},\"yaxis\":{\"anchor\":\"x\",\"domain\":[0.0,1.0],\"title\":{\"text\":\"Credo politico\"}},\"coloraxis\":{\"colorbar\":{\"title\":{\"text\":\"cluster_agg\"}},\"colorscale\":[[0.0,\"rgb(228,26,28)\"],[0.125,\"rgb(55,126,184)\"],[0.25,\"rgb(77,175,74)\"],[0.375,\"rgb(152,78,163)\"],[0.5,\"rgb(255,127,0)\"],[0.625,\"rgb(255,255,51)\"],[0.75,\"rgb(166,86,40)\"],[0.875,\"rgb(247,129,191)\"],[1.0,\"rgb(153,153,153)\"]]},\"legend\":{\"tracegroupgap\":0},\"margin\":{\"t\":60},\"title\":{\"text\":\"Abitudini di consumo vs affiliazione politica\"}},                        {\"responsive\": true}                    ).then(function(){\n",
       "                            \n",
       "var gd = document.getElementById('e52d6c4a-b88a-4b07-9c74-15c71d5d338f');\n",
       "var x = new MutationObserver(function (mutations, observer) {{\n",
       "        var display = window.getComputedStyle(gd).display;\n",
       "        if (!display || display === 'none') {{\n",
       "            console.log([gd, 'removed!']);\n",
       "            Plotly.purge(gd);\n",
       "            observer.disconnect();\n",
       "        }}\n",
       "}});\n",
       "\n",
       "// Listen for the removal of the full notebook cells\n",
       "var notebookContainer = gd.closest('#notebook-container');\n",
       "if (notebookContainer) {{\n",
       "    x.observe(notebookContainer, {childList: true});\n",
       "}}\n",
       "\n",
       "// Listen for the clearing of the current output cell\n",
       "var outputEl = gd.closest('.output');\n",
       "if (outputEl) {{\n",
       "    x.observe(outputEl, {childList: true});\n",
       "}}\n",
       "\n",
       "                        })                };                });            </script>        </div>"
      ]
     },
     "metadata": {},
     "output_type": "display_data"
    }
   ],
   "source": [
    "fig = px.scatter(political, x='spesa_mean', y='aut', color='cluster_agg',  labels={'spesa_mean': 'Tipo di acquisti', 'aut': 'Credo politico',\n",
    "                         'cluster': 'Cluster'})\n",
    "\n",
    "\n",
    "\n",
    "fig.update_layout(\n",
    "    title='Abitudini di consumo vs affiliazione politica',\n",
    "    xaxis_title='Spesa Media',\n",
    "    yaxis_title='Credo politico'\n",
    ")\n",
    "\n",
    "\n",
    "\n",
    "\n",
    "# Show the plot\n",
    "fig.show()"
   ]
  },
  {
   "cell_type": "markdown",
   "id": "96e020e3",
   "metadata": {},
   "source": [
    "## Genero delle contingency table per avere una visione più specifica dei risultati dei CLUSTERS\n"
   ]
  },
  {
   "cell_type": "markdown",
   "id": "0e9d3068",
   "metadata": {},
   "source": [
    "#### Calcolo la media della colonna del credo politico per ogni cluster"
   ]
  },
  {
   "cell_type": "code",
   "execution_count": 406,
   "id": "300e4b2b",
   "metadata": {},
   "outputs": [
    {
     "data": {
      "text/html": [
       "<div>\n",
       "<style scoped>\n",
       "    .dataframe tbody tr th:only-of-type {\n",
       "        vertical-align: middle;\n",
       "    }\n",
       "\n",
       "    .dataframe tbody tr th {\n",
       "        vertical-align: top;\n",
       "    }\n",
       "\n",
       "    .dataframe thead th {\n",
       "        text-align: right;\n",
       "    }\n",
       "</style>\n",
       "<table border=\"1\" class=\"dataframe\">\n",
       "  <thead>\n",
       "    <tr style=\"text-align: right;\">\n",
       "      <th></th>\n",
       "      <th>mean_political</th>\n",
       "    </tr>\n",
       "    <tr>\n",
       "      <th>cluster_agg</th>\n",
       "      <th></th>\n",
       "    </tr>\n",
       "  </thead>\n",
       "  <tbody>\n",
       "    <tr>\n",
       "      <th>0</th>\n",
       "      <td>4.124031</td>\n",
       "    </tr>\n",
       "    <tr>\n",
       "      <th>1</th>\n",
       "      <td>3.851351</td>\n",
       "    </tr>\n",
       "    <tr>\n",
       "      <th>2</th>\n",
       "      <td>3.583333</td>\n",
       "    </tr>\n",
       "    <tr>\n",
       "      <th>3</th>\n",
       "      <td>4.310000</td>\n",
       "    </tr>\n",
       "  </tbody>\n",
       "</table>\n",
       "</div>"
      ],
      "text/plain": [
       "             mean_political\n",
       "cluster_agg                \n",
       "0                  4.124031\n",
       "1                  3.851351\n",
       "2                  3.583333\n",
       "3                  4.310000"
      ]
     },
     "execution_count": 406,
     "metadata": {},
     "output_type": "execute_result"
    }
   ],
   "source": [
    "political['aut'] = political['aut'].astype(float)\n",
    "\n",
    "means = political.groupby('cluster_agg')['aut'].mean()\n",
    "\n",
    "contingency_table = pd.DataFrame({'mean_political': means})\n",
    "contingency_table"
   ]
  },
  {
   "cell_type": "code",
   "execution_count": 407,
   "id": "b38d13be",
   "metadata": {},
   "outputs": [
    {
     "name": "stderr",
     "output_type": "stream",
     "text": [
      "/var/folders/xb/vvc68n450fbddr8m1x399n3h0000gn/T/ipykernel_5133/784963618.py:1: FutureWarning:\n",
      "\n",
      "The default value of numeric_only in DataFrameGroupBy.mean is deprecated. In a future version, numeric_only will default to False. Either specify numeric_only or select only columns which should be valid for the function.\n",
      "\n"
     ]
    },
    {
     "data": {
      "text/html": [
       "<div>\n",
       "<style scoped>\n",
       "    .dataframe tbody tr th:only-of-type {\n",
       "        vertical-align: middle;\n",
       "    }\n",
       "\n",
       "    .dataframe tbody tr th {\n",
       "        vertical-align: top;\n",
       "    }\n",
       "\n",
       "    .dataframe thead th {\n",
       "        text-align: right;\n",
       "    }\n",
       "</style>\n",
       "<table border=\"1\" class=\"dataframe\">\n",
       "  <thead>\n",
       "    <tr style=\"text-align: right;\">\n",
       "      <th></th>\n",
       "      <th>cluster_agg</th>\n",
       "      <th>aut</th>\n",
       "      <th>cluster_not_ag</th>\n",
       "      <th>PERS_pos</th>\n",
       "      <th>PERS_neg</th>\n",
       "      <th>INDCOL_mean</th>\n",
       "      <th>consumo</th>\n",
       "      <th>spesa_mean</th>\n",
       "      <th>tecnologia</th>\n",
       "    </tr>\n",
       "  </thead>\n",
       "  <tbody>\n",
       "    <tr>\n",
       "      <th>0</th>\n",
       "      <td>0</td>\n",
       "      <td>4.124031</td>\n",
       "      <td>0.945736</td>\n",
       "      <td>2.850310</td>\n",
       "      <td>2.209302</td>\n",
       "      <td>2.442946</td>\n",
       "      <td>2.379767</td>\n",
       "      <td>1.965116</td>\n",
       "      <td>2.437442</td>\n",
       "    </tr>\n",
       "    <tr>\n",
       "      <th>1</th>\n",
       "      <td>1</td>\n",
       "      <td>3.851351</td>\n",
       "      <td>0.655405</td>\n",
       "      <td>2.896216</td>\n",
       "      <td>2.037162</td>\n",
       "      <td>2.386959</td>\n",
       "      <td>2.370608</td>\n",
       "      <td>1.925676</td>\n",
       "      <td>2.453851</td>\n",
       "    </tr>\n",
       "    <tr>\n",
       "      <th>2</th>\n",
       "      <td>2</td>\n",
       "      <td>3.583333</td>\n",
       "      <td>1.302083</td>\n",
       "      <td>2.944167</td>\n",
       "      <td>2.091146</td>\n",
       "      <td>2.440417</td>\n",
       "      <td>2.529375</td>\n",
       "      <td>1.911458</td>\n",
       "      <td>2.484792</td>\n",
       "    </tr>\n",
       "    <tr>\n",
       "      <th>3</th>\n",
       "      <td>3</td>\n",
       "      <td>4.310000</td>\n",
       "      <td>1.330000</td>\n",
       "      <td>3.001300</td>\n",
       "      <td>2.130000</td>\n",
       "      <td>2.571400</td>\n",
       "      <td>2.596800</td>\n",
       "      <td>2.395000</td>\n",
       "      <td>2.597000</td>\n",
       "    </tr>\n",
       "  </tbody>\n",
       "</table>\n",
       "</div>"
      ],
      "text/plain": [
       "   cluster_agg       aut  cluster_not_ag  PERS_pos  PERS_neg  INDCOL_mean  \\\n",
       "0            0  4.124031        0.945736  2.850310  2.209302     2.442946   \n",
       "1            1  3.851351        0.655405  2.896216  2.037162     2.386959   \n",
       "2            2  3.583333        1.302083  2.944167  2.091146     2.440417   \n",
       "3            3  4.310000        1.330000  3.001300  2.130000     2.571400   \n",
       "\n",
       "    consumo  spesa_mean  tecnologia  \n",
       "0  2.379767    1.965116    2.437442  \n",
       "1  2.370608    1.925676    2.453851  \n",
       "2  2.529375    1.911458    2.484792  \n",
       "3  2.596800    2.395000    2.597000  "
      ]
     },
     "execution_count": 407,
     "metadata": {},
     "output_type": "execute_result"
    }
   ],
   "source": [
    "means = political.groupby('cluster_agg').mean()\n",
    "\n",
    "contingency_table = means.reset_index().rename(columns={0: 'mean_value'})\n",
    "\n",
    "table = pd.DataFrame(contingency_table)\n",
    "table"
   ]
  },
  {
   "cell_type": "markdown",
   "id": "b82eb9c5",
   "metadata": {},
   "source": [
    "**CLUSTER ANALYSIS WITH 2 GROUPS:** \n",
    "\n",
    "*COSE INTERESSANTI DA SEGNALARE*: \n",
    "\n",
    "- pare che non ci sia una differenziazione netta tra destra e sinistra\n",
    "\n",
    "- non ci sono variazioni significative nei tratti positivi e negativi della personalità, forse le persone del primo cluster hanno una media delle caratteristiche positive maggiore di quelli del secondo cluster\n",
    "\n",
    "- Quelli del primo cluster sono più individualisti e opportunisti, mentre quelli del secondi sono più solidali\n",
    "\n",
    "- interessante notare che chi fa più spese online è anche chi ha maggiore fiducia nella tecnologia"
   ]
  },
  {
   "cell_type": "markdown",
   "id": "a434822c",
   "metadata": {},
   "source": [
    "**CLUSTER ANALYSIS WITH 4 GROUPS:** \n",
    "\n",
    "*COSE INTERESSANTI DA SEGNALARE*: \n",
    "\n",
    "- *cluster 4* = persone di destra, con tratti la media dei tratti personalità positivi più alta di tutti e una media di caratteristiche negative della personalità più alta rispetto ai due cluster più a sinistra. Sono i più opportunisti e i meno solidali, hanno delle abitudini di consumo piuttosto omologate alla massa, grande fiducia nella tecnologia e amano acquistare online. \n",
    "\n",
    "- *cluster 1* = persone leggermente meno di destra, la media dei tratti di personalità POSITIVI è la più bassa, mentre quelli negativi sono i più alti tra i gruppi. Sono i secondi, dopo il cluster 4 per opportunismo e individualismo. Si omologano meno alle mode e ai trend culturali e sono più scettici nei riguardi della tecnologia; acquistano più in negozi fisici.\n",
    "\n",
    "- *cluster 2* = persone ancor leggermente meno di destra (più verso il centro), la media dei tratti di personalità posivi è medio-bassa, mentre quelli negativi sono i più bassi tra i gruppi. Sono i più solidali e quelli meno omologati alla cultura di massa. Sono coloro che favoriscono l'acquisto in loco e più scettici verso tecnologia. (CONSAPEVOLI E PONDERATI, INDIPENDENTI E SOLIDATI)\n",
    "\n",
    "- *cluster 3* = persone più a sinistra delle altre, buoni aspetti della personalità. Sono abbastanza solidali, ma seguono abbastanza le mode e i trend culturali. Più entusiasti per la tecnologia e gli acquisti online rispetto al cluster 1 e 2, ma meno del cluster 4."
   ]
  },
  {
   "cell_type": "code",
   "execution_count": 419,
   "id": "3c32f49d",
   "metadata": {},
   "outputs": [
    {
     "data": {
      "text/plain": [
       "Text(0.5, 1.0, 'Scatter plot between Annual Income and Spending Score')"
      ]
     },
     "execution_count": 419,
     "metadata": {},
     "output_type": "execute_result"
    },
    {
     "data": {
      "image/png": "[encoded data removed]",
      "text/plain": [
       "<Figure size 1000x600 with 1 Axes>"
      ]
     },
     "metadata": {},
     "output_type": "display_data"
    }
   ],
   "source": [
    "plt.figure(figsize=(10,6))\n",
    "plt.scatter(not_political['INDCOL_mean'],not_political['tecnologia'], marker='o');\n",
    "plt.xlabel('Annual Income (k$)')\n",
    "plt.ylabel('Spending Score (1-100)')\n",
    "plt.title('Scatter plot between Annual Income and Spending Score')"
   ]
  },
  {
   "cell_type": "code",
   "execution_count": 409,
   "id": "e2687429",
   "metadata": {},
   "outputs": [
    {
     "name": "stderr",
     "output_type": "stream",
     "text": [
      "/var/folders/xb/vvc68n450fbddr8m1x399n3h0000gn/T/ipykernel_5133/1180877746.py:1: FutureWarning:\n",
      "\n",
      "The default value of numeric_only in DataFrameGroupBy.mean is deprecated. In a future version, numeric_only will default to False. Either specify numeric_only or select only columns which should be valid for the function.\n",
      "\n"
     ]
    }
   ],
   "source": [
    "means_2 = not_political.groupby('cluster_agg').mean()\n",
    "# create a contingency table with the results\n",
    "contingency_table_2 = means_2.reset_index().rename(columns={0: 'mean_value'})\n",
    "\n",
    "table_2 = pd.DataFrame(contingency_table_2)"
   ]
  },
  {
   "cell_type": "code",
   "execution_count": 410,
   "id": "828e2e28",
   "metadata": {},
   "outputs": [
    {
     "data": {
      "text/html": [
       "<div>\n",
       "<style scoped>\n",
       "    .dataframe tbody tr th:only-of-type {\n",
       "        vertical-align: middle;\n",
       "    }\n",
       "\n",
       "    .dataframe tbody tr th {\n",
       "        vertical-align: top;\n",
       "    }\n",
       "\n",
       "    .dataframe thead th {\n",
       "        text-align: right;\n",
       "    }\n",
       "</style>\n",
       "<table border=\"1\" class=\"dataframe\">\n",
       "  <thead>\n",
       "    <tr style=\"text-align: right;\">\n",
       "      <th></th>\n",
       "      <th>cluster_agg</th>\n",
       "      <th>cluster_not_ag</th>\n",
       "      <th>PERS_pos</th>\n",
       "      <th>PERS_neg</th>\n",
       "      <th>INDCOL_mean</th>\n",
       "      <th>consumo</th>\n",
       "      <th>spesa_mean</th>\n",
       "      <th>tecnologia</th>\n",
       "    </tr>\n",
       "  </thead>\n",
       "  <tbody>\n",
       "    <tr>\n",
       "      <th>0</th>\n",
       "      <td>0</td>\n",
       "      <td>0.717791</td>\n",
       "      <td>2.906748</td>\n",
       "      <td>2.058282</td>\n",
       "      <td>2.401350</td>\n",
       "      <td>2.391718</td>\n",
       "      <td>1.950920</td>\n",
       "      <td>2.465521</td>\n",
       "    </tr>\n",
       "    <tr>\n",
       "      <th>1</th>\n",
       "      <td>1</td>\n",
       "      <td>1.314286</td>\n",
       "      <td>2.971086</td>\n",
       "      <td>2.098571</td>\n",
       "      <td>2.507714</td>\n",
       "      <td>2.556171</td>\n",
       "      <td>2.140000</td>\n",
       "      <td>2.534457</td>\n",
       "    </tr>\n",
       "    <tr>\n",
       "      <th>2</th>\n",
       "      <td>2</td>\n",
       "      <td>0.962963</td>\n",
       "      <td>2.854519</td>\n",
       "      <td>2.203704</td>\n",
       "      <td>2.441185</td>\n",
       "      <td>2.393778</td>\n",
       "      <td>1.992593</td>\n",
       "      <td>2.447630</td>\n",
       "    </tr>\n",
       "  </tbody>\n",
       "</table>\n",
       "</div>"
      ],
      "text/plain": [
       "   cluster_agg  cluster_not_ag  PERS_pos  PERS_neg  INDCOL_mean   consumo  \\\n",
       "0            0        0.717791  2.906748  2.058282     2.401350  2.391718   \n",
       "1            1        1.314286  2.971086  2.098571     2.507714  2.556171   \n",
       "2            2        0.962963  2.854519  2.203704     2.441185  2.393778   \n",
       "\n",
       "   spesa_mean  tecnologia  \n",
       "0    1.950920    2.465521  \n",
       "1    2.140000    2.534457  \n",
       "2    1.992593    2.447630  "
      ]
     },
     "execution_count": 410,
     "metadata": {},
     "output_type": "execute_result"
    }
   ],
   "source": [
    "table_2"
   ]
  },
  {
   "cell_type": "code",
   "execution_count": null,
   "id": "707ddbf7",
   "metadata": {},
   "outputs": [],
   "source": []
  },
  {
   "cell_type": "code",
   "execution_count": null,
   "id": "f35dac6a",
   "metadata": {},
   "outputs": [],
   "source": []
  }
 ],
 "metadata": {
  "kernelspec": {
   "display_name": "Python 3 (ipykernel)",
   "language": "python",
   "name": "python3"
  },
  "language_info": {
   "codemirror_mode": {
    "name": "ipython",
    "version": 3
   },
   "file_extension": ".py",
   "mimetype": "text/x-python",
   "name": "python",
   "nbconvert_exporter": "python",
   "pygments_lexer": "ipython3",
   "version": "3.10.9"
  }
 },
 "nbformat": 4,
 "nbformat_minor": 5
}
